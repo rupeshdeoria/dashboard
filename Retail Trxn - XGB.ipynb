{
 "cells": [
  {
   "cell_type": "code",
   "execution_count": 85,
   "id": "20f9e97e-d008-471a-ac96-83312449b21f",
   "metadata": {},
   "outputs": [],
   "source": [
    "import numpy as np # linear algebra\n",
    "import pandas as pd # data processing\n",
    "import re #pattern searching in a string\n",
    "import plotly.express as px\n",
    "import plotly as py\n",
    "import matplotlib.pyplot as plt \n",
    "import seaborn as sns\n",
    "import matplotlib.pyplot as plt\n",
    "sns.set(style='darkgrid')\n",
    "import warnings\n",
    "warnings.filterwarnings(\"ignore\")"
   ]
  },
  {
   "cell_type": "markdown",
   "id": "70787f6b-29ce-488b-b0de-b9e391fbc6ba",
   "metadata": {},
   "source": [
    "Importing 3 Year Men's Apparel Data for 2020 - 2022"
   ]
  },
  {
   "cell_type": "code",
   "execution_count": 86,
   "id": "91e974f1-7fef-4e38-967c-86f357439f61",
   "metadata": {},
   "outputs": [],
   "source": [
    "df20 = pd.read_csv(\"../prevention_analytics_pyspark/DataSet/transactions/data_2020.csv\", parse_dates=['transaction_date'])\n",
    "df21 = pd.read_csv(\"../prevention_analytics_pyspark/DataSet/transactions/data_2021.csv\", parse_dates=['transaction_date'])\n",
    "df22 = pd.read_csv(\"../prevention_analytics_pyspark/DataSet/transactions/data_2022.csv\", parse_dates=['transaction_date'])"
   ]
  },
  {
   "cell_type": "code",
   "execution_count": 87,
   "id": "b62b7c1a-9eaa-457e-82a5-214ebdec535a",
   "metadata": {},
   "outputs": [
    {
     "name": "stdout",
     "output_type": "stream",
     "text": [
      "(5395724, 12)\n"
     ]
    }
   ],
   "source": [
    "df = pd.concat([df20,df21,df22],axis=0)\n",
    "print(df.shape)"
   ]
  },
  {
   "cell_type": "markdown",
   "id": "855cf313-62bf-4378-a695-06ecadcbc264",
   "metadata": {},
   "source": [
    "Total Record Size is ~ 5.4 million and Wrangle, prepare, cleanse the data"
   ]
  },
  {
   "cell_type": "code",
   "execution_count": 88,
   "id": "8b96512a-5a3b-47e3-a779-01e38b8a2cab",
   "metadata": {},
   "outputs": [
    {
     "data": {
      "text/html": [
       "<div>\n",
       "<style scoped>\n",
       "    .dataframe tbody tr th:only-of-type {\n",
       "        vertical-align: middle;\n",
       "    }\n",
       "\n",
       "    .dataframe tbody tr th {\n",
       "        vertical-align: top;\n",
       "    }\n",
       "\n",
       "    .dataframe thead th {\n",
       "        text-align: right;\n",
       "    }\n",
       "</style>\n",
       "<table border=\"1\" class=\"dataframe\">\n",
       "  <thead>\n",
       "    <tr style=\"text-align: right;\">\n",
       "      <th></th>\n",
       "      <th>missing_count</th>\n",
       "      <th>percent_missing</th>\n",
       "    </tr>\n",
       "  </thead>\n",
       "  <tbody>\n",
       "    <tr>\n",
       "      <th>user_id</th>\n",
       "      <td>0</td>\n",
       "      <td>0.00</td>\n",
       "    </tr>\n",
       "    <tr>\n",
       "      <th>bill_id</th>\n",
       "      <td>0</td>\n",
       "      <td>0.00</td>\n",
       "    </tr>\n",
       "    <tr>\n",
       "      <th>line_item_amount</th>\n",
       "      <td>0</td>\n",
       "      <td>0.00</td>\n",
       "    </tr>\n",
       "    <tr>\n",
       "      <th>bill_discount</th>\n",
       "      <td>0</td>\n",
       "      <td>0.00</td>\n",
       "    </tr>\n",
       "    <tr>\n",
       "      <th>transaction_date</th>\n",
       "      <td>0</td>\n",
       "      <td>0.00</td>\n",
       "    </tr>\n",
       "    <tr>\n",
       "      <th>description</th>\n",
       "      <td>14</td>\n",
       "      <td>0.00</td>\n",
       "    </tr>\n",
       "    <tr>\n",
       "      <th>inventory_category</th>\n",
       "      <td>640313</td>\n",
       "      <td>11.87</td>\n",
       "    </tr>\n",
       "    <tr>\n",
       "      <th>colour</th>\n",
       "      <td>15344</td>\n",
       "      <td>0.28</td>\n",
       "    </tr>\n",
       "    <tr>\n",
       "      <th>size</th>\n",
       "      <td>15344</td>\n",
       "      <td>0.28</td>\n",
       "    </tr>\n",
       "    <tr>\n",
       "      <th>zone_name</th>\n",
       "      <td>0</td>\n",
       "      <td>0.00</td>\n",
       "    </tr>\n",
       "    <tr>\n",
       "      <th>store_name</th>\n",
       "      <td>0</td>\n",
       "      <td>0.00</td>\n",
       "    </tr>\n",
       "    <tr>\n",
       "      <th>year</th>\n",
       "      <td>0</td>\n",
       "      <td>0.00</td>\n",
       "    </tr>\n",
       "  </tbody>\n",
       "</table>\n",
       "</div>"
      ],
      "text/plain": [
       "                    missing_count  percent_missing\n",
       "user_id                         0             0.00\n",
       "bill_id                         0             0.00\n",
       "line_item_amount                0             0.00\n",
       "bill_discount                   0             0.00\n",
       "transaction_date                0             0.00\n",
       "description                    14             0.00\n",
       "inventory_category         640313            11.87\n",
       "colour                      15344             0.28\n",
       "size                        15344             0.28\n",
       "zone_name                       0             0.00\n",
       "store_name                      0             0.00\n",
       "year                            0             0.00"
      ]
     },
     "execution_count": 88,
     "metadata": {},
     "output_type": "execute_result"
    }
   ],
   "source": [
    "def find_nan(df):\n",
    "    columns = df.columns\n",
    "    col_values = df.isna().sum().values\n",
    "    temp = pd.DataFrame(data=col_values,index=columns,columns=['missing_count'])\n",
    "    temp['percent_missing'] = np.round((temp['missing_count'] / df.shape[0]) *100 ,2)\n",
    "    return temp\n",
    "\n",
    "find_nan(df)"
   ]
  },
  {
   "cell_type": "code",
   "execution_count": 89,
   "id": "1a51efeb-b1e2-4988-8ed9-c7eff9cba548",
   "metadata": {},
   "outputs": [],
   "source": [
    "df.description = df.description.fillna(df.inventory_category)\n",
    "df.description = df.description.fillna(\"Misc\")"
   ]
  },
  {
   "cell_type": "markdown",
   "id": "9f170ea1-3e4d-4376-a86b-b75b47179507",
   "metadata": {},
   "source": [
    "Defining the product code"
   ]
  },
  {
   "cell_type": "code",
   "execution_count": 90,
   "id": "3997728d-8a81-44af-98fb-ebc1d4db5346",
   "metadata": {},
   "outputs": [],
   "source": [
    "def get_product(txt,pattern):\n",
    "    if isinstance(txt, str):\n",
    "\n",
    "        #search and check if split word exists\n",
    "        searched_word = re.search(pattern, txt)\n",
    "        \n",
    "        #word exists\n",
    "        if searched_word:\n",
    "            splitted_string = re.split(pattern, txt)[0]\n",
    "            # check if empty list is returned->when there is only pattern available in 'txt'\n",
    "            if splitted_string == '':\n",
    "                return 'Misc'\n",
    "            else:\n",
    "                return splitted_string.strip()\n",
    "            \n",
    "        #split word not exists(but the product name can still be present , so we'll need the entire string)\n",
    "        else:\n",
    "            return txt\n",
    "        \n",
    "    # any other value found other than string datatype\n",
    "    else:\n",
    "        return 'Misc'\n",
    "    \n",
    "df['desc_copy'] = df['description'].copy()\n",
    "df['desc_copy'] = df['desc_copy'].fillna('Misc')\n",
    "\n",
    "#for patterns starting with IT,CORE-, A16-,A17-,S16-,S18-,TBA07SD7890(LENGTH=11)\n",
    "df[['product']] = df[['desc_copy']].applymap(lambda row:get_product(row,pattern=r'IT[A-Z0-9]+|CORE-|\\b[A-Z]\\d{2}-|\\b[A-Z0-9]{11}\\b')) \n",
    "\n",
    "#product names are acronyms are their lengths are not greater than 2.\n",
    "df[['product']] = df[['product']].applymap(lambda row: 'Misc' if len(row.split())>=2 else row)"
   ]
  },
  {
   "cell_type": "code",
   "execution_count": 91,
   "id": "0beab103-1198-4640-80ff-51d3de24b337",
   "metadata": {},
   "outputs": [],
   "source": [
    "df['ic_copy'] = df['inventory_category'].copy()\n",
    "df['ic_copy'] = df['ic_copy'].fillna('Misc')\n",
    "df[['ic_copy']] = df[['ic_copy']].applymap(lambda row: re.sub(r'na','',row,flags=re.IGNORECASE))\n",
    "\n",
    "df['colour'] = df['colour'].fillna('Misc')\n",
    "df['colour'] = df['colour'].str.replace('NOT-CAPTURED','Misc')\n",
    "\n",
    "df['size'] = df['size'].fillna('Misc')\n",
    "df['size'] = df['size'].str.replace('NOT-CAPTURED','Misc')"
   ]
  },
  {
   "cell_type": "markdown",
   "id": "e85d8874-614f-4e91-bb94-41f1e09b0e82",
   "metadata": {},
   "source": [
    "Getting unique colors"
   ]
  },
  {
   "cell_type": "code",
   "execution_count": 92,
   "id": "4b897085-cc33-4356-84d8-84f219f1e7ec",
   "metadata": {},
   "outputs": [
    {
     "name": "stdout",
     "output_type": "stream",
     "text": [
      "Unique colours count before: 344\n",
      "Colours found:  2259362\n",
      "Unique colours count after: 390\n"
     ]
    }
   ],
   "source": [
    "## IDENTIFYING COLOURS\n",
    "all_colours = df['colour'].value_counts().index.tolist()\n",
    "pattern = r'\\b(?:' + '|'.join(re.escape(color)  for color in all_colours if isinstance(color,str)) + r')\\b'\n",
    "\n",
    "def find(txt,pattern):\n",
    "    x = re.findall(pattern, txt,flags=re.IGNORECASE)\n",
    "    if x==[]:\n",
    "        return ('Misc')\n",
    "    return ' '.join(x)\n",
    "\n",
    "print('Unique colours count before:',len(df['colour'].unique()))\n",
    "\n",
    "unknown_colours_bef = df[df['colour']=='Misc'].shape[0]\n",
    "df.loc[(df['colour']=='Misc'),'colour'] = df.loc[(df['colour']=='Misc'),'ic_copy'].map(lambda row: find(row,pattern))\n",
    "unknown_colours_after = df[df['colour']=='Misc'].shape[0]\n",
    "print('Colours found: ',unknown_colours_bef - unknown_colours_after)\n",
    "\n",
    "print('Unique colours count after:',len(df['colour'].unique()))"
   ]
  },
  {
   "cell_type": "markdown",
   "id": "1e574d60-8b85-41cb-a4ce-ce82a168a917",
   "metadata": {},
   "source": [
    "Getting Size for each product"
   ]
  },
  {
   "cell_type": "code",
   "execution_count": 93,
   "id": "7dcdf349-b715-4e7a-a640-8c9f68933309",
   "metadata": {},
   "outputs": [
    {
     "name": "stdout",
     "output_type": "stream",
     "text": [
      "Unique size count before: 52\n",
      "Sizes found:  2567244\n",
      "Unique size count after: 107\n"
     ]
    }
   ],
   "source": [
    "## IDENTIFYING SIZE\n",
    "all_size = df['size'].unique().tolist()\n",
    "pattern = r'\\b(?:' + '|'.join(re.escape(size) for size in all_size if isinstance(size,str)) + r')\\b'\n",
    "\n",
    "print('Unique size count before:',len(df['size'].unique()))\n",
    "\n",
    "unknown_size_bef = df[df['size']=='Misc'].shape[0]\n",
    "df.loc[(df['size']=='Misc'),'size'] = df.loc[(df['size']=='Misc'),'ic_copy'].map(lambda row: find(row,pattern))\n",
    "df.loc[(df['size']=='Misc'),'size'] = df.loc[(df['size']=='Misc'),'ic_copy'].map(lambda row: find(row,r'\\d*x\\d*x\\d*|\\d*mm|\\d*cm|\\d*m'))\n",
    "unknown_size_after = df[df['size']=='Misc'].shape[0]\n",
    "print('Sizes found: ',unknown_size_bef - unknown_size_after)\n",
    "\n",
    "print('Unique size count after:',len(df['size'].unique()))"
   ]
  },
  {
   "cell_type": "code",
   "execution_count": 94,
   "id": "235fbf9e-ee33-4417-aa2f-0a1bd64252ed",
   "metadata": {},
   "outputs": [],
   "source": [
    "replace = {'TR':'MENS TROUSER',\n",
    "'MSP':'MENS SPORTSCOAT',\n",
    "'BSP':'MENS SPORTSCOAT',\n",
    "'TWB': 'MENS TROUSER WITH BELT',\n",
    "'JKT': 'MENS JACKET',\n",
    "'SH':'MENS SHIRT',\n",
    "'MSH':'MENS SHIRT',\n",
    "'MTR':'MENS TROUSER WITH BELT',\n",
    "'MBL':'MENS BELT',\n",
    "'BLT':'MENS BELT',\n",
    "'SR':'MENS SHORTS',\n",
    "'MTS':'MENS T-SHIRT',\n",
    "'TS':'MENS T-SHIRT',\n",
    "'BSH':'BOYS SHIRT',\n",
    "'SW':'MENS SWEATER',\n",
    "'BDE':'BOYS DENIM',\n",
    "'MFW':'MENS FOOTWEAR',\n",
    "'FW':'MENS FOOTWEAR',\n",
    "'BDNM':'BOYS DENIM',\n",
    "'SX':'MENS SOCKS',\n",
    "'MSO':'MENS SHORTS',\n",
    "'SO':'MENS SHORTS',\n",
    "'MDE':'MENS DENIM',\n",
    "'BTS':'BOYS T-SHIRT',\n",
    "'BSO':'BOYS SHORTS',\n",
    "'MDNM':'MENS DENIM',\n",
    "'BTR':'BOYS TROUSER',\n",
    "'MSW':'MENS SWEATER',\n",
    "'SCKS':'MENS SOCKS',\n",
    "'MSX':'MENS SOCKS',\n",
    "'BSW':'BOYS SWEATER',\n",
    "'MJKT':'MENS JACKET',\n",
    "'MJA':'MENS JACKET',\n",
    "'BJKT':'BOYS JACKET',\n",
    "'BJO':'BOYS Jogger',\n",
    "'MSC':'MENS JACKET',\n",
    "'BS':'BOYS SHIRT',\n",
    "'MWL':'Mens Wallet - Sportswear',\n",
    "'BJA':'BOYS JACKET',\n",
    "'BSR':'BOYS SHORTS',\n",
    "'MDN':'MENS Denim Trouser',\n",
    "'BDN':'Boys Denim Trouser - Jeanswear',\n",
    "'KT':'MENS KNIT TROUSER',\n",
    "'MJGR':'MENS JOGGER',\n",
    "'TBG':'Trolley Bag',\n",
    "'CBG':'CARRY BAG',\n",
    "'MTIE':'MALE TIE',\n",
    "'MJO':'MENS JOGGER',\n",
    "'MWC':'MENS BANDI'}\n",
    "\n",
    "df['inventory_category'] = df['product'].map(lambda x: replace[x] if x in replace.keys() else x)"
   ]
  },
  {
   "cell_type": "code",
   "execution_count": 95,
   "id": "1de666dd-fc82-4243-b1e7-e27993ed3097",
   "metadata": {},
   "outputs": [
    {
     "data": {
      "text/html": [
       "<div>\n",
       "<style scoped>\n",
       "    .dataframe tbody tr th:only-of-type {\n",
       "        vertical-align: middle;\n",
       "    }\n",
       "\n",
       "    .dataframe tbody tr th {\n",
       "        vertical-align: top;\n",
       "    }\n",
       "\n",
       "    .dataframe thead th {\n",
       "        text-align: right;\n",
       "    }\n",
       "</style>\n",
       "<table border=\"1\" class=\"dataframe\">\n",
       "  <thead>\n",
       "    <tr style=\"text-align: right;\">\n",
       "      <th></th>\n",
       "      <th>missing_count</th>\n",
       "      <th>percent_missing</th>\n",
       "    </tr>\n",
       "  </thead>\n",
       "  <tbody>\n",
       "    <tr>\n",
       "      <th>user_id</th>\n",
       "      <td>0</td>\n",
       "      <td>0.0</td>\n",
       "    </tr>\n",
       "    <tr>\n",
       "      <th>bill_id</th>\n",
       "      <td>0</td>\n",
       "      <td>0.0</td>\n",
       "    </tr>\n",
       "    <tr>\n",
       "      <th>line_item_amount</th>\n",
       "      <td>0</td>\n",
       "      <td>0.0</td>\n",
       "    </tr>\n",
       "    <tr>\n",
       "      <th>bill_discount</th>\n",
       "      <td>0</td>\n",
       "      <td>0.0</td>\n",
       "    </tr>\n",
       "    <tr>\n",
       "      <th>transaction_date</th>\n",
       "      <td>0</td>\n",
       "      <td>0.0</td>\n",
       "    </tr>\n",
       "    <tr>\n",
       "      <th>description</th>\n",
       "      <td>0</td>\n",
       "      <td>0.0</td>\n",
       "    </tr>\n",
       "    <tr>\n",
       "      <th>inventory_category</th>\n",
       "      <td>0</td>\n",
       "      <td>0.0</td>\n",
       "    </tr>\n",
       "    <tr>\n",
       "      <th>colour</th>\n",
       "      <td>0</td>\n",
       "      <td>0.0</td>\n",
       "    </tr>\n",
       "    <tr>\n",
       "      <th>size</th>\n",
       "      <td>0</td>\n",
       "      <td>0.0</td>\n",
       "    </tr>\n",
       "    <tr>\n",
       "      <th>zone_name</th>\n",
       "      <td>0</td>\n",
       "      <td>0.0</td>\n",
       "    </tr>\n",
       "    <tr>\n",
       "      <th>store_name</th>\n",
       "      <td>0</td>\n",
       "      <td>0.0</td>\n",
       "    </tr>\n",
       "    <tr>\n",
       "      <th>year</th>\n",
       "      <td>0</td>\n",
       "      <td>0.0</td>\n",
       "    </tr>\n",
       "    <tr>\n",
       "      <th>desc_copy</th>\n",
       "      <td>0</td>\n",
       "      <td>0.0</td>\n",
       "    </tr>\n",
       "    <tr>\n",
       "      <th>product</th>\n",
       "      <td>0</td>\n",
       "      <td>0.0</td>\n",
       "    </tr>\n",
       "    <tr>\n",
       "      <th>ic_copy</th>\n",
       "      <td>0</td>\n",
       "      <td>0.0</td>\n",
       "    </tr>\n",
       "  </tbody>\n",
       "</table>\n",
       "</div>"
      ],
      "text/plain": [
       "                    missing_count  percent_missing\n",
       "user_id                         0              0.0\n",
       "bill_id                         0              0.0\n",
       "line_item_amount                0              0.0\n",
       "bill_discount                   0              0.0\n",
       "transaction_date                0              0.0\n",
       "description                     0              0.0\n",
       "inventory_category              0              0.0\n",
       "colour                          0              0.0\n",
       "size                            0              0.0\n",
       "zone_name                       0              0.0\n",
       "store_name                      0              0.0\n",
       "year                            0              0.0\n",
       "desc_copy                       0              0.0\n",
       "product                         0              0.0\n",
       "ic_copy                         0              0.0"
      ]
     },
     "execution_count": 95,
     "metadata": {},
     "output_type": "execute_result"
    }
   ],
   "source": [
    "find_nan(df)"
   ]
  },
  {
   "cell_type": "code",
   "execution_count": 96,
   "id": "0a838ac5-f659-4293-b216-82f4702d1abe",
   "metadata": {},
   "outputs": [
    {
     "data": {
      "text/html": [
       "<div>\n",
       "<style scoped>\n",
       "    .dataframe tbody tr th:only-of-type {\n",
       "        vertical-align: middle;\n",
       "    }\n",
       "\n",
       "    .dataframe tbody tr th {\n",
       "        vertical-align: top;\n",
       "    }\n",
       "\n",
       "    .dataframe thead th {\n",
       "        text-align: right;\n",
       "    }\n",
       "</style>\n",
       "<table border=\"1\" class=\"dataframe\">\n",
       "  <thead>\n",
       "    <tr style=\"text-align: right;\">\n",
       "      <th></th>\n",
       "      <th>user_id</th>\n",
       "      <th>bill_id</th>\n",
       "      <th>line_item_amount</th>\n",
       "      <th>bill_discount</th>\n",
       "      <th>transaction_date</th>\n",
       "      <th>description</th>\n",
       "      <th>inventory_category</th>\n",
       "      <th>colour</th>\n",
       "      <th>size</th>\n",
       "      <th>zone_name</th>\n",
       "      <th>store_name</th>\n",
       "      <th>year</th>\n",
       "      <th>desc_copy</th>\n",
       "      <th>product</th>\n",
       "      <th>ic_copy</th>\n",
       "      <th>month</th>\n",
       "      <th>weekday</th>\n",
       "    </tr>\n",
       "  </thead>\n",
       "  <tbody>\n",
       "    <tr>\n",
       "      <th>1198069</th>\n",
       "      <td>452731212</td>\n",
       "      <td>640372730</td>\n",
       "      <td>249.0</td>\n",
       "      <td>0.0</td>\n",
       "      <td>2021-08-13</td>\n",
       "      <td>TBG ITPTB00008 NA NA Brown (46x23x26)</td>\n",
       "      <td>Trolley Bag</td>\n",
       "      <td>Brown</td>\n",
       "      <td>46x23x26</td>\n",
       "      <td>3</td>\n",
       "      <td>North_7289</td>\n",
       "      <td>2021</td>\n",
       "      <td>TBG ITPTB00008 NA NA Brown (46x23x26)</td>\n",
       "      <td>TBG</td>\n",
       "      <td>TBG ITPTB00008   Brown (46x23x26)</td>\n",
       "      <td>8</td>\n",
       "      <td>5</td>\n",
       "    </tr>\n",
       "    <tr>\n",
       "      <th>1482601</th>\n",
       "      <td>500150657</td>\n",
       "      <td>671336513</td>\n",
       "      <td>1499.0</td>\n",
       "      <td>0.0</td>\n",
       "      <td>2021-11-29</td>\n",
       "      <td>MTS ITMTS01073 Regular SS Indigo XL</td>\n",
       "      <td>MENS T-SHIRT</td>\n",
       "      <td>Indigo</td>\n",
       "      <td>XL</td>\n",
       "      <td>2</td>\n",
       "      <td>South_7281</td>\n",
       "      <td>2021</td>\n",
       "      <td>MTS ITMTS01073 Regular SS Indigo XL</td>\n",
       "      <td>MTS</td>\n",
       "      <td>MTS ITMTS01073 Regular SS Indigo XL</td>\n",
       "      <td>11</td>\n",
       "      <td>1</td>\n",
       "    </tr>\n",
       "  </tbody>\n",
       "</table>\n",
       "</div>"
      ],
      "text/plain": [
       "           user_id    bill_id  line_item_amount  bill_discount  \\\n",
       "1198069  452731212  640372730             249.0            0.0   \n",
       "1482601  500150657  671336513            1499.0            0.0   \n",
       "\n",
       "        transaction_date                            description  \\\n",
       "1198069       2021-08-13  TBG ITPTB00008 NA NA Brown (46x23x26)   \n",
       "1482601       2021-11-29    MTS ITMTS01073 Regular SS Indigo XL   \n",
       "\n",
       "        inventory_category  colour      size  zone_name  store_name  year  \\\n",
       "1198069        Trolley Bag   Brown  46x23x26          3  North_7289  2021   \n",
       "1482601       MENS T-SHIRT  Indigo        XL          2  South_7281  2021   \n",
       "\n",
       "                                     desc_copy product  \\\n",
       "1198069  TBG ITPTB00008 NA NA Brown (46x23x26)     TBG   \n",
       "1482601    MTS ITMTS01073 Regular SS Indigo XL     MTS   \n",
       "\n",
       "                                     ic_copy  month  weekday  \n",
       "1198069    TBG ITPTB00008   Brown (46x23x26)      8        5  \n",
       "1482601  MTS ITMTS01073 Regular SS Indigo XL     11        1  "
      ]
     },
     "execution_count": 96,
     "metadata": {},
     "output_type": "execute_result"
    }
   ],
   "source": [
    "# extract weekday and month from transaction date\n",
    "df['month'] = df['transaction_date'].dt.month_name().map({'January':1, 'February':2,'March':3, 'April':4, 'May':5,  'June':6, 'July':7, 'August':8, 'September':9, 'October':10, 'November':11, 'December':12})\n",
    "df['weekday'] = df['transaction_date'].dt.day_name().map({'Monday':1, 'Tuesday':2,'Wednesday':3, 'Thursday':4, 'Friday':5,  'Saturday':6, 'Sunday':7})\n",
    "df['zone_name'] = df['zone_name'].map({'East':1, 'South':2, 'North':3, 'West':4, 'ROOT':5, 'Central':6}).astype(int)\n",
    "df.sample(2)"
   ]
  },
  {
   "cell_type": "code",
   "execution_count": 97,
   "id": "7163ea39-1574-4c3a-9556-5ea5095b6421",
   "metadata": {},
   "outputs": [],
   "source": [
    "from datetime import datetime\n",
    "df[\"transaction_date\"] = df[\"transaction_date\"].dt.date"
   ]
  },
  {
   "cell_type": "code",
   "execution_count": 98,
   "id": "b171d73a-4e25-4559-8c4a-5cad0781f353",
   "metadata": {},
   "outputs": [],
   "source": [
    "import datetime as dt\n",
    "snapshot_date = max(df.transaction_date) + dt.timedelta(days=1)"
   ]
  },
  {
   "cell_type": "markdown",
   "id": "4517fda8-0aab-418e-b00c-e758d68c8021",
   "metadata": {},
   "source": [
    "RFM Analysis Begins : \n",
    "1. Reading data and preprocessing\n",
    "2. \n",
    "Create Recency Frequency Monetary (RFM) tabl\n",
    "3. \n",
    "Model - Clustering with K-means algorim\n",
    "4. m\n",
    "Interpret the ults\n",
    "\n",
    "RFM is abasic customer segmentation algorithm based on their purchasing behaviour. The behaviour is identified by using only three customer data points:\n",
    "\n",
    "Recency: the recency of purchase/ How many days ago was their last purchase?\n",
    "Frequency: the frequency of purchases/ total number of purchases/How many times has the customer purchased from our store?\n",
    "Monetary: the mean monetary value of each purchase/the amount they have spent/How much has this customer spent? Again limit to last two years – or take all time\n",
    "The RFM Analysis will help the businesses to segment their customer base into different homogenous groups so that they can engage with each group with different targeted marketing strategies. Sometime RMF is also used to identify the High-Value Customers (HVCs).ult"
   ]
  },
  {
   "cell_type": "code",
   "execution_count": 99,
   "id": "545f64ff-330a-445d-8274-aed5c5d65172",
   "metadata": {},
   "outputs": [],
   "source": [
    "# RFM table\n",
    "# Aggregate data by each customer\n",
    "rfm = df.groupby('user_id').agg({'transaction_date': lambda x: (snapshot_date - x.max()).days, 'bill_id': lambda x: len(x.unique()), 'line_item_amount': lambda x: x.sum(), 'bill_discount': lambda x: x.sum(), 'product': lambda x: x.count()}).reset_index()\n",
    "rfm['transaction_date'] = rfm['transaction_date'].astype(int)\n",
    "\n",
    "# Rename columns\n",
    "rfm.rename(columns={'transaction_date': 'Recency', \n",
    "                         'bill_id': 'Frequency', \n",
    "                         'line_item_amount': 'MonetaryValue','bill_discount':'DiscountValue', 'product':'Product'}, inplace=True)"
   ]
  },
  {
   "cell_type": "code",
   "execution_count": 100,
   "id": "353f8b07-a4bd-42dc-870f-0eb41ee6c551",
   "metadata": {},
   "outputs": [],
   "source": [
    "# Rename columns\n",
    "rfm.rename(columns={'transaction_date': 'Recency', \n",
    "                         'bill_id': 'Frequency', \n",
    "                         'line_item_amount': 'MonetaryValue','bill_discount':'DiscountValue', 'product':'Product'}, inplace=True)"
   ]
  },
  {
   "cell_type": "markdown",
   "id": "c6507b22-be64-4604-ab17-052dfd34e2c2",
   "metadata": {},
   "source": [
    "We will utilize variables that use box-cox transformations. Except for the MonetaryValue and DiscountValue variable because the variable includes negative values. To handle this variable, we can use cubic root transformation to the data."
   ]
  },
  {
   "cell_type": "code",
   "execution_count": 101,
   "id": "3b9b40e0-d588-486c-b5eb-971b3c346cd3",
   "metadata": {},
   "outputs": [
    {
     "data": {
      "text/html": [
       "<div>\n",
       "<style scoped>\n",
       "    .dataframe tbody tr th:only-of-type {\n",
       "        vertical-align: middle;\n",
       "    }\n",
       "\n",
       "    .dataframe tbody tr th {\n",
       "        vertical-align: top;\n",
       "    }\n",
       "\n",
       "    .dataframe thead th {\n",
       "        text-align: right;\n",
       "    }\n",
       "</style>\n",
       "<table border=\"1\" class=\"dataframe\">\n",
       "  <thead>\n",
       "    <tr style=\"text-align: right;\">\n",
       "      <th></th>\n",
       "      <th>Recency</th>\n",
       "      <th>Frequency</th>\n",
       "      <th>MonetaryValue</th>\n",
       "      <th>DiscountValue</th>\n",
       "      <th>Product</th>\n",
       "    </tr>\n",
       "  </thead>\n",
       "  <tbody>\n",
       "    <tr>\n",
       "      <th>643776</th>\n",
       "      <td>20.218111</td>\n",
       "      <td>0.0</td>\n",
       "      <td>17.322563</td>\n",
       "      <td>18.978732</td>\n",
       "      <td>1.167247</td>\n",
       "    </tr>\n",
       "    <tr>\n",
       "      <th>643777</th>\n",
       "      <td>20.065915</td>\n",
       "      <td>0.0</td>\n",
       "      <td>20.405875</td>\n",
       "      <td>29.782875</td>\n",
       "      <td>1.437462</td>\n",
       "    </tr>\n",
       "    <tr>\n",
       "      <th>643778</th>\n",
       "      <td>22.356589</td>\n",
       "      <td>0.0</td>\n",
       "      <td>20.949995</td>\n",
       "      <td>19.574338</td>\n",
       "      <td>1.319416</td>\n",
       "    </tr>\n",
       "    <tr>\n",
       "      <th>643779</th>\n",
       "      <td>22.176344</td>\n",
       "      <td>0.0</td>\n",
       "      <td>19.125667</td>\n",
       "      <td>19.309788</td>\n",
       "      <td>1.167247</td>\n",
       "    </tr>\n",
       "    <tr>\n",
       "      <th>643780</th>\n",
       "      <td>18.121678</td>\n",
       "      <td>0.0</td>\n",
       "      <td>17.322560</td>\n",
       "      <td>25.194221</td>\n",
       "      <td>1.167247</td>\n",
       "    </tr>\n",
       "  </tbody>\n",
       "</table>\n",
       "</div>"
      ],
      "text/plain": [
       "          Recency  Frequency  MonetaryValue  DiscountValue   Product\n",
       "643776  20.218111        0.0      17.322563      18.978732  1.167247\n",
       "643777  20.065915        0.0      20.405875      29.782875  1.437462\n",
       "643778  22.356589        0.0      20.949995      19.574338  1.319416\n",
       "643779  22.176344        0.0      19.125667      19.309788  1.167247\n",
       "643780  18.121678        0.0      17.322560      25.194221  1.167247"
      ]
     },
     "execution_count": 101,
     "metadata": {},
     "output_type": "execute_result"
    }
   ],
   "source": [
    "# Set the Numbers\n",
    "from scipy import stats\n",
    "customers_fix = pd.DataFrame()\n",
    "customers_fix[\"Recency\"] = stats.boxcox(rfm['Recency'])[0]\n",
    "customers_fix[\"Frequency\"] = stats.boxcox(rfm['Frequency'])[0]\n",
    "customers_fix[\"MonetaryValue\"] = pd.Series(np.cbrt(rfm['MonetaryValue'])).values\n",
    "customers_fix[\"DiscountValue\"]  = pd.Series(np.cbrt(rfm['DiscountValue'])).values\n",
    "customers_fix[\"Product\"] = stats.boxcox(rfm['Product'])[0]\n",
    "customers_fix.tail()"
   ]
  },
  {
   "cell_type": "markdown",
   "id": "b5b4f6c2-ab9e-4369-9461-e712fdf1f026",
   "metadata": {},
   "source": [
    "Normalization: we can use StandardScaler object from scikit-learn library"
   ]
  },
  {
   "cell_type": "code",
   "execution_count": 102,
   "id": "07416d6a-c8f9-4519-9ffa-6dd86a198f07",
   "metadata": {},
   "outputs": [
    {
     "name": "stdout",
     "output_type": "stream",
     "text": [
      "[-0. -0. -0.  0.  0.]\n",
      "[1. 1. 1. 1. 1.]\n"
     ]
    }
   ],
   "source": [
    "# Import library\n",
    "from sklearn.preprocessing import StandardScaler\n",
    "# Initialize the Object\n",
    "scaler = StandardScaler()\n",
    "# Fit and Transform The Data\n",
    "scaler.fit(customers_fix)\n",
    "customers_normalized = scaler.transform(customers_fix)\n",
    "# Assert that it has mean 0 and variance 1\n",
    "print(customers_normalized.mean(axis = 0).round(2)) \n",
    "print(customers_normalized.std(axis = 0).round(2)) "
   ]
  },
  {
   "cell_type": "markdown",
   "id": "78bfd259-0ff6-49a2-af72-91330d737c04",
   "metadata": {},
   "source": [
    "To make segmentation from the data, we can use the K-Means algorithm to do this.\n",
    "\n",
    "K-Means algorithm is an unsupervised learning algorithm that uses the geometrical principle to determine which cluster belongs to the data. By determine each centroid, we calculate the distance to each centroid. Each data belongs to a centroid if it has the smallest distance from the other. It repeats until the next total of the distance doesn’t have significant changes than before.\n",
    "\n",
    "Determine the Optimal K\n",
    "To make our clustering reach its maximum performance, we have to determine which hyperparameter fits to the data. To determine which hyperparameter is the best for our model and data, we can use the elbow method to decide."
   ]
  },
  {
   "cell_type": "code",
   "execution_count": 103,
   "id": "3b0dcb77-b2f8-40af-96e1-8487e0839c5e",
   "metadata": {},
   "outputs": [
    {
     "data": {
      "image/png": "[encoded data removed]",
      "text/plain": [
       "<Figure size 1200x800 with 1 Axes>"
      ]
     },
     "metadata": {},
     "output_type": "display_data"
    }
   ],
   "source": [
    "plt.figure(figsize=(12,8))\n",
    "\n",
    "from sklearn.cluster import KMeans\n",
    "from scipy.spatial.distance import cdist\n",
    "K = range(1, 20)\n",
    "\n",
    "distortions = []\n",
    "inertias = []\n",
    "mapping1 = {}\n",
    "sse = {}\n",
    "for k in K:\n",
    "    kmeans = KMeans(n_clusters=k, random_state=42)\n",
    "    kmeans.fit(customers_normalized)\n",
    "    \n",
    "    distortions.append(sum(np.min(cdist(customers_normalized, kmeans.cluster_centers_,\n",
    "                                        'euclidean'), axis=1)) / customers_normalized.shape[0])\n",
    "    inertias.append(kmeans.inertia_)\n",
    " \n",
    "    mapping1[k] = sum(np.min(cdist(customers_normalized, kmeans.cluster_centers_,\n",
    "                                   'euclidean'), axis=1)) / customers_normalized.shape[0]\n",
    "    \n",
    "    sse[k] = kmeans.inertia_ # SSE to closest cluster centroid\n",
    "\n",
    "plt.title('The Elbow Method')\n",
    "plt.xlabel('k')\n",
    "plt.ylabel('SSE')\n",
    "sns.pointplot(x=list(sse.keys()), y=list(sse.values()))\n",
    "plt.show()"
   ]
  },
  {
   "cell_type": "code",
   "execution_count": 104,
   "id": "ea1f31c7-a961-4718-a4a7-f28b3f182dae",
   "metadata": {},
   "outputs": [
    {
     "name": "stdout",
     "output_type": "stream",
     "text": [
      "1 : 1.9687570536901775\n",
      "2 : 1.4974057057216759\n",
      "3 : 1.343035693436815\n",
      "4 : 1.3035518512525683\n",
      "5 : 1.124292031114789\n",
      "6 : 1.0668346238365012\n",
      "7 : 0.971655217206543\n",
      "8 : 0.9278547365207424\n",
      "9 : 0.9120725009512864\n",
      "10 : 0.875729161907317\n",
      "11 : 0.8140837230465732\n",
      "12 : 0.7712712720399666\n",
      "13 : 0.7633685900529279\n",
      "14 : 0.7294977304284013\n",
      "15 : 0.7033931740252874\n",
      "16 : 0.6739717868947299\n",
      "17 : 0.6678313512636338\n",
      "18 : 0.6595278665059036\n",
      "19 : 0.6541796998541368\n"
     ]
    }
   ],
   "source": [
    "for key, val in mapping1.items():\n",
    "    print(f'{key} : {val}')"
   ]
  },
  {
   "cell_type": "code",
   "execution_count": 105,
   "id": "c977ba6e-a2ce-442e-8889-d727f096ee30",
   "metadata": {},
   "outputs": [
    {
     "data": {
      "text/plain": [
       "(643781,)"
      ]
     },
     "execution_count": 105,
     "metadata": {},
     "output_type": "execute_result"
    }
   ],
   "source": [
    "model = KMeans(n_clusters=3, random_state=42)\n",
    "model.fit(customers_normalized)\n",
    "model.labels_.shape"
   ]
  },
  {
   "cell_type": "code",
   "execution_count": 106,
   "id": "4a18d8ec-3497-4a54-b928-36344ca2be6d",
   "metadata": {},
   "outputs": [
    {
     "data": {
      "text/html": [
       "<div>\n",
       "<style scoped>\n",
       "    .dataframe tbody tr th:only-of-type {\n",
       "        vertical-align: middle;\n",
       "    }\n",
       "\n",
       "    .dataframe tbody tr th {\n",
       "        vertical-align: top;\n",
       "    }\n",
       "\n",
       "    .dataframe thead th {\n",
       "        text-align: right;\n",
       "    }\n",
       "</style>\n",
       "<table border=\"1\" class=\"dataframe\">\n",
       "  <thead>\n",
       "    <tr style=\"text-align: right;\">\n",
       "      <th></th>\n",
       "      <th>user_id</th>\n",
       "      <th>Recency</th>\n",
       "      <th>Frequency</th>\n",
       "      <th>MonetaryValue</th>\n",
       "      <th>DiscountValue</th>\n",
       "      <th>Product</th>\n",
       "      <th>Cluster</th>\n",
       "    </tr>\n",
       "  </thead>\n",
       "  <tbody>\n",
       "    <tr>\n",
       "      <th>0</th>\n",
       "      <td>50049</td>\n",
       "      <td>205</td>\n",
       "      <td>2</td>\n",
       "      <td>8805.0001</td>\n",
       "      <td>0.0</td>\n",
       "      <td>10</td>\n",
       "      <td>2</td>\n",
       "    </tr>\n",
       "    <tr>\n",
       "      <th>1</th>\n",
       "      <td>50174</td>\n",
       "      <td>386</td>\n",
       "      <td>5</td>\n",
       "      <td>24389.9998</td>\n",
       "      <td>2000.0</td>\n",
       "      <td>13</td>\n",
       "      <td>0</td>\n",
       "    </tr>\n",
       "    <tr>\n",
       "      <th>2</th>\n",
       "      <td>50511</td>\n",
       "      <td>300</td>\n",
       "      <td>3</td>\n",
       "      <td>16246.0021</td>\n",
       "      <td>0.0</td>\n",
       "      <td>11</td>\n",
       "      <td>2</td>\n",
       "    </tr>\n",
       "    <tr>\n",
       "      <th>3</th>\n",
       "      <td>50565</td>\n",
       "      <td>138</td>\n",
       "      <td>4</td>\n",
       "      <td>14108.0010</td>\n",
       "      <td>2478.0</td>\n",
       "      <td>15</td>\n",
       "      <td>0</td>\n",
       "    </tr>\n",
       "    <tr>\n",
       "      <th>4</th>\n",
       "      <td>53762</td>\n",
       "      <td>701</td>\n",
       "      <td>1</td>\n",
       "      <td>5397.9999</td>\n",
       "      <td>0.0</td>\n",
       "      <td>3</td>\n",
       "      <td>1</td>\n",
       "    </tr>\n",
       "  </tbody>\n",
       "</table>\n",
       "</div>"
      ],
      "text/plain": [
       "   user_id  Recency  Frequency  MonetaryValue  DiscountValue  Product  Cluster\n",
       "0    50049      205          2      8805.0001            0.0       10        2\n",
       "1    50174      386          5     24389.9998         2000.0       13        0\n",
       "2    50511      300          3     16246.0021            0.0       11        2\n",
       "3    50565      138          4     14108.0010         2478.0       15        0\n",
       "4    53762      701          1      5397.9999            0.0        3        1"
      ]
     },
     "execution_count": 106,
     "metadata": {},
     "output_type": "execute_result"
    }
   ],
   "source": [
    "rfm[\"Cluster\"] = model.labels_\n",
    "rfm.head()"
   ]
  },
  {
   "cell_type": "code",
   "execution_count": 107,
   "id": "419a9f13-ae3c-455d-85cd-4a3826fa7998",
   "metadata": {},
   "outputs": [
    {
     "data": {
      "text/html": [
       "<div>\n",
       "<style scoped>\n",
       "    .dataframe tbody tr th:only-of-type {\n",
       "        vertical-align: middle;\n",
       "    }\n",
       "\n",
       "    .dataframe tbody tr th {\n",
       "        vertical-align: top;\n",
       "    }\n",
       "\n",
       "    .dataframe thead tr th {\n",
       "        text-align: left;\n",
       "    }\n",
       "\n",
       "    .dataframe thead tr:last-of-type th {\n",
       "        text-align: right;\n",
       "    }\n",
       "</style>\n",
       "<table border=\"1\" class=\"dataframe\">\n",
       "  <thead>\n",
       "    <tr>\n",
       "      <th></th>\n",
       "      <th>Recency</th>\n",
       "      <th>Frequency</th>\n",
       "      <th colspan=\"2\" halign=\"left\">MonetaryValue</th>\n",
       "      <th colspan=\"2\" halign=\"left\">DiscountValue</th>\n",
       "      <th>Product</th>\n",
       "    </tr>\n",
       "    <tr>\n",
       "      <th></th>\n",
       "      <th>mean</th>\n",
       "      <th>mean</th>\n",
       "      <th>mean</th>\n",
       "      <th>count</th>\n",
       "      <th>mean</th>\n",
       "      <th>count</th>\n",
       "      <th>count</th>\n",
       "    </tr>\n",
       "    <tr>\n",
       "      <th>Cluster</th>\n",
       "      <th></th>\n",
       "      <th></th>\n",
       "      <th></th>\n",
       "      <th></th>\n",
       "      <th></th>\n",
       "      <th></th>\n",
       "      <th></th>\n",
       "    </tr>\n",
       "  </thead>\n",
       "  <tbody>\n",
       "    <tr>\n",
       "      <th>0</th>\n",
       "      <td>180.8</td>\n",
       "      <td>7.2</td>\n",
       "      <td>57460.5</td>\n",
       "      <td>45094</td>\n",
       "      <td>12267.0</td>\n",
       "      <td>45094</td>\n",
       "      <td>45094</td>\n",
       "    </tr>\n",
       "    <tr>\n",
       "      <th>1</th>\n",
       "      <td>447.3</td>\n",
       "      <td>1.0</td>\n",
       "      <td>4295.7</td>\n",
       "      <td>443695</td>\n",
       "      <td>47.4</td>\n",
       "      <td>443695</td>\n",
       "      <td>443695</td>\n",
       "    </tr>\n",
       "    <tr>\n",
       "      <th>2</th>\n",
       "      <td>327.1</td>\n",
       "      <td>2.8</td>\n",
       "      <td>17959.2</td>\n",
       "      <td>154992</td>\n",
       "      <td>118.9</td>\n",
       "      <td>154992</td>\n",
       "      <td>154992</td>\n",
       "    </tr>\n",
       "  </tbody>\n",
       "</table>\n",
       "</div>"
      ],
      "text/plain": [
       "        Recency Frequency MonetaryValue         DiscountValue         Product\n",
       "           mean      mean          mean   count          mean   count   count\n",
       "Cluster                                                                      \n",
       "0         180.8       7.2       57460.5   45094       12267.0   45094   45094\n",
       "1         447.3       1.0        4295.7  443695          47.4  443695  443695\n",
       "2         327.1       2.8       17959.2  154992         118.9  154992  154992"
      ]
     },
     "execution_count": 107,
     "metadata": {},
     "output_type": "execute_result"
    }
   ],
   "source": [
    "rfm.groupby('Cluster').agg({\n",
    "    'Recency':'mean',\n",
    "    'Frequency':'mean',\n",
    "    'MonetaryValue':['mean', 'count'],'DiscountValue':['mean', 'count'] , 'Product':'count' }).round(1)"
   ]
  },
  {
   "cell_type": "code",
   "execution_count": 108,
   "id": "7b266401-4358-41fa-937b-faf6a6684f85",
   "metadata": {},
   "outputs": [
    {
     "data": {
      "text/html": [
       "<div>\n",
       "<style scoped>\n",
       "    .dataframe tbody tr th:only-of-type {\n",
       "        vertical-align: middle;\n",
       "    }\n",
       "\n",
       "    .dataframe tbody tr th {\n",
       "        vertical-align: top;\n",
       "    }\n",
       "\n",
       "    .dataframe thead tr th {\n",
       "        text-align: left;\n",
       "    }\n",
       "\n",
       "    .dataframe thead tr:last-of-type th {\n",
       "        text-align: right;\n",
       "    }\n",
       "</style>\n",
       "<table border=\"1\" class=\"dataframe\">\n",
       "  <thead>\n",
       "    <tr>\n",
       "      <th></th>\n",
       "      <th>Recency</th>\n",
       "      <th>Frequency</th>\n",
       "      <th colspan=\"2\" halign=\"left\">MonetaryValue</th>\n",
       "      <th colspan=\"2\" halign=\"left\">DiscountValue</th>\n",
       "      <th>Product</th>\n",
       "    </tr>\n",
       "    <tr>\n",
       "      <th></th>\n",
       "      <th>mean</th>\n",
       "      <th>mean</th>\n",
       "      <th>mean</th>\n",
       "      <th>count</th>\n",
       "      <th>mean</th>\n",
       "      <th>count</th>\n",
       "      <th>count</th>\n",
       "    </tr>\n",
       "    <tr>\n",
       "      <th>Cluster</th>\n",
       "      <th></th>\n",
       "      <th></th>\n",
       "      <th></th>\n",
       "      <th></th>\n",
       "      <th></th>\n",
       "      <th></th>\n",
       "      <th></th>\n",
       "    </tr>\n",
       "  </thead>\n",
       "  <tbody>\n",
       "    <tr>\n",
       "      <th>0</th>\n",
       "      <td>247.4</td>\n",
       "      <td>3.5</td>\n",
       "      <td>17627.1</td>\n",
       "      <td>42730</td>\n",
       "      <td>3509.0</td>\n",
       "      <td>42730</td>\n",
       "      <td>42730</td>\n",
       "    </tr>\n",
       "    <tr>\n",
       "      <th>1</th>\n",
       "      <td>448.1</td>\n",
       "      <td>1.0</td>\n",
       "      <td>4289.6</td>\n",
       "      <td>442246</td>\n",
       "      <td>26.7</td>\n",
       "      <td>442246</td>\n",
       "      <td>442246</td>\n",
       "    </tr>\n",
       "    <tr>\n",
       "      <th>2</th>\n",
       "      <td>134.4</td>\n",
       "      <td>11.0</td>\n",
       "      <td>101120.9</td>\n",
       "      <td>19847</td>\n",
       "      <td>21694.4</td>\n",
       "      <td>19847</td>\n",
       "      <td>19847</td>\n",
       "    </tr>\n",
       "    <tr>\n",
       "      <th>3</th>\n",
       "      <td>330.2</td>\n",
       "      <td>2.8</td>\n",
       "      <td>18879.3</td>\n",
       "      <td>138958</td>\n",
       "      <td>2.1</td>\n",
       "      <td>138958</td>\n",
       "      <td>138958</td>\n",
       "    </tr>\n",
       "  </tbody>\n",
       "</table>\n",
       "</div>"
      ],
      "text/plain": [
       "        Recency Frequency MonetaryValue         DiscountValue         Product\n",
       "           mean      mean          mean   count          mean   count   count\n",
       "Cluster                                                                      \n",
       "0         247.4       3.5       17627.1   42730        3509.0   42730   42730\n",
       "1         448.1       1.0        4289.6  442246          26.7  442246  442246\n",
       "2         134.4      11.0      101120.9   19847       21694.4   19847   19847\n",
       "3         330.2       2.8       18879.3  138958           2.1  138958  138958"
      ]
     },
     "execution_count": 108,
     "metadata": {},
     "output_type": "execute_result"
    }
   ],
   "source": [
    "model = KMeans(n_clusters=4, random_state=42)\n",
    "model.fit(customers_normalized)\n",
    "model.labels_.shape\n",
    "\n",
    "rfm[\"Cluster\"] = model.labels_\n",
    "rfm.head()\n",
    "rfm.groupby('Cluster').agg({\n",
    "    'Recency':'mean',\n",
    "    'Frequency':'mean',\n",
    "    'MonetaryValue':['mean', 'count'], 'DiscountValue':['mean', 'count'], 'Product':'count'}).round(1)"
   ]
  },
  {
   "cell_type": "code",
   "execution_count": 109,
   "id": "5e28faab-32ac-4022-8d03-333b5af70881",
   "metadata": {},
   "outputs": [
    {
     "data": {
      "text/html": [
       "<div>\n",
       "<style scoped>\n",
       "    .dataframe tbody tr th:only-of-type {\n",
       "        vertical-align: middle;\n",
       "    }\n",
       "\n",
       "    .dataframe tbody tr th {\n",
       "        vertical-align: top;\n",
       "    }\n",
       "\n",
       "    .dataframe thead th {\n",
       "        text-align: right;\n",
       "    }\n",
       "</style>\n",
       "<table border=\"1\" class=\"dataframe\">\n",
       "  <thead>\n",
       "    <tr style=\"text-align: right;\">\n",
       "      <th></th>\n",
       "      <th>Recency</th>\n",
       "      <th>Frequency</th>\n",
       "      <th>MonetaryValue</th>\n",
       "      <th>DiscountValue</th>\n",
       "      <th>Product</th>\n",
       "      <th>ID</th>\n",
       "      <th>Cluster</th>\n",
       "    </tr>\n",
       "  </thead>\n",
       "  <tbody>\n",
       "    <tr>\n",
       "      <th>0</th>\n",
       "      <td>-0.455966</td>\n",
       "      <td>1.256766</td>\n",
       "      <td>0.213462</td>\n",
       "      <td>-0.320487</td>\n",
       "      <td>0.922435</td>\n",
       "      <td>0</td>\n",
       "      <td>3</td>\n",
       "    </tr>\n",
       "    <tr>\n",
       "      <th>1</th>\n",
       "      <td>0.198714</td>\n",
       "      <td>1.747769</td>\n",
       "      <td>1.294505</td>\n",
       "      <td>1.904528</td>\n",
       "      <td>1.129113</td>\n",
       "      <td>1</td>\n",
       "      <td>0</td>\n",
       "    </tr>\n",
       "    <tr>\n",
       "      <th>2</th>\n",
       "      <td>-0.083692</td>\n",
       "      <td>1.587543</td>\n",
       "      <td>0.818963</td>\n",
       "      <td>-0.320487</td>\n",
       "      <td>0.999124</td>\n",
       "      <td>2</td>\n",
       "      <td>3</td>\n",
       "    </tr>\n",
       "    <tr>\n",
       "      <th>3</th>\n",
       "      <td>-0.783084</td>\n",
       "      <td>1.698200</td>\n",
       "      <td>0.668323</td>\n",
       "      <td>2.069286</td>\n",
       "      <td>1.236132</td>\n",
       "      <td>3</td>\n",
       "      <td>0</td>\n",
       "    </tr>\n",
       "    <tr>\n",
       "      <th>4</th>\n",
       "      <td>1.003805</td>\n",
       "      <td>-0.669328</td>\n",
       "      <td>-0.188821</td>\n",
       "      <td>-0.320487</td>\n",
       "      <td>-0.225835</td>\n",
       "      <td>4</td>\n",
       "      <td>1</td>\n",
       "    </tr>\n",
       "  </tbody>\n",
       "</table>\n",
       "</div>"
      ],
      "text/plain": [
       "    Recency  Frequency  MonetaryValue  DiscountValue   Product  ID  Cluster\n",
       "0 -0.455966   1.256766       0.213462      -0.320487  0.922435   0        3\n",
       "1  0.198714   1.747769       1.294505       1.904528  1.129113   1        0\n",
       "2 -0.083692   1.587543       0.818963      -0.320487  0.999124   2        3\n",
       "3 -0.783084   1.698200       0.668323       2.069286  1.236132   3        0\n",
       "4  1.003805  -0.669328      -0.188821      -0.320487 -0.225835   4        1"
      ]
     },
     "execution_count": 109,
     "metadata": {},
     "output_type": "execute_result"
    }
   ],
   "source": [
    "df_normalized = pd.DataFrame(customers_normalized, columns=['Recency', 'Frequency', 'MonetaryValue', 'DiscountValue', 'Product'])\n",
    "df_normalized['ID'] = rfm.index\n",
    "df_normalized['Cluster'] = model.labels_\n",
    "df_normalized.head()"
   ]
  },
  {
   "cell_type": "code",
   "execution_count": 110,
   "id": "d3a36326-3d92-4df0-a078-57010b145c80",
   "metadata": {},
   "outputs": [
    {
     "data": {
      "text/html": [
       "<div>\n",
       "<style scoped>\n",
       "    .dataframe tbody tr th:only-of-type {\n",
       "        vertical-align: middle;\n",
       "    }\n",
       "\n",
       "    .dataframe tbody tr th {\n",
       "        vertical-align: top;\n",
       "    }\n",
       "\n",
       "    .dataframe thead th {\n",
       "        text-align: right;\n",
       "    }\n",
       "</style>\n",
       "<table border=\"1\" class=\"dataframe\">\n",
       "  <thead>\n",
       "    <tr style=\"text-align: right;\">\n",
       "      <th></th>\n",
       "      <th>ID</th>\n",
       "      <th>Cluster</th>\n",
       "      <th>Attribute</th>\n",
       "      <th>Value</th>\n",
       "    </tr>\n",
       "  </thead>\n",
       "  <tbody>\n",
       "    <tr>\n",
       "      <th>0</th>\n",
       "      <td>0</td>\n",
       "      <td>3</td>\n",
       "      <td>Recency</td>\n",
       "      <td>-0.455966</td>\n",
       "    </tr>\n",
       "    <tr>\n",
       "      <th>1</th>\n",
       "      <td>1</td>\n",
       "      <td>0</td>\n",
       "      <td>Recency</td>\n",
       "      <td>0.198714</td>\n",
       "    </tr>\n",
       "    <tr>\n",
       "      <th>2</th>\n",
       "      <td>2</td>\n",
       "      <td>3</td>\n",
       "      <td>Recency</td>\n",
       "      <td>-0.083692</td>\n",
       "    </tr>\n",
       "    <tr>\n",
       "      <th>3</th>\n",
       "      <td>3</td>\n",
       "      <td>0</td>\n",
       "      <td>Recency</td>\n",
       "      <td>-0.783084</td>\n",
       "    </tr>\n",
       "    <tr>\n",
       "      <th>4</th>\n",
       "      <td>4</td>\n",
       "      <td>1</td>\n",
       "      <td>Recency</td>\n",
       "      <td>1.003805</td>\n",
       "    </tr>\n",
       "  </tbody>\n",
       "</table>\n",
       "</div>"
      ],
      "text/plain": [
       "   ID  Cluster Attribute     Value\n",
       "0   0        3   Recency -0.455966\n",
       "1   1        0   Recency  0.198714\n",
       "2   2        3   Recency -0.083692\n",
       "3   3        0   Recency -0.783084\n",
       "4   4        1   Recency  1.003805"
      ]
     },
     "execution_count": 110,
     "metadata": {},
     "output_type": "execute_result"
    }
   ],
   "source": [
    "df_nor_melt = pd.melt(df_normalized.reset_index(),\n",
    "                      id_vars=['ID', 'Cluster'],\n",
    "                      value_vars=['Recency','Frequency','MonetaryValue','DiscountValue','Product'],\n",
    "                      var_name='Attribute',\n",
    "                      value_name='Value')\n",
    "df_nor_melt.head()"
   ]
  },
  {
   "cell_type": "code",
   "execution_count": 111,
   "id": "914fcb9c-1aae-4f07-9b8a-a904d155a8b9",
   "metadata": {},
   "outputs": [
    {
     "data": {
      "text/html": [
       "<div>\n",
       "<style scoped>\n",
       "    .dataframe tbody tr th:only-of-type {\n",
       "        vertical-align: middle;\n",
       "    }\n",
       "\n",
       "    .dataframe tbody tr th {\n",
       "        vertical-align: top;\n",
       "    }\n",
       "\n",
       "    .dataframe thead th {\n",
       "        text-align: right;\n",
       "    }\n",
       "</style>\n",
       "<table border=\"1\" class=\"dataframe\">\n",
       "  <thead>\n",
       "    <tr style=\"text-align: right;\">\n",
       "      <th></th>\n",
       "      <th>Cluster</th>\n",
       "      <th>Count</th>\n",
       "      <th>percent</th>\n",
       "    </tr>\n",
       "  </thead>\n",
       "  <tbody>\n",
       "    <tr>\n",
       "      <th>0</th>\n",
       "      <td>0</td>\n",
       "      <td>213650</td>\n",
       "      <td>6.6</td>\n",
       "    </tr>\n",
       "    <tr>\n",
       "      <th>1</th>\n",
       "      <td>1</td>\n",
       "      <td>2211230</td>\n",
       "      <td>68.7</td>\n",
       "    </tr>\n",
       "    <tr>\n",
       "      <th>2</th>\n",
       "      <td>2</td>\n",
       "      <td>99235</td>\n",
       "      <td>3.1</td>\n",
       "    </tr>\n",
       "    <tr>\n",
       "      <th>3</th>\n",
       "      <td>3</td>\n",
       "      <td>694790</td>\n",
       "      <td>21.6</td>\n",
       "    </tr>\n",
       "  </tbody>\n",
       "</table>\n",
       "</div>"
      ],
      "text/plain": [
       "   Cluster    Count  percent\n",
       "0        0   213650      6.6\n",
       "1        1  2211230     68.7\n",
       "2        2    99235      3.1\n",
       "3        3   694790     21.6"
      ]
     },
     "execution_count": 111,
     "metadata": {},
     "output_type": "execute_result"
    }
   ],
   "source": [
    "fig3 = df_nor_melt.groupby('Cluster').agg({'ID': lambda x: len(x)}).reset_index()\n",
    "\n",
    "\n",
    "# Rename columns\n",
    "fig3.rename(columns={'ID': 'Count'}, inplace=True)\n",
    "fig3['percent'] = (fig3['Count'] / fig3['Count'].sum()) * 100\n",
    "fig3['percent'] = fig3['percent'].round(1)\n",
    "\n",
    "fig3.head()"
   ]
  },
  {
   "cell_type": "code",
   "execution_count": 112,
   "id": "1ea4cee4-d2aa-450e-a23f-e500e883ebfb",
   "metadata": {},
   "outputs": [
    {
     "data": {
      "application/vnd.plotly.v1+json": {
       "config": {
        "plotlyServerURL": "https://plot.ly"
       },
       "data": [
        {
         "branchvalues": "total",
         "domain": {
          "x": [
           0,
           1
          ],
          "y": [
           0,
           1
          ]
         },
         "hovertemplate": "labels=%{label}<br>Count=%{value}<br>parent=%{parent}<br>id=%{id}<extra></extra>",
         "ids": [
          "0",
          "1",
          "2",
          "3"
         ],
         "labels": [
          "0",
          "1",
          "2",
          "3"
         ],
         "name": "",
         "parents": [
          "",
          "",
          "",
          ""
         ],
         "textinfo": "label+text+value+percent root",
         "type": "treemap",
         "values": [
          213650,
          2211230,
          99235,
          694790
         ]
        }
       ],
       "layout": {
        "height": 400,
        "legend": {
         "tracegroupgap": 0
        },
        "margin": {
         "b": 25,
         "l": 25,
         "r": 25,
         "t": 50
        },
        "template": {
         "data": {
          "bar": [
           {
            "error_x": {
             "color": "#2a3f5f"
            },
            "error_y": {
             "color": "#2a3f5f"
            },
            "marker": {
             "line": {
              "color": "#E5ECF6",
              "width": 0.5
             },
             "pattern": {
              "fillmode": "overlay",
              "size": 10,
              "solidity": 0.2
             }
            },
            "type": "bar"
           }
          ],
          "barpolar": [
           {
            "marker": {
             "line": {
              "color": "#E5ECF6",
              "width": 0.5
             },
             "pattern": {
              "fillmode": "overlay",
              "size": 10,
              "solidity": 0.2
             }
            },
            "type": "barpolar"
           }
          ],
          "carpet": [
           {
            "aaxis": {
             "endlinecolor": "#2a3f5f",
             "gridcolor": "white",
             "linecolor": "white",
             "minorgridcolor": "white",
             "startlinecolor": "#2a3f5f"
            },
            "baxis": {
             "endlinecolor": "#2a3f5f",
             "gridcolor": "white",
             "linecolor": "white",
             "minorgridcolor": "white",
             "startlinecolor": "#2a3f5f"
            },
            "type": "carpet"
           }
          ],
          "choropleth": [
           {
            "colorbar": {
             "outlinewidth": 0,
             "ticks": ""
            },
            "type": "choropleth"
           }
          ],
          "contour": [
           {
            "colorbar": {
             "outlinewidth": 0,
             "ticks": ""
            },
            "colorscale": [
             [
              0,
              "#0d0887"
             ],
             [
              0.1111111111111111,
              "#46039f"
             ],
             [
              0.2222222222222222,
              "#7201a8"
             ],
             [
              0.3333333333333333,
              "#9c179e"
             ],
             [
              0.4444444444444444,
              "#bd3786"
             ],
             [
              0.5555555555555556,
              "#d8576b"
             ],
             [
              0.6666666666666666,
              "#ed7953"
             ],
             [
              0.7777777777777778,
              "#fb9f3a"
             ],
             [
              0.8888888888888888,
              "#fdca26"
             ],
             [
              1,
              "#f0f921"
             ]
            ],
            "type": "contour"
           }
          ],
          "contourcarpet": [
           {
            "colorbar": {
             "outlinewidth": 0,
             "ticks": ""
            },
            "type": "contourcarpet"
           }
          ],
          "heatmap": [
           {
            "colorbar": {
             "outlinewidth": 0,
             "ticks": ""
            },
            "colorscale": [
             [
              0,
              "#0d0887"
             ],
             [
              0.1111111111111111,
              "#46039f"
             ],
             [
              0.2222222222222222,
              "#7201a8"
             ],
             [
              0.3333333333333333,
              "#9c179e"
             ],
             [
              0.4444444444444444,
              "#bd3786"
             ],
             [
              0.5555555555555556,
              "#d8576b"
             ],
             [
              0.6666666666666666,
              "#ed7953"
             ],
             [
              0.7777777777777778,
              "#fb9f3a"
             ],
             [
              0.8888888888888888,
              "#fdca26"
             ],
             [
              1,
              "#f0f921"
             ]
            ],
            "type": "heatmap"
           }
          ],
          "heatmapgl": [
           {
            "colorbar": {
             "outlinewidth": 0,
             "ticks": ""
            },
            "colorscale": [
             [
              0,
              "#0d0887"
             ],
             [
              0.1111111111111111,
              "#46039f"
             ],
             [
              0.2222222222222222,
              "#7201a8"
             ],
             [
              0.3333333333333333,
              "#9c179e"
             ],
             [
              0.4444444444444444,
              "#bd3786"
             ],
             [
              0.5555555555555556,
              "#d8576b"
             ],
             [
              0.6666666666666666,
              "#ed7953"
             ],
             [
              0.7777777777777778,
              "#fb9f3a"
             ],
             [
              0.8888888888888888,
              "#fdca26"
             ],
             [
              1,
              "#f0f921"
             ]
            ],
            "type": "heatmapgl"
           }
          ],
          "histogram": [
           {
            "marker": {
             "pattern": {
              "fillmode": "overlay",
              "size": 10,
              "solidity": 0.2
             }
            },
            "type": "histogram"
           }
          ],
          "histogram2d": [
           {
            "colorbar": {
             "outlinewidth": 0,
             "ticks": ""
            },
            "colorscale": [
             [
              0,
              "#0d0887"
             ],
             [
              0.1111111111111111,
              "#46039f"
             ],
             [
              0.2222222222222222,
              "#7201a8"
             ],
             [
              0.3333333333333333,
              "#9c179e"
             ],
             [
              0.4444444444444444,
              "#bd3786"
             ],
             [
              0.5555555555555556,
              "#d8576b"
             ],
             [
              0.6666666666666666,
              "#ed7953"
             ],
             [
              0.7777777777777778,
              "#fb9f3a"
             ],
             [
              0.8888888888888888,
              "#fdca26"
             ],
             [
              1,
              "#f0f921"
             ]
            ],
            "type": "histogram2d"
           }
          ],
          "histogram2dcontour": [
           {
            "colorbar": {
             "outlinewidth": 0,
             "ticks": ""
            },
            "colorscale": [
             [
              0,
              "#0d0887"
             ],
             [
              0.1111111111111111,
              "#46039f"
             ],
             [
              0.2222222222222222,
              "#7201a8"
             ],
             [
              0.3333333333333333,
              "#9c179e"
             ],
             [
              0.4444444444444444,
              "#bd3786"
             ],
             [
              0.5555555555555556,
              "#d8576b"
             ],
             [
              0.6666666666666666,
              "#ed7953"
             ],
             [
              0.7777777777777778,
              "#fb9f3a"
             ],
             [
              0.8888888888888888,
              "#fdca26"
             ],
             [
              1,
              "#f0f921"
             ]
            ],
            "type": "histogram2dcontour"
           }
          ],
          "mesh3d": [
           {
            "colorbar": {
             "outlinewidth": 0,
             "ticks": ""
            },
            "type": "mesh3d"
           }
          ],
          "parcoords": [
           {
            "line": {
             "colorbar": {
              "outlinewidth": 0,
              "ticks": ""
             }
            },
            "type": "parcoords"
           }
          ],
          "pie": [
           {
            "automargin": true,
            "type": "pie"
           }
          ],
          "scatter": [
           {
            "fillpattern": {
             "fillmode": "overlay",
             "size": 10,
             "solidity": 0.2
            },
            "type": "scatter"
           }
          ],
          "scatter3d": [
           {
            "line": {
             "colorbar": {
              "outlinewidth": 0,
              "ticks": ""
             }
            },
            "marker": {
             "colorbar": {
              "outlinewidth": 0,
              "ticks": ""
             }
            },
            "type": "scatter3d"
           }
          ],
          "scattercarpet": [
           {
            "marker": {
             "colorbar": {
              "outlinewidth": 0,
              "ticks": ""
             }
            },
            "type": "scattercarpet"
           }
          ],
          "scattergeo": [
           {
            "marker": {
             "colorbar": {
              "outlinewidth": 0,
              "ticks": ""
             }
            },
            "type": "scattergeo"
           }
          ],
          "scattergl": [
           {
            "marker": {
             "colorbar": {
              "outlinewidth": 0,
              "ticks": ""
             }
            },
            "type": "scattergl"
           }
          ],
          "scattermapbox": [
           {
            "marker": {
             "colorbar": {
              "outlinewidth": 0,
              "ticks": ""
             }
            },
            "type": "scattermapbox"
           }
          ],
          "scatterpolar": [
           {
            "marker": {
             "colorbar": {
              "outlinewidth": 0,
              "ticks": ""
             }
            },
            "type": "scatterpolar"
           }
          ],
          "scatterpolargl": [
           {
            "marker": {
             "colorbar": {
              "outlinewidth": 0,
              "ticks": ""
             }
            },
            "type": "scatterpolargl"
           }
          ],
          "scatterternary": [
           {
            "marker": {
             "colorbar": {
              "outlinewidth": 0,
              "ticks": ""
             }
            },
            "type": "scatterternary"
           }
          ],
          "surface": [
           {
            "colorbar": {
             "outlinewidth": 0,
             "ticks": ""
            },
            "colorscale": [
             [
              0,
              "#0d0887"
             ],
             [
              0.1111111111111111,
              "#46039f"
             ],
             [
              0.2222222222222222,
              "#7201a8"
             ],
             [
              0.3333333333333333,
              "#9c179e"
             ],
             [
              0.4444444444444444,
              "#bd3786"
             ],
             [
              0.5555555555555556,
              "#d8576b"
             ],
             [
              0.6666666666666666,
              "#ed7953"
             ],
             [
              0.7777777777777778,
              "#fb9f3a"
             ],
             [
              0.8888888888888888,
              "#fdca26"
             ],
             [
              1,
              "#f0f921"
             ]
            ],
            "type": "surface"
           }
          ],
          "table": [
           {
            "cells": {
             "fill": {
              "color": "#EBF0F8"
             },
             "line": {
              "color": "white"
             }
            },
            "header": {
             "fill": {
              "color": "#C8D4E3"
             },
             "line": {
              "color": "white"
             }
            },
            "type": "table"
           }
          ]
         },
         "layout": {
          "annotationdefaults": {
           "arrowcolor": "#2a3f5f",
           "arrowhead": 0,
           "arrowwidth": 1
          },
          "autotypenumbers": "strict",
          "coloraxis": {
           "colorbar": {
            "outlinewidth": 0,
            "ticks": ""
           }
          },
          "colorscale": {
           "diverging": [
            [
             0,
             "#8e0152"
            ],
            [
             0.1,
             "#c51b7d"
            ],
            [
             0.2,
             "#de77ae"
            ],
            [
             0.3,
             "#f1b6da"
            ],
            [
             0.4,
             "#fde0ef"
            ],
            [
             0.5,
             "#f7f7f7"
            ],
            [
             0.6,
             "#e6f5d0"
            ],
            [
             0.7,
             "#b8e186"
            ],
            [
             0.8,
             "#7fbc41"
            ],
            [
             0.9,
             "#4d9221"
            ],
            [
             1,
             "#276419"
            ]
           ],
           "sequential": [
            [
             0,
             "#0d0887"
            ],
            [
             0.1111111111111111,
             "#46039f"
            ],
            [
             0.2222222222222222,
             "#7201a8"
            ],
            [
             0.3333333333333333,
             "#9c179e"
            ],
            [
             0.4444444444444444,
             "#bd3786"
            ],
            [
             0.5555555555555556,
             "#d8576b"
            ],
            [
             0.6666666666666666,
             "#ed7953"
            ],
            [
             0.7777777777777778,
             "#fb9f3a"
            ],
            [
             0.8888888888888888,
             "#fdca26"
            ],
            [
             1,
             "#f0f921"
            ]
           ],
           "sequentialminus": [
            [
             0,
             "#0d0887"
            ],
            [
             0.1111111111111111,
             "#46039f"
            ],
            [
             0.2222222222222222,
             "#7201a8"
            ],
            [
             0.3333333333333333,
             "#9c179e"
            ],
            [
             0.4444444444444444,
             "#bd3786"
            ],
            [
             0.5555555555555556,
             "#d8576b"
            ],
            [
             0.6666666666666666,
             "#ed7953"
            ],
            [
             0.7777777777777778,
             "#fb9f3a"
            ],
            [
             0.8888888888888888,
             "#fdca26"
            ],
            [
             1,
             "#f0f921"
            ]
           ]
          },
          "colorway": [
           "#636efa",
           "#EF553B",
           "#00cc96",
           "#ab63fa",
           "#FFA15A",
           "#19d3f3",
           "#FF6692",
           "#B6E880",
           "#FF97FF",
           "#FECB52"
          ],
          "font": {
           "color": "#2a3f5f"
          },
          "geo": {
           "bgcolor": "white",
           "lakecolor": "white",
           "landcolor": "#E5ECF6",
           "showlakes": true,
           "showland": true,
           "subunitcolor": "white"
          },
          "hoverlabel": {
           "align": "left"
          },
          "hovermode": "closest",
          "mapbox": {
           "style": "light"
          },
          "paper_bgcolor": "white",
          "plot_bgcolor": "#E5ECF6",
          "polar": {
           "angularaxis": {
            "gridcolor": "white",
            "linecolor": "white",
            "ticks": ""
           },
           "bgcolor": "#E5ECF6",
           "radialaxis": {
            "gridcolor": "white",
            "linecolor": "white",
            "ticks": ""
           }
          },
          "scene": {
           "xaxis": {
            "backgroundcolor": "#E5ECF6",
            "gridcolor": "white",
            "gridwidth": 2,
            "linecolor": "white",
            "showbackground": true,
            "ticks": "",
            "zerolinecolor": "white"
           },
           "yaxis": {
            "backgroundcolor": "#E5ECF6",
            "gridcolor": "white",
            "gridwidth": 2,
            "linecolor": "white",
            "showbackground": true,
            "ticks": "",
            "zerolinecolor": "white"
           },
           "zaxis": {
            "backgroundcolor": "#E5ECF6",
            "gridcolor": "white",
            "gridwidth": 2,
            "linecolor": "white",
            "showbackground": true,
            "ticks": "",
            "zerolinecolor": "white"
           }
          },
          "shapedefaults": {
           "line": {
            "color": "#2a3f5f"
           }
          },
          "ternary": {
           "aaxis": {
            "gridcolor": "white",
            "linecolor": "white",
            "ticks": ""
           },
           "baxis": {
            "gridcolor": "white",
            "linecolor": "white",
            "ticks": ""
           },
           "bgcolor": "#E5ECF6",
           "caxis": {
            "gridcolor": "white",
            "linecolor": "white",
            "ticks": ""
           }
          },
          "title": {
           "x": 0.05
          },
          "xaxis": {
           "automargin": true,
           "gridcolor": "white",
           "linecolor": "white",
           "ticks": "",
           "title": {
            "standoff": 15
           },
           "zerolinecolor": "white",
           "zerolinewidth": 2
          },
          "yaxis": {
           "automargin": true,
           "gridcolor": "white",
           "linecolor": "white",
           "ticks": "",
           "title": {
            "standoff": 15
           },
           "zerolinecolor": "white",
           "zerolinewidth": 2
          }
         }
        },
        "title": {
         "text": "Distribution of Cluster"
        },
        "treemapcolorway": [
         "#bad0af",
         "#d5e0cf",
         "#f1f1f1",
         "#f1d4d4"
        ],
        "width": 800
       }
      }
     },
     "metadata": {},
     "output_type": "display_data"
    }
   ],
   "source": [
    "colors=['#bad0af','#d5e0cf','#f1f1f1','#f1d4d4'] #color palette\n",
    "import plotly.express as px\n",
    "\n",
    "fig = px.treemap(fig3, path=['Cluster'],values='Count'\n",
    "                 , width=800, height=400\n",
    "                 ,title=\"Distribution of Cluster\")\n",
    "\n",
    "fig.update_layout(\n",
    "    treemapcolorway = colors, #defines the colors in the treemap\n",
    "    margin = dict(t=50, l=25, r=25, b=25))\n",
    "\n",
    "fig.data[0].textinfo = 'label+text+value+percent root'\n",
    "fig.show()"
   ]
  },
  {
   "cell_type": "code",
   "execution_count": 113,
   "id": "0acca735-03c5-49bb-a188-7d537f4e454f",
   "metadata": {},
   "outputs": [
    {
     "data": {
      "text/plain": [
       "<Axes: xlabel='Attribute', ylabel='Value'>"
      ]
     },
     "execution_count": 113,
     "metadata": {},
     "output_type": "execute_result"
    },
    {
     "data": {
      "image/png": "[encoded data removed]",
      "text/plain": [
       "<Figure size 640x480 with 1 Axes>"
      ]
     },
     "metadata": {},
     "output_type": "display_data"
    }
   ],
   "source": [
    "sns.lineplot(x='Attribute', y='Value', hue='Cluster', data=df_nor_melt)"
   ]
  },
  {
   "cell_type": "markdown",
   "id": "72209f45-0e74-4c91-bb73-f16bacf5dfb4",
   "metadata": {},
   "source": [
    "\n",
    "Cluster# 0:\tNew customers- \t38%\t - Customers who transacted recently and have a lower purchase frequency, with a low amount of monetary spending.\n",
    "Cluster# 1:\tAt risk customers - 31%\t- Customer who made their last transaction a while ago and who made frequent and large purchases in the past.\n",
    "Cluster# 2:\tLost customers/churned customers - 7% - Customers who made their last transaction a long time ago, and who have made few purchases. Therefore, it could be the cluster of Lost customer/churned customers.\n",
    "Cluster# 3 : Loyal customers - 24%\t -Most frequent customers with the highest monetary spending amount and transact most recently\n"
   ]
  },
  {
   "cell_type": "code",
   "execution_count": 114,
   "id": "558843c0-b721-4666-996b-51f0a5ec3df3",
   "metadata": {},
   "outputs": [
    {
     "data": {
      "text/html": [
       "<div>\n",
       "<style scoped>\n",
       "    .dataframe tbody tr th:only-of-type {\n",
       "        vertical-align: middle;\n",
       "    }\n",
       "\n",
       "    .dataframe tbody tr th {\n",
       "        vertical-align: top;\n",
       "    }\n",
       "\n",
       "    .dataframe thead tr th {\n",
       "        text-align: left;\n",
       "    }\n",
       "\n",
       "    .dataframe thead tr:last-of-type th {\n",
       "        text-align: right;\n",
       "    }\n",
       "</style>\n",
       "<table border=\"1\" class=\"dataframe\">\n",
       "  <thead>\n",
       "    <tr>\n",
       "      <th></th>\n",
       "      <th>Recency</th>\n",
       "      <th>Frequency</th>\n",
       "      <th colspan=\"2\" halign=\"left\">MonetaryValue</th>\n",
       "      <th colspan=\"2\" halign=\"left\">DiscountValue</th>\n",
       "      <th>Product</th>\n",
       "    </tr>\n",
       "    <tr>\n",
       "      <th></th>\n",
       "      <th>mean</th>\n",
       "      <th>mean</th>\n",
       "      <th>mean</th>\n",
       "      <th>count</th>\n",
       "      <th>mean</th>\n",
       "      <th>count</th>\n",
       "      <th>count</th>\n",
       "    </tr>\n",
       "    <tr>\n",
       "      <th>Cluster</th>\n",
       "      <th></th>\n",
       "      <th></th>\n",
       "      <th></th>\n",
       "      <th></th>\n",
       "      <th></th>\n",
       "      <th></th>\n",
       "      <th></th>\n",
       "    </tr>\n",
       "  </thead>\n",
       "  <tbody>\n",
       "    <tr>\n",
       "      <th>0</th>\n",
       "      <td>247.4</td>\n",
       "      <td>3.5</td>\n",
       "      <td>17627.1</td>\n",
       "      <td>42730</td>\n",
       "      <td>3509.0</td>\n",
       "      <td>42730</td>\n",
       "      <td>42730</td>\n",
       "    </tr>\n",
       "    <tr>\n",
       "      <th>1</th>\n",
       "      <td>448.1</td>\n",
       "      <td>1.0</td>\n",
       "      <td>4289.6</td>\n",
       "      <td>442246</td>\n",
       "      <td>26.7</td>\n",
       "      <td>442246</td>\n",
       "      <td>442246</td>\n",
       "    </tr>\n",
       "    <tr>\n",
       "      <th>2</th>\n",
       "      <td>134.4</td>\n",
       "      <td>11.0</td>\n",
       "      <td>101120.9</td>\n",
       "      <td>19847</td>\n",
       "      <td>21694.4</td>\n",
       "      <td>19847</td>\n",
       "      <td>19847</td>\n",
       "    </tr>\n",
       "    <tr>\n",
       "      <th>3</th>\n",
       "      <td>330.2</td>\n",
       "      <td>2.8</td>\n",
       "      <td>18879.3</td>\n",
       "      <td>138958</td>\n",
       "      <td>2.1</td>\n",
       "      <td>138958</td>\n",
       "      <td>138958</td>\n",
       "    </tr>\n",
       "  </tbody>\n",
       "</table>\n",
       "</div>"
      ],
      "text/plain": [
       "        Recency Frequency MonetaryValue         DiscountValue         Product\n",
       "           mean      mean          mean   count          mean   count   count\n",
       "Cluster                                                                      \n",
       "0         247.4       3.5       17627.1   42730        3509.0   42730   42730\n",
       "1         448.1       1.0        4289.6  442246          26.7  442246  442246\n",
       "2         134.4      11.0      101120.9   19847       21694.4   19847   19847\n",
       "3         330.2       2.8       18879.3  138958           2.1  138958  138958"
      ]
     },
     "execution_count": 114,
     "metadata": {},
     "output_type": "execute_result"
    }
   ],
   "source": [
    "rfm.groupby('Cluster').agg({\n",
    "    'Recency':'mean',\n",
    "    'Frequency':'mean',\n",
    "    'MonetaryValue':['mean', 'count'], 'DiscountValue':['mean','count'], 'Product':'count'}).round(1)"
   ]
  },
  {
   "cell_type": "code",
   "execution_count": 115,
   "id": "90340612-54bb-4ed6-ae09-962a0b9b8218",
   "metadata": {},
   "outputs": [
    {
     "data": {
      "text/html": [
       "<div>\n",
       "<style scoped>\n",
       "    .dataframe tbody tr th:only-of-type {\n",
       "        vertical-align: middle;\n",
       "    }\n",
       "\n",
       "    .dataframe tbody tr th {\n",
       "        vertical-align: top;\n",
       "    }\n",
       "\n",
       "    .dataframe thead th {\n",
       "        text-align: right;\n",
       "    }\n",
       "</style>\n",
       "<table border=\"1\" class=\"dataframe\">\n",
       "  <thead>\n",
       "    <tr style=\"text-align: right;\">\n",
       "      <th></th>\n",
       "      <th>Cluster</th>\n",
       "      <th>DiscountValue</th>\n",
       "      <th>Frequency</th>\n",
       "      <th>MonetaryValue</th>\n",
       "      <th>Product</th>\n",
       "      <th>Recency</th>\n",
       "      <th>user_id</th>\n",
       "    </tr>\n",
       "    <tr>\n",
       "      <th>Cluster</th>\n",
       "      <th></th>\n",
       "      <th></th>\n",
       "      <th></th>\n",
       "      <th></th>\n",
       "      <th></th>\n",
       "      <th></th>\n",
       "      <th></th>\n",
       "    </tr>\n",
       "  </thead>\n",
       "  <tbody>\n",
       "    <tr>\n",
       "      <th>0</th>\n",
       "      <td>NaN</td>\n",
       "      <td>2.812027</td>\n",
       "      <td>0.882733</td>\n",
       "      <td>0.558654</td>\n",
       "      <td>0.594793</td>\n",
       "      <td>-0.380863</td>\n",
       "      <td>-0.048005</td>\n",
       "    </tr>\n",
       "    <tr>\n",
       "      <th>1</th>\n",
       "      <td>NaN</td>\n",
       "      <td>-0.971009</td>\n",
       "      <td>-0.457838</td>\n",
       "      <td>-0.620698</td>\n",
       "      <td>-0.623431</td>\n",
       "      <td>0.121168</td>\n",
       "      <td>0.026799</td>\n",
       "    </tr>\n",
       "    <tr>\n",
       "      <th>2</th>\n",
       "      <td>NaN</td>\n",
       "      <td>22.567999</td>\n",
       "      <td>4.902152</td>\n",
       "      <td>7.941491</td>\n",
       "      <td>7.740311</td>\n",
       "      <td>-0.663617</td>\n",
       "      <td>-0.137660</td>\n",
       "    </tr>\n",
       "    <tr>\n",
       "      <th>3</th>\n",
       "      <td>NaN</td>\n",
       "      <td>-0.997714</td>\n",
       "      <td>0.485505</td>\n",
       "      <td>0.669375</td>\n",
       "      <td>0.695695</td>\n",
       "      <td>-0.173730</td>\n",
       "      <td>-0.050866</td>\n",
       "    </tr>\n",
       "  </tbody>\n",
       "</table>\n",
       "</div>"
      ],
      "text/plain": [
       "         Cluster  DiscountValue  Frequency  MonetaryValue   Product   Recency  \\\n",
       "Cluster                                                                         \n",
       "0            NaN       2.812027   0.882733       0.558654  0.594793 -0.380863   \n",
       "1            NaN      -0.971009  -0.457838      -0.620698 -0.623431  0.121168   \n",
       "2            NaN      22.567999   4.902152       7.941491  7.740311 -0.663617   \n",
       "3            NaN      -0.997714   0.485505       0.669375  0.695695 -0.173730   \n",
       "\n",
       "          user_id  \n",
       "Cluster            \n",
       "0       -0.048005  \n",
       "1        0.026799  \n",
       "2       -0.137660  \n",
       "3       -0.050866  "
      ]
     },
     "execution_count": 115,
     "metadata": {},
     "output_type": "execute_result"
    }
   ],
   "source": [
    "cluster_avg = rfm.groupby('Cluster').mean()\n",
    "population_avg = rfm.mean()\n",
    "relative_imp = cluster_avg / population_avg - 1\n",
    "relative_imp"
   ]
  },
  {
   "cell_type": "code",
   "execution_count": 116,
   "id": "12ec1048-033e-4a67-877d-9f8c4835119b",
   "metadata": {},
   "outputs": [
    {
     "name": "stdout",
     "output_type": "stream",
     "text": [
      "615011/643781 data points remain.\n",
      "553843/615011 data points remain.\n",
      "498531/553843 data points remain.\n",
      "474371/498531 data points remain.\n",
      "452896/474371 data points remain.\n"
     ]
    }
   ],
   "source": [
    "rfm_fig = rfm.copy()\n",
    "\n",
    "#Remove the outlier for visualization\n",
    "y1 = rfm_fig['Frequency']\n",
    "size = rfm_fig.shape[0]\n",
    "removed_outliers = y1.between(y1.quantile(.05), y1.quantile(.95))\n",
    "print(str(y1[removed_outliers].size) + \"/\" + str(size) + \" data points remain.\") \n",
    "index_names = rfm_fig[~removed_outliers].index \n",
    "rfm_fig.drop(index_names, inplace=True)\n",
    "\n",
    "#Remove the outlier for visualization\n",
    "y2 = rfm_fig['Recency']\n",
    "size = rfm_fig.shape[0]\n",
    "removed_outliers = y2.between(y2.quantile(.05), y2.quantile(.95))\n",
    "print(str(y2[removed_outliers].size) + \"/\" + str(size) + \" data points remain.\") \n",
    "index_names = rfm_fig[~removed_outliers].index \n",
    "rfm_fig.drop(index_names, inplace=True)\n",
    "\n",
    "#Remove the outlier for visualization\n",
    "y3 = rfm_fig['MonetaryValue']\n",
    "size = rfm_fig.shape[0]\n",
    "removed_outliers = y3.between(y3.quantile(.05), y3.quantile(.95))\n",
    "print(str(y3[removed_outliers].size) + \"/\" + str(size) + \" data points remain.\") \n",
    "index_names = rfm_fig[~removed_outliers].index \n",
    "rfm_fig.drop(index_names, inplace=True)\n",
    "\n",
    "#Remove the outlier for visualization\n",
    "y4 = rfm_fig['DiscountValue']\n",
    "size = rfm_fig.shape[0]\n",
    "removed_outliers = y4.between(y4.quantile(.05), y4.quantile(.95))\n",
    "print(str(y4[removed_outliers].size) + \"/\" + str(size) + \" data points remain.\") \n",
    "index_names = rfm_fig[~removed_outliers].index \n",
    "rfm_fig.drop(index_names, inplace=True)\n",
    "\n",
    "#Remove the outlier for visualization\n",
    "y5 = rfm_fig['Product']\n",
    "size = rfm_fig.shape[0]\n",
    "removed_outliers = y5.between(y5.quantile(.05), y5.quantile(.95))\n",
    "print(str(y5[removed_outliers].size) + \"/\" + str(size) + \" data points remain.\") \n",
    "index_names = rfm_fig[~removed_outliers].index \n",
    "rfm_fig.drop(index_names, inplace=True)"
   ]
  },
  {
   "cell_type": "code",
   "execution_count": 117,
   "id": "034198bc-2e12-4a44-b8cc-8b48158cb6b5",
   "metadata": {},
   "outputs": [],
   "source": [
    "cluster_avg = rfm[['Cluster','Recency','Frequency','MonetaryValue','DiscountValue', 'Product']].groupby(['Cluster']).mean()\n",
    "population_avg = rfm[['Recency','Frequency','MonetaryValue','DiscountValue', 'Product']].head().mean()"
   ]
  },
  {
   "cell_type": "code",
   "execution_count": 118,
   "id": "07a14d64-62d2-4cf1-8ec1-2121d17bf39c",
   "metadata": {},
   "outputs": [
    {
     "data": {
      "text/html": [
       "<div>\n",
       "<style scoped>\n",
       "    .dataframe tbody tr th:only-of-type {\n",
       "        vertical-align: middle;\n",
       "    }\n",
       "\n",
       "    .dataframe tbody tr th {\n",
       "        vertical-align: top;\n",
       "    }\n",
       "\n",
       "    .dataframe thead th {\n",
       "        text-align: right;\n",
       "    }\n",
       "</style>\n",
       "<table border=\"1\" class=\"dataframe\">\n",
       "  <thead>\n",
       "    <tr style=\"text-align: right;\">\n",
       "      <th></th>\n",
       "      <th>Recency</th>\n",
       "      <th>Frequency</th>\n",
       "      <th>MonetaryValue</th>\n",
       "      <th>DiscountValue</th>\n",
       "      <th>Product</th>\n",
       "    </tr>\n",
       "    <tr>\n",
       "      <th>Cluster</th>\n",
       "      <th></th>\n",
       "      <th></th>\n",
       "      <th></th>\n",
       "      <th></th>\n",
       "      <th></th>\n",
       "    </tr>\n",
       "  </thead>\n",
       "  <tbody>\n",
       "    <tr>\n",
       "      <th>0</th>\n",
       "      <td>247.438451</td>\n",
       "      <td>3.514767</td>\n",
       "      <td>17627.098775</td>\n",
       "      <td>3508.986120</td>\n",
       "      <td>13.366440</td>\n",
       "    </tr>\n",
       "    <tr>\n",
       "      <th>1</th>\n",
       "      <td>448.075621</td>\n",
       "      <td>1.012131</td>\n",
       "      <td>4289.598313</td>\n",
       "      <td>26.686600</td>\n",
       "      <td>3.156139</td>\n",
       "    </tr>\n",
       "    <tr>\n",
       "      <th>2</th>\n",
       "      <td>134.435683</td>\n",
       "      <td>11.018391</td>\n",
       "      <td>101120.937695</td>\n",
       "      <td>21694.436822</td>\n",
       "      <td>73.255202</td>\n",
       "    </tr>\n",
       "    <tr>\n",
       "      <th>3</th>\n",
       "      <td>330.219412</td>\n",
       "      <td>2.773205</td>\n",
       "      <td>18879.262809</td>\n",
       "      <td>2.104714</td>\n",
       "      <td>14.212136</td>\n",
       "    </tr>\n",
       "  </tbody>\n",
       "</table>\n",
       "</div>"
      ],
      "text/plain": [
       "            Recency  Frequency  MonetaryValue  DiscountValue    Product\n",
       "Cluster                                                                \n",
       "0        247.438451   3.514767   17627.098775    3508.986120  13.366440\n",
       "1        448.075621   1.012131    4289.598313      26.686600   3.156139\n",
       "2        134.435683  11.018391  101120.937695   21694.436822  73.255202\n",
       "3        330.219412   2.773205   18879.262809       2.104714  14.212136"
      ]
     },
     "execution_count": 118,
     "metadata": {},
     "output_type": "execute_result"
    }
   ],
   "source": [
    "cluster_avg"
   ]
  },
  {
   "cell_type": "code",
   "execution_count": 119,
   "id": "fd332f3c-5ff5-4195-88a8-f8193d69650a",
   "metadata": {},
   "outputs": [
    {
     "data": {
      "text/plain": [
       "Recency            346.00000\n",
       "Frequency            3.00000\n",
       "MonetaryValue    13789.40058\n",
       "DiscountValue      895.60000\n",
       "Product             10.40000\n",
       "dtype: float64"
      ]
     },
     "execution_count": 119,
     "metadata": {},
     "output_type": "execute_result"
    }
   ],
   "source": [
    "population_avg"
   ]
  },
  {
   "cell_type": "code",
   "execution_count": 120,
   "id": "bdae498c-f88b-417b-b712-29b515c22b81",
   "metadata": {},
   "outputs": [
    {
     "data": {
      "text/html": [
       "<div>\n",
       "<style scoped>\n",
       "    .dataframe tbody tr th:only-of-type {\n",
       "        vertical-align: middle;\n",
       "    }\n",
       "\n",
       "    .dataframe tbody tr th {\n",
       "        vertical-align: top;\n",
       "    }\n",
       "\n",
       "    .dataframe thead th {\n",
       "        text-align: right;\n",
       "    }\n",
       "</style>\n",
       "<table border=\"1\" class=\"dataframe\">\n",
       "  <thead>\n",
       "    <tr style=\"text-align: right;\">\n",
       "      <th></th>\n",
       "      <th>Recency</th>\n",
       "      <th>Frequency</th>\n",
       "      <th>MonetaryValue</th>\n",
       "      <th>DiscountValue</th>\n",
       "      <th>Product</th>\n",
       "    </tr>\n",
       "    <tr>\n",
       "      <th>Cluster</th>\n",
       "      <th></th>\n",
       "      <th></th>\n",
       "      <th></th>\n",
       "      <th></th>\n",
       "      <th></th>\n",
       "    </tr>\n",
       "  </thead>\n",
       "  <tbody>\n",
       "    <tr>\n",
       "      <th>0</th>\n",
       "      <td>-0.28</td>\n",
       "      <td>0.17</td>\n",
       "      <td>0.28</td>\n",
       "      <td>2.92</td>\n",
       "      <td>0.29</td>\n",
       "    </tr>\n",
       "    <tr>\n",
       "      <th>1</th>\n",
       "      <td>0.30</td>\n",
       "      <td>-0.66</td>\n",
       "      <td>-0.69</td>\n",
       "      <td>-0.97</td>\n",
       "      <td>-0.70</td>\n",
       "    </tr>\n",
       "    <tr>\n",
       "      <th>2</th>\n",
       "      <td>-0.61</td>\n",
       "      <td>2.67</td>\n",
       "      <td>6.33</td>\n",
       "      <td>23.22</td>\n",
       "      <td>6.04</td>\n",
       "    </tr>\n",
       "    <tr>\n",
       "      <th>3</th>\n",
       "      <td>-0.05</td>\n",
       "      <td>-0.08</td>\n",
       "      <td>0.37</td>\n",
       "      <td>-1.00</td>\n",
       "      <td>0.37</td>\n",
       "    </tr>\n",
       "  </tbody>\n",
       "</table>\n",
       "</div>"
      ],
      "text/plain": [
       "         Recency  Frequency  MonetaryValue  DiscountValue  Product\n",
       "Cluster                                                           \n",
       "0          -0.28       0.17           0.28           2.92     0.29\n",
       "1           0.30      -0.66          -0.69          -0.97    -0.70\n",
       "2          -0.61       2.67           6.33          23.22     6.04\n",
       "3          -0.05      -0.08           0.37          -1.00     0.37"
      ]
     },
     "execution_count": 120,
     "metadata": {},
     "output_type": "execute_result"
    }
   ],
   "source": [
    "relative_imp = cluster_avg / population_avg - 1\n",
    "relative_imp.round(2)"
   ]
  },
  {
   "cell_type": "code",
   "execution_count": 121,
   "id": "09a7c492-f66b-456b-b8cb-a4e4a0cd4cd4",
   "metadata": {},
   "outputs": [
    {
     "data": {
      "image/png": "[encoded data removed]",
      "text/plain": [
       "<Figure size 800x400 with 2 Axes>"
      ]
     },
     "metadata": {},
     "output_type": "display_data"
    }
   ],
   "source": [
    "cmap = sns.diverging_palette(220, 20, as_cmap=True)\n",
    "# Plot heatmap\n",
    "plt.figure(figsize=(8, 4))\n",
    "plt.title('Relative importance of attributes')\n",
    "sns.heatmap(data=relative_imp, annot=True, fmt='.2f', cmap=cmap)\n",
    "plt.show()"
   ]
  },
  {
   "cell_type": "markdown",
   "id": "211f60b2-c042-46e2-9b99-1ef5752d2c20",
   "metadata": {},
   "source": [
    "RFM Score:\n",
    "\n",
    "The ranking of the individual RFM scores is done by dividing each of the RFM values into quartiles which creates four more or less equal buckets. We then rank each bucket from one to four; four being the best. Our summary table should now look something like this:"
   ]
  },
  {
   "cell_type": "code",
   "execution_count": 122,
   "id": "bbeb9ad8-42c6-46cd-a9d2-0bb9e6bd9459",
   "metadata": {},
   "outputs": [],
   "source": [
    "quantiles = rfm.quantile(q=[0.2,0.4,0.6,0.8])\n",
    "quantiles = quantiles.to_dict()\n",
    "    \n",
    "def RScore(x,p,d):\n",
    "    if x <= d[p][0.2]:\n",
    "        return 5\n",
    "    elif x <= d[p][0.4]:\n",
    "        return 4\n",
    "    elif x <= d[p][0.6]: \n",
    "        return 3\n",
    "    elif x <= d[p][0.8]: \n",
    "        return 2\n",
    "    else:\n",
    "        return 1   \n",
    "    \n",
    "def FMScore(x,p,d):\n",
    "    if x <= d[p][0.2]:\n",
    "        return 1\n",
    "    elif x <= d[p][0.4]:\n",
    "        return 2\n",
    "    elif x <= d[p][0.6]: \n",
    "        return 3\n",
    "    elif x <= d[p][0.8]: \n",
    "        return 4\n",
    "    else:\n",
    "        return 5\n",
    "    \n",
    "rfm['R'] = rfm['Recency'].apply(RScore, args=('Recency',quantiles,))\n",
    "rfm['F'] = rfm['Frequency'].apply(FMScore, args=('Frequency',quantiles,))\n",
    "rfm['M'] = rfm['MonetaryValue'].apply(FMScore, args=('MonetaryValue',quantiles,))\n",
    "rfm['G'] = rfm['DiscountValue'].apply(FMScore, args=('DiscountValue',quantiles,))\n",
    "rfm['P'] = rfm['Product'].apply(RScore, args=('Product',quantiles,))"
   ]
  },
  {
   "cell_type": "code",
   "execution_count": 123,
   "id": "0b7af07d-ff1c-4d91-8941-fd5c5cc372ac",
   "metadata": {},
   "outputs": [],
   "source": [
    "# Concat RFM quartile values to create RFM Segments\n",
    "def join_rfm(x): return str(x['R']) + str(x['F']) + str(x['M']) + str(x['G']) + str(x['P']) \n",
    "rfm['RFM_Segment'] = rfm.apply(join_rfm, axis=1)\n",
    "# Calculate RFM_Score\n",
    "rfm['RFM_Score'] = rfm[['R','F','M']].sum(axis=1)"
   ]
  },
  {
   "cell_type": "code",
   "execution_count": 124,
   "id": "affa9f1a-3f52-4909-b2ac-bbcfcaad9e4a",
   "metadata": {},
   "outputs": [
    {
     "data": {
      "text/plain": [
       "array(['4.04.04.01.01.0', '3.05.05.05.01.0', '3.05.05.01.01.0',\n",
       "       '4.05.05.05.01.0', '2.01.03.01.04.0', '5.05.04.01.02.0',\n",
       "       '5.05.05.05.01.0', '5.04.05.05.01.0', '2.04.04.01.02.0',\n",
       "       '4.05.04.01.02.0', '3.01.02.01.05.0', '3.04.05.01.01.0',\n",
       "       '5.04.04.05.01.0', '3.05.05.01.02.0', '4.05.05.01.01.0',\n",
       "       '1.01.01.01.04.0', '5.04.04.01.01.0', '1.01.03.01.03.0',\n",
       "       '1.05.05.05.01.0', '1.01.03.01.02.0', '3.01.03.01.02.0',\n",
       "       '3.01.01.01.05.0', '1.01.04.01.03.0', '1.01.01.01.05.0',\n",
       "       '5.04.05.05.02.0', '5.01.03.05.04.0', '4.04.03.01.04.0',\n",
       "       '4.01.03.01.03.0', '2.01.01.01.05.0', '3.01.04.01.02.0',\n",
       "       '5.05.05.01.01.0', '1.04.03.01.02.0', '4.01.02.01.05.0',\n",
       "       '2.04.04.01.03.0', '4.01.03.01.04.0', '5.04.04.01.02.0',\n",
       "       '1.01.03.01.04.0', '5.04.05.01.02.0', '2.05.05.01.01.0',\n",
       "       '1.01.02.01.04.0', '5.04.05.01.01.0', '3.04.04.01.03.0',\n",
       "       '3.05.04.01.02.0', '2.01.04.01.03.0', '3.01.03.01.05.0',\n",
       "       '5.04.01.05.05.0', '5.04.03.05.03.0', '3.04.01.01.05.0',\n",
       "       '3.01.04.01.04.0', '3.01.03.01.04.0', '3.05.04.05.03.0',\n",
       "       '2.04.02.01.05.0', '5.01.03.01.04.0', '4.01.02.01.04.0',\n",
       "       '3.04.05.05.01.0', '5.01.01.05.05.0', '3.04.04.01.01.0',\n",
       "       '1.01.04.01.02.0', '3.01.02.01.04.0', '5.01.02.01.05.0',\n",
       "       '4.04.02.01.04.0', '1.01.02.01.05.0', '2.01.02.01.05.0',\n",
       "       '2.01.03.01.05.0', '4.04.05.01.01.0', '5.04.04.01.03.0',\n",
       "       '1.04.05.01.01.0', '2.04.05.01.01.0', '4.05.03.05.02.0',\n",
       "       '3.01.04.01.03.0', '4.01.02.01.03.0', '2.04.01.05.05.0',\n",
       "       '4.01.04.05.02.0', '5.01.01.01.05.0', '3.05.04.05.02.0',\n",
       "       '5.01.04.01.03.0', '5.01.02.01.03.0', '5.05.03.01.03.0',\n",
       "       '1.05.05.01.01.0', '2.04.01.01.05.0', '2.01.04.01.02.0',\n",
       "       '4.04.05.05.01.0', '2.01.02.01.04.0', '2.05.02.01.02.0',\n",
       "       '2.05.05.05.01.0', '2.01.02.01.03.0', '2.01.03.01.03.0',\n",
       "       '2.01.05.01.01.0', '5.01.05.01.01.0', '2.01.05.01.02.0',\n",
       "       '5.04.03.01.03.0', '2.04.05.05.01.0', '4.04.02.01.02.0',\n",
       "       '4.01.01.01.05.0', '3.01.03.01.03.0', '2.01.01.01.03.0',\n",
       "       '2.05.05.01.02.0', '5.04.04.05.02.0', '1.01.03.01.05.0',\n",
       "       '1.04.04.01.03.0', '1.04.05.05.01.0', '2.04.05.05.02.0',\n",
       "       '4.04.03.01.03.0', '2.04.03.01.02.0', '5.05.03.01.02.0',\n",
       "       '5.05.05.05.02.0', '4.04.05.01.02.0', '3.04.04.01.02.0',\n",
       "       '5.01.04.01.02.0', '4.04.03.01.02.0', '3.05.02.05.04.0',\n",
       "       '4.04.04.01.02.0', '2.04.04.05.02.0', '1.01.02.05.04.0',\n",
       "       '4.01.04.01.02.0', '2.04.03.01.03.0', '2.04.05.01.02.0',\n",
       "       '1.04.04.01.02.0', '4.01.04.01.03.0', '4.05.04.05.02.0',\n",
       "       '5.05.04.05.02.0', '4.05.05.01.02.0', '3.04.04.05.02.0',\n",
       "       '5.05.05.01.02.0', '1.04.02.01.04.0', '2.01.03.01.02.0',\n",
       "       '5.01.02.01.04.0', '5.04.03.01.05.0', '1.04.03.01.04.0',\n",
       "       '3.05.03.01.03.0', '4.04.04.01.03.0', '1.01.04.01.04.0',\n",
       "       '3.04.02.01.03.0', '5.01.03.01.03.0', '2.04.04.01.01.0',\n",
       "       '3.04.03.01.04.0', '2.04.02.01.04.0', '4.04.03.05.02.0',\n",
       "       '2.05.03.01.03.0', '3.04.03.01.03.0', '3.04.04.01.04.0',\n",
       "       '5.04.03.01.04.0', '4.04.02.01.03.0', '1.04.02.01.05.0',\n",
       "       '3.05.03.05.03.0', '2.05.04.01.02.0', '5.04.02.01.03.0',\n",
       "       '3.04.04.05.01.0', '1.01.03.05.03.0', '2.05.03.05.02.0',\n",
       "       '5.05.04.01.01.0', '4.05.04.01.03.0', '5.05.04.05.01.0',\n",
       "       '2.01.01.01.04.0', '3.01.05.01.01.0', '3.04.01.05.05.0',\n",
       "       '2.04.03.01.05.0', '1.01.02.01.03.0', '5.04.02.01.04.0',\n",
       "       '5.01.05.01.02.0', '3.04.03.05.03.0', '1.01.01.05.05.0',\n",
       "       '2.04.02.01.03.0', '4.04.03.05.03.0', '1.01.01.01.03.0',\n",
       "       '4.04.02.05.04.0', '4.01.03.05.04.0', '2.05.03.05.03.0',\n",
       "       '3.01.05.01.02.0', '2.04.03.01.04.0', '3.04.04.05.03.0',\n",
       "       '5.05.04.01.03.0', '5.04.03.01.02.0', '4.01.05.01.02.0',\n",
       "       '1.01.02.01.02.0', '2.05.05.05.02.0', '3.01.02.01.03.0',\n",
       "       '3.01.02.01.02.0', '2.01.04.01.04.0', '2.04.02.05.04.0',\n",
       "       '1.04.03.01.01.0', '4.04.04.05.02.0', '5.05.03.05.04.0',\n",
       "       '2.01.02.05.03.0', '3.04.03.01.05.0', '1.05.04.01.02.0',\n",
       "       '3.01.02.05.03.0', '4.01.01.01.04.0', '4.01.05.01.01.0',\n",
       "       '4.05.04.01.01.0', '3.01.01.01.04.0', '2.01.05.01.03.0',\n",
       "       '4.04.02.01.05.0', '5.01.03.01.05.0', '5.04.02.05.04.0',\n",
       "       '3.05.03.01.02.0', '5.01.04.05.01.0', '3.04.01.01.03.0',\n",
       "       '4.01.03.01.05.0', '1.05.03.05.02.0', '1.04.04.01.01.0',\n",
       "       '5.04.04.05.03.0', '2.04.02.05.05.0', '1.04.03.01.03.0',\n",
       "       '3.04.05.01.02.0', '2.01.03.05.03.0', '4.01.03.01.02.0',\n",
       "       '4.05.04.05.03.0', '3.01.01.05.05.0', '2.01.03.05.04.0',\n",
       "       '4.05.05.05.02.0', '4.05.03.05.03.0', '5.01.04.01.04.0',\n",
       "       '3.05.05.05.02.0', '5.04.02.05.03.0', '3.04.02.05.03.0',\n",
       "       '3.01.02.05.05.0', '3.05.04.01.01.0', '2.05.04.01.01.0',\n",
       "       '5.01.01.05.04.0', '3.01.04.05.02.0', '5.01.02.05.04.0',\n",
       "       '5.05.03.05.03.0', '5.04.01.01.05.0', '3.05.04.01.03.0',\n",
       "       '5.01.02.05.05.0', '1.04.03.01.05.0', '4.05.03.01.04.0',\n",
       "       '5.01.05.05.01.0', '1.05.05.01.02.0', '5.04.03.05.05.0',\n",
       "       '2.04.04.05.01.0', '4.05.01.05.04.0', '2.05.04.05.02.0',\n",
       "       '4.01.04.01.01.0', '5.04.02.01.05.0', '3.01.02.05.04.0',\n",
       "       '1.01.05.01.01.0', '2.04.01.01.03.0', '5.05.03.05.02.0',\n",
       "       '1.04.02.01.03.0', '2.05.04.05.01.0', '4.01.02.05.05.0',\n",
       "       '2.05.04.05.03.0', '1.04.03.05.03.0', '4.05.03.01.02.0',\n",
       "       '4.04.05.05.02.0', '3.04.03.05.02.0', '4.01.01.01.03.0',\n",
       "       '1.04.02.01.02.0', '2.01.01.05.05.0', '2.05.04.01.03.0',\n",
       "       '2.01.02.05.05.0', '5.04.03.05.04.0', '2.04.03.05.02.0',\n",
       "       '4.04.01.05.05.0', '2.04.03.05.04.0', '3.04.02.01.05.0',\n",
       "       '1.01.04.01.01.0', '5.04.04.01.04.0', '3.04.03.01.02.0',\n",
       "       '2.01.03.05.02.0', '5.04.02.01.02.0', '1.01.05.01.02.0',\n",
       "       '5.05.04.05.03.0', '2.01.02.05.04.0', '2.04.03.05.03.0',\n",
       "       '3.01.04.01.01.0', '3.04.02.01.02.0', '3.04.02.05.04.0',\n",
       "       '3.05.04.01.04.0', '4.05.03.01.03.0', '5.01.03.01.02.0',\n",
       "       '3.05.04.05.01.0', '2.04.01.05.04.0', '4.01.02.05.04.0',\n",
       "       '5.01.04.01.01.0', '4.04.04.05.01.0', '3.04.03.05.05.0',\n",
       "       '5.01.04.05.04.0', '1.01.02.05.05.0', '3.05.04.05.04.0',\n",
       "       '5.01.01.01.04.0', '1.01.01.01.02.0', '4.04.02.05.02.0',\n",
       "       '4.04.03.05.04.0', '1.05.04.01.01.0', '4.01.01.05.05.0',\n",
       "       '2.05.03.01.02.0', '1.04.05.01.02.0', '4.05.04.05.01.0',\n",
       "       '4.04.02.05.05.0', '1.04.04.05.03.0', '5.04.05.01.03.0',\n",
       "       '2.01.03.05.05.0', '4.04.01.01.05.0', '3.04.02.01.04.0',\n",
       "       '4.04.04.01.04.0', '4.05.02.01.04.0', '1.01.04.01.05.0',\n",
       "       '5.04.02.05.05.0', '4.01.03.01.01.0', '2.04.01.01.02.0',\n",
       "       '4.04.01.05.02.0', '4.04.04.05.03.0', '3.04.01.01.04.0',\n",
       "       '4.01.04.01.04.0', '2.05.03.01.04.0', '5.04.03.01.01.0',\n",
       "       '4.04.02.05.03.0', '5.05.03.05.01.0', '5.04.03.05.02.0',\n",
       "       '3.05.02.01.03.0', '2.05.03.01.01.0', '3.04.02.05.02.0',\n",
       "       '5.05.02.01.03.0', '2.04.02.05.03.0', '2.01.01.05.01.0',\n",
       "       '1.01.03.01.01.0', '5.01.04.05.03.0', '3.01.04.01.05.0',\n",
       "       '4.05.02.01.03.0', '3.04.02.05.05.0', '3.01.05.05.01.0',\n",
       "       '3.04.05.05.02.0', '5.05.02.05.02.0', '3.01.01.01.03.0',\n",
       "       '1.04.01.05.05.0', '2.01.04.01.01.0', '1.04.04.05.02.0',\n",
       "       '2.04.01.01.04.0', '2.04.04.05.03.0', '5.01.03.05.02.0',\n",
       "       '5.05.02.05.01.0', '4.01.01.05.04.0', '1.04.03.05.04.0',\n",
       "       '5.01.04.01.05.0', '5.04.04.01.05.0', '2.01.01.05.04.0',\n",
       "       '4.01.02.01.02.0', '4.05.02.05.04.0', '3.05.03.05.02.0',\n",
       "       '5.05.04.01.04.0', '1.05.04.01.03.0', '2.01.04.05.03.0',\n",
       "       '1.04.04.05.01.0', '1.05.04.05.02.0', '4.01.03.05.02.0',\n",
       "       '3.01.03.05.05.0', '3.04.04.01.05.0', '3.01.04.05.03.0',\n",
       "       '2.01.04.01.05.0', '3.05.05.01.03.0', '4.04.03.01.05.0',\n",
       "       '1.01.04.05.02.0', '2.01.04.05.02.0', '3.01.03.05.04.0',\n",
       "       '3.01.04.05.05.0', '3.04.03.05.04.0', '2.01.02.05.02.0',\n",
       "       '3.05.02.01.04.0', '3.01.03.05.02.0', '2.01.02.01.02.0',\n",
       "       '1.05.05.01.03.0', '5.04.01.01.04.0', '5.01.03.05.05.0',\n",
       "       '3.01.05.01.03.0', '4.01.03.05.03.0', '2.05.03.05.04.0',\n",
       "       '3.01.03.05.03.0', '5.05.05.01.03.0', '1.04.04.01.05.0',\n",
       "       '3.05.02.05.03.0', '5.01.04.05.02.0', '5.01.03.05.03.0',\n",
       "       '3.01.04.05.01.0', '2.01.05.05.01.0', '1.04.04.01.04.0',\n",
       "       '1.01.03.05.04.0', '1.04.02.01.01.0', '1.01.03.05.02.0',\n",
       "       '4.05.04.01.04.0', '5.04.01.05.03.0', '5.05.02.05.03.0',\n",
       "       '1.01.02.05.03.0', '5.05.03.01.04.0', '4.05.05.01.03.0',\n",
       "       '2.05.02.01.04.0', '1.05.05.05.02.0', '5.04.01.05.04.0',\n",
       "       '3.01.01.05.03.0', '4.04.01.01.04.0', '2.04.04.01.05.0',\n",
       "       '1.04.01.01.05.0', '2.04.04.01.04.0', '4.05.03.01.01.0',\n",
       "       '3.04.01.05.04.0', '5.01.02.05.03.0', '5.01.01.01.03.0',\n",
       "       '1.01.05.01.03.0', '5.01.05.05.02.0', '5.04.04.05.04.0',\n",
       "       '5.04.02.05.02.0', '3.05.03.05.01.0', '4.04.01.01.02.0',\n",
       "       '4.04.01.05.04.0', '4.01.04.05.03.0', '5.05.02.05.04.0',\n",
       "       '4.01.04.05.01.0', '2.04.03.01.01.0', '2.05.02.05.03.0',\n",
       "       '1.04.05.01.03.0', '1.05.04.05.01.0', '1.05.03.05.03.0',\n",
       "       '4.04.04.05.04.0', '1.04.03.05.02.0', '4.01.04.05.04.0',\n",
       "       '1.01.02.05.02.0', '3.04.01.05.03.0', '4.01.01.01.02.0',\n",
       "       '2.04.01.05.03.0', '3.05.03.05.04.0', '1.04.01.01.01.0',\n",
       "       '2.01.04.05.01.0', '3.05.03.01.01.0', '5.01.02.01.02.0',\n",
       "       '1.05.03.01.04.0', '4.05.02.01.02.0', '4.05.02.05.03.0',\n",
       "       '3.01.01.01.02.0', '2.05.04.01.04.0', '2.01.03.01.01.0',\n",
       "       '1.04.02.05.05.0', '2.04.02.01.02.0', '5.01.03.01.01.0',\n",
       "       '4.01.04.01.05.0', '2.04.02.05.02.0', '5.05.01.05.03.0',\n",
       "       '1.04.02.05.03.0', '3.01.01.05.04.0', '1.01.04.05.01.0',\n",
       "       '4.01.03.05.05.0', '5.01.05.01.03.0', '4.05.05.05.03.0',\n",
       "       '1.01.01.05.04.0', '1.01.04.05.03.0', '5.05.03.01.01.0',\n",
       "       '3.05.02.05.02.0', '3.05.03.01.04.0', '5.05.02.01.04.0',\n",
       "       '4.04.01.01.03.0', '1.04.03.05.05.0', '4.01.05.05.01.0',\n",
       "       '3.05.01.05.04.0', '4.01.05.05.02.0', '1.04.05.05.02.0',\n",
       "       '1.01.05.01.04.0', '2.05.05.01.03.0', '1.05.03.01.03.0',\n",
       "       '2.05.02.01.03.0', '2.01.01.05.03.0', '3.05.02.01.02.0',\n",
       "       '3.04.03.01.01.0', '4.01.02.05.03.0', '3.04.04.05.05.0',\n",
       "       '5.05.04.05.04.0', '1.05.04.01.04.0', '5.05.05.05.03.0',\n",
       "       '1.05.03.01.02.0', '2.04.03.05.01.0', '1.04.04.05.05.0',\n",
       "       '4.04.03.05.05.0', '3.01.03.01.01.0', '3.04.05.05.03.0',\n",
       "       '4.05.03.05.04.0', '1.01.01.05.03.0', '2.04.05.01.03.0',\n",
       "       '1.01.03.05.05.0', '1.04.02.05.04.0', '3.01.02.01.01.0',\n",
       "       '4.04.03.01.01.0', '1.04.01.01.03.0', '3.01.02.05.02.0',\n",
       "       '3.04.05.01.03.0', '4.04.05.05.03.0', '3.05.05.05.03.0',\n",
       "       '2.05.02.05.04.0', '3.05.01.05.02.0', '1.04.04.05.04.0',\n",
       "       '4.05.01.01.04.0', '1.05.03.05.04.0', '1.04.05.01.04.0',\n",
       "       '3.04.04.05.04.0', '4.01.01.05.03.0', '4.01.01.01.01.0',\n",
       "       '4.04.05.01.03.0', '4.04.02.01.01.0', '3.05.01.01.02.0',\n",
       "       '4.01.05.01.03.0', '4.04.04.05.05.0', '1.05.02.01.02.0',\n",
       "       '5.01.01.05.03.0', '5.01.05.01.04.0', '1.01.05.01.05.0',\n",
       "       '2.05.01.05.04.0', '1.04.01.05.02.0', '5.04.01.01.03.0',\n",
       "       '1.04.01.01.04.0', '3.01.04.05.04.0', '3.05.01.01.04.0',\n",
       "       '3.04.03.05.01.0', '1.05.03.01.01.0', '2.04.04.05.04.0',\n",
       "       '5.01.02.05.02.0', '1.01.05.05.01.0', '2.01.04.05.04.0',\n",
       "       '4.05.01.05.03.0', '1.05.02.01.03.0', '2.05.01.01.03.0',\n",
       "       '2.05.03.05.01.0', '1.05.04.05.03.0', '5.04.05.05.03.0',\n",
       "       '2.04.02.01.01.0', '3.01.05.05.02.0', '3.05.01.01.03.0',\n",
       "       '5.05.01.05.02.0', '5.04.01.01.02.0', '1.04.01.05.03.0',\n",
       "       '1.05.02.05.03.0', '4.01.01.05.02.0', '1.01.04.05.04.0',\n",
       "       '2.05.01.01.04.0', '4.01.02.05.02.0', '5.04.03.05.01.0',\n",
       "       '2.01.05.05.02.0', '1.05.03.05.01.0', '5.01.01.01.02.0',\n",
       "       '2.01.03.05.01.0', '2.01.01.01.02.0', '5.01.03.05.01.0',\n",
       "       '4.01.03.05.01.0', '3.04.02.01.01.0', '5.01.01.01.01.0',\n",
       "       '1.04.02.05.02.0', '1.05.04.05.04.0', '1.05.01.05.04.0',\n",
       "       '1.01.01.01.01.0', '4.04.04.01.05.0', '3.05.05.01.04.0',\n",
       "       '1.05.02.01.04.0', '1.04.01.01.02.0', '5.04.01.01.01.0',\n",
       "       '1.04.05.05.03.0', '4.05.03.05.01.0', '1.01.01.05.01.0',\n",
       "       '4.04.03.05.01.0', '2.04.03.05.05.0', '4.01.02.01.01.0',\n",
       "       '1.05.01.01.03.0', '5.05.01.05.04.0', '3.04.01.01.02.0',\n",
       "       '1.05.02.01.01.0', '3.05.02.05.01.0', '1.04.03.05.01.0',\n",
       "       '3.05.01.05.03.0', '2.04.04.05.05.0', '1.05.02.05.04.0',\n",
       "       '2.04.05.05.03.0', '4.05.01.01.03.0', '1.01.05.05.03.0',\n",
       "       '1.05.05.01.04.0', '5.04.02.01.01.0', '3.04.05.05.04.0',\n",
       "       '1.01.04.05.05.0', '5.05.01.01.03.0', '1.01.05.05.02.0',\n",
       "       '5.04.01.05.02.0', '2.04.05.01.04.0', '4.05.02.05.01.0',\n",
       "       '2.04.01.05.02.0', '2.05.02.05.02.0', '2.01.04.05.05.0',\n",
       "       '5.05.02.01.02.0', '4.05.02.05.02.0', '2.05.04.05.04.0',\n",
       "       '4.05.01.05.02.0', '2.05.01.05.02.0', '3.05.02.01.01.0',\n",
       "       '2.05.01.05.01.0', '4.05.02.01.01.0', '3.04.01.05.02.0',\n",
       "       '2.01.02.01.01.0', '4.05.01.01.02.0', '2.01.05.01.04.0',\n",
       "       '5.01.04.05.05.0', '3.01.05.01.05.0', '4.05.04.05.04.0',\n",
       "       '3.04.05.01.05.0', '4.04.01.05.03.0', '3.01.05.01.04.0',\n",
       "       '3.04.05.01.04.0', '4.05.05.01.04.0', '3.01.03.05.01.0',\n",
       "       '3.01.01.05.02.0', '5.05.05.01.04.0', '4.04.05.01.04.0',\n",
       "       '5.04.05.01.04.0', '3.04.02.05.01.0', '3.01.01.01.01.0',\n",
       "       '5.05.01.01.04.0', '5.05.05.05.04.0', '3.04.01.05.01.0',\n",
       "       '3.01.05.05.03.0', '3.01.01.05.01.0', '4.01.05.01.05.0',\n",
       "       '4.04.01.01.01.0', '4.05.01.01.01.0', '4.01.04.05.05.0',\n",
       "       '5.04.04.05.05.0', '4.01.05.05.03.0', '4.01.01.05.01.0',\n",
       "       '5.05.02.01.01.0', '5.01.01.05.02.0', '5.04.02.05.01.0',\n",
       "       '5.01.05.05.03.0', '5.04.05.01.05.0', '5.01.02.01.01.0'],\n",
       "      dtype=object)"
      ]
     },
     "execution_count": 124,
     "metadata": {},
     "output_type": "execute_result"
    }
   ],
   "source": [
    "rfm['RFM_Segment'].unique()"
   ]
  },
  {
   "cell_type": "markdown",
   "id": "b66bd148-f47c-493a-9ea3-955e1c47678e",
   "metadata": {},
   "source": [
    "After calculations on the RFM data we can create customer segments that are actionable and easy to understand — like the ones below:\n",
    "\n",
    "1. Champions: Bought recently, buy often and spend the most\n",
    "2. Loyal customers: Buy on a regular basis. Responsive to promotions.\n",
    "3. Potential loyalist: Recent customers with average frequency.\n",
    "4. Recent customers: Bought most recently, but not often.\n",
    "5. Promising: Recent shoppers, but haven’t spent much.\n",
    "6. Needs attention: Above average recency, frequency and monetary values. May not have bought very recently though.\n",
    "7. About to sleep: Below average recency and frequency. Will lose them if not reactivated.\n",
    "8. At risk: Some time since they’ve purchased. Need to bring them back!\n",
    "9. Can’t lose them: Used to purchase frequently but haven’t returned for a long time.\n",
    "10. Hibernating: Last purchase was long back and low number of orders. May be lost."
   ]
  },
  {
   "cell_type": "code",
   "execution_count": 125,
   "id": "dfea9fa2-6e7e-46e2-8a98-23f61fe7c52f",
   "metadata": {},
   "outputs": [
    {
     "data": {
      "text/html": [
       "<div>\n",
       "<style scoped>\n",
       "    .dataframe tbody tr th:only-of-type {\n",
       "        vertical-align: middle;\n",
       "    }\n",
       "\n",
       "    .dataframe tbody tr th {\n",
       "        vertical-align: top;\n",
       "    }\n",
       "\n",
       "    .dataframe thead th {\n",
       "        text-align: right;\n",
       "    }\n",
       "</style>\n",
       "<table border=\"1\" class=\"dataframe\">\n",
       "  <thead>\n",
       "    <tr style=\"text-align: right;\">\n",
       "      <th></th>\n",
       "      <th>user_id</th>\n",
       "      <th>Recency</th>\n",
       "      <th>Frequency</th>\n",
       "      <th>MonetaryValue</th>\n",
       "      <th>DiscountValue</th>\n",
       "      <th>Product</th>\n",
       "      <th>Cluster</th>\n",
       "      <th>R</th>\n",
       "      <th>F</th>\n",
       "      <th>M</th>\n",
       "      <th>G</th>\n",
       "      <th>P</th>\n",
       "      <th>RFM_Segment</th>\n",
       "      <th>RFM_Score</th>\n",
       "      <th>Segment</th>\n",
       "      <th>Score</th>\n",
       "    </tr>\n",
       "  </thead>\n",
       "  <tbody>\n",
       "    <tr>\n",
       "      <th>0</th>\n",
       "      <td>50049</td>\n",
       "      <td>205</td>\n",
       "      <td>2</td>\n",
       "      <td>8805.0001</td>\n",
       "      <td>0.0</td>\n",
       "      <td>10</td>\n",
       "      <td>3</td>\n",
       "      <td>4</td>\n",
       "      <td>4</td>\n",
       "      <td>4</td>\n",
       "      <td>1</td>\n",
       "      <td>1</td>\n",
       "      <td>4.04.04.01.01.0</td>\n",
       "      <td>12</td>\n",
       "      <td>Loyal customers</td>\n",
       "      <td>Silver</td>\n",
       "    </tr>\n",
       "    <tr>\n",
       "      <th>1</th>\n",
       "      <td>50174</td>\n",
       "      <td>386</td>\n",
       "      <td>5</td>\n",
       "      <td>24389.9998</td>\n",
       "      <td>2000.0</td>\n",
       "      <td>13</td>\n",
       "      <td>0</td>\n",
       "      <td>3</td>\n",
       "      <td>5</td>\n",
       "      <td>5</td>\n",
       "      <td>5</td>\n",
       "      <td>1</td>\n",
       "      <td>3.05.05.05.01.0</td>\n",
       "      <td>13</td>\n",
       "      <td>Champions</td>\n",
       "      <td>Gold</td>\n",
       "    </tr>\n",
       "    <tr>\n",
       "      <th>2</th>\n",
       "      <td>50511</td>\n",
       "      <td>300</td>\n",
       "      <td>3</td>\n",
       "      <td>16246.0021</td>\n",
       "      <td>0.0</td>\n",
       "      <td>11</td>\n",
       "      <td>3</td>\n",
       "      <td>3</td>\n",
       "      <td>5</td>\n",
       "      <td>5</td>\n",
       "      <td>1</td>\n",
       "      <td>1</td>\n",
       "      <td>3.05.05.01.01.0</td>\n",
       "      <td>13</td>\n",
       "      <td>Champions</td>\n",
       "      <td>Gold</td>\n",
       "    </tr>\n",
       "    <tr>\n",
       "      <th>3</th>\n",
       "      <td>50565</td>\n",
       "      <td>138</td>\n",
       "      <td>4</td>\n",
       "      <td>14108.0010</td>\n",
       "      <td>2478.0</td>\n",
       "      <td>15</td>\n",
       "      <td>0</td>\n",
       "      <td>4</td>\n",
       "      <td>5</td>\n",
       "      <td>5</td>\n",
       "      <td>5</td>\n",
       "      <td>1</td>\n",
       "      <td>4.05.05.05.01.0</td>\n",
       "      <td>14</td>\n",
       "      <td>Champions</td>\n",
       "      <td>Gold</td>\n",
       "    </tr>\n",
       "    <tr>\n",
       "      <th>4</th>\n",
       "      <td>53762</td>\n",
       "      <td>701</td>\n",
       "      <td>1</td>\n",
       "      <td>5397.9999</td>\n",
       "      <td>0.0</td>\n",
       "      <td>3</td>\n",
       "      <td>1</td>\n",
       "      <td>2</td>\n",
       "      <td>1</td>\n",
       "      <td>3</td>\n",
       "      <td>1</td>\n",
       "      <td>4</td>\n",
       "      <td>2.01.03.01.04.0</td>\n",
       "      <td>6</td>\n",
       "      <td>At risk</td>\n",
       "      <td>Bronze</td>\n",
       "    </tr>\n",
       "  </tbody>\n",
       "</table>\n",
       "</div>"
      ],
      "text/plain": [
       "   user_id  Recency  Frequency  MonetaryValue  DiscountValue  Product  \\\n",
       "0    50049      205          2      8805.0001            0.0       10   \n",
       "1    50174      386          5     24389.9998         2000.0       13   \n",
       "2    50511      300          3     16246.0021            0.0       11   \n",
       "3    50565      138          4     14108.0010         2478.0       15   \n",
       "4    53762      701          1      5397.9999            0.0        3   \n",
       "\n",
       "   Cluster  R  F  M  G  P      RFM_Segment  RFM_Score          Segment   Score  \n",
       "0        3  4  4  4  1  1  4.04.04.01.01.0         12  Loyal customers  Silver  \n",
       "1        0  3  5  5  5  1  3.05.05.05.01.0         13        Champions    Gold  \n",
       "2        3  3  5  5  1  1  3.05.05.01.01.0         13        Champions    Gold  \n",
       "3        0  4  5  5  5  1  4.05.05.05.01.0         14        Champions    Gold  \n",
       "4        1  2  1  3  1  4  2.01.03.01.04.0          6          At risk  Bronze  "
      ]
     },
     "execution_count": 125,
     "metadata": {},
     "output_type": "execute_result"
    }
   ],
   "source": [
    "# Create human friendly RFM labels\n",
    "segt_map = {\n",
    "    \n",
    "    r'[1-2][1-2]': 'Hibernating',\n",
    "    r'[1-2][3-4]': 'At risk', \n",
    "    r'[1-2]5': 'Can\\'t lose them',\n",
    "    r'3[1-2]': 'About to sleep',\n",
    "    r'33': 'Need attention',\n",
    "    r'[3-4][4-5]': 'Loyal customers',\n",
    "    r'41': 'Promising',\n",
    "    r'51': 'Price Sensitive',\n",
    "    r'[4-5][2-3]': 'Potential loyalists',\n",
    "    r'5[4-5]': 'Champions'\n",
    "}\n",
    "#rfm['Segment'] = rfm['R'].map(str) + rfm['F'].map(str)+ rfm['M'].map(str)\n",
    "rfm['Segment'] = rfm['F'].map(str) + rfm['M'].map(str)\n",
    "rfm['Segment'] = rfm['Segment'].replace(segt_map, regex=True)\n",
    "# Create some human friendly labels for the scores\n",
    "rfm.loc[(rfm['F']<=1),'Score'] = 'No Score'\n",
    "rfm.loc[(rfm['RFM_Score']<4),'Score'] = 'Green'\n",
    "rfm.loc[(rfm['RFM_Score']>=4),'Score'] = 'Bronze' \n",
    "rfm.loc[(rfm['RFM_Score']>8) ,'Score'] = 'Silver' \n",
    "rfm.loc[(rfm['RFM_Score']>12) ,'Score'] = 'Gold' \n",
    "rfm.loc[(rfm['RFM_Score']>=15) ,'Score'] = 'Platinum'\n",
    "rfm.head(5)"
   ]
  },
  {
   "cell_type": "code",
   "execution_count": 126,
   "id": "adc0df59-5e73-493e-9565-81cc4f618a07",
   "metadata": {},
   "outputs": [],
   "source": [
    "fig1 = rfm.groupby(['Segment']).count().unstack().fillna(0)\n",
    "fig2 = rfm.groupby(['Score']).count().unstack().fillna(0)"
   ]
  },
  {
   "cell_type": "code",
   "execution_count": 127,
   "id": "853cb80c-05b6-4379-8c27-d017ed3abe85",
   "metadata": {},
   "outputs": [
    {
     "data": {
      "image/png": "[encoded data removed]",
      "text/plain": [
       "<Figure size 2000x2000 with 2 Axes>"
      ]
     },
     "metadata": {},
     "output_type": "display_data"
    }
   ],
   "source": [
    "import matplotlib.pyplot as plt\n",
    "\n",
    "\n",
    "sns.set(font_scale=1.1)\n",
    "\n",
    "#Pie Chart\n",
    "f,ax=plt.subplots(2,1,figsize=(20,20))\n",
    "sns.countplot(x='Segment',data=rfm,ax=ax[0],palette=\"Set3\")\n",
    "ax[0].set_title('Segment')\n",
    "ax[0].set_ylabel('')\n",
    "ax[0].set_title('Survival count by IsAlone')\n",
    "ax[0].set_xticklabels(ax[0].get_xticklabels(), rotation=90)\n",
    "\n",
    "#Bar chart - count\n",
    "sns.countplot(x='Score',data=rfm,ax=ax[1],palette=\"Set3\")\n",
    "ax[1].set_title('Score')\n",
    "\n",
    "for p in ax[0].patches:\n",
    "    ax[0].annotate('{:.1f}'.format(p.get_height()), (p.get_x()+0.25, p.get_height()+20))\n",
    "\n",
    "for p in ax[1].patches:\n",
    "    ax[1].annotate('{:.1f}'.format(p.get_height()), (p.get_x()+0.25, p.get_height()+20))\n",
    "\n",
    "\n",
    "plt.show()"
   ]
  },
  {
   "cell_type": "code",
   "execution_count": 128,
   "id": "80145924-a342-442a-9bdc-10d2e28c7458",
   "metadata": {},
   "outputs": [
    {
     "data": {
      "text/html": [
       "<div>\n",
       "<style scoped>\n",
       "    .dataframe tbody tr th:only-of-type {\n",
       "        vertical-align: middle;\n",
       "    }\n",
       "\n",
       "    .dataframe tbody tr th {\n",
       "        vertical-align: top;\n",
       "    }\n",
       "\n",
       "    .dataframe thead th {\n",
       "        text-align: right;\n",
       "    }\n",
       "</style>\n",
       "<table border=\"1\" class=\"dataframe\">\n",
       "  <thead>\n",
       "    <tr style=\"text-align: right;\">\n",
       "      <th></th>\n",
       "      <th>Segment</th>\n",
       "      <th>Count</th>\n",
       "      <th>percent</th>\n",
       "    </tr>\n",
       "  </thead>\n",
       "  <tbody>\n",
       "    <tr>\n",
       "      <th>0</th>\n",
       "      <td>At risk</td>\n",
       "      <td>185366</td>\n",
       "      <td>28.8</td>\n",
       "    </tr>\n",
       "    <tr>\n",
       "      <th>1</th>\n",
       "      <td>Can't lose them</td>\n",
       "      <td>10889</td>\n",
       "      <td>1.7</td>\n",
       "    </tr>\n",
       "    <tr>\n",
       "      <th>2</th>\n",
       "      <td>Champions</td>\n",
       "      <td>96021</td>\n",
       "      <td>14.9</td>\n",
       "    </tr>\n",
       "    <tr>\n",
       "      <th>3</th>\n",
       "      <td>Hibernating</td>\n",
       "      <td>246137</td>\n",
       "      <td>38.2</td>\n",
       "    </tr>\n",
       "    <tr>\n",
       "      <th>4</th>\n",
       "      <td>Loyal customers</td>\n",
       "      <td>73305</td>\n",
       "      <td>11.4</td>\n",
       "    </tr>\n",
       "  </tbody>\n",
       "</table>\n",
       "</div>"
      ],
      "text/plain": [
       "           Segment   Count  percent\n",
       "0          At risk  185366     28.8\n",
       "1  Can't lose them   10889      1.7\n",
       "2        Champions   96021     14.9\n",
       "3      Hibernating  246137     38.2\n",
       "4  Loyal customers   73305     11.4"
      ]
     },
     "execution_count": 128,
     "metadata": {},
     "output_type": "execute_result"
    }
   ],
   "source": [
    "# Aggregate data by each customer\n",
    "fig3 = rfm.groupby('Segment').agg({'user_id': lambda x: len(x)}).reset_index()\n",
    "\n",
    "# Rename columns\n",
    "fig3.rename(columns={'user_id': 'Count'}, inplace=True)\n",
    "fig3['percent'] = (fig3['Count'] / fig3['Count'].sum()) * 100\n",
    "fig3['percent'] = fig3['percent'].round(1)\n",
    "\n",
    "fig3.head()"
   ]
  },
  {
   "cell_type": "code",
   "execution_count": 129,
   "id": "a84c8444-2cad-447e-a190-273e177febd6",
   "metadata": {},
   "outputs": [
    {
     "data": {
      "application/vnd.plotly.v1+json": {
       "config": {
        "plotlyServerURL": "https://plot.ly"
       },
       "data": [
        {
         "branchvalues": "total",
         "domain": {
          "x": [
           0,
           1
          ],
          "y": [
           0,
           1
          ]
         },
         "hovertemplate": "labels=%{label}<br>Count=%{value}<br>parent=%{parent}<br>id=%{id}<extra></extra>",
         "ids": [
          "At risk",
          "Can't lose them",
          "Champions",
          "Hibernating",
          "Loyal customers",
          "Potential loyalists",
          "Price Sensitive",
          "Promising"
         ],
         "labels": [
          "At risk",
          "Can't lose them",
          "Champions",
          "Hibernating",
          "Loyal customers",
          "Potential loyalists",
          "Price Sensitive",
          "Promising"
         ],
         "name": "",
         "parents": [
          "",
          "",
          "",
          "",
          "",
          "",
          "",
          ""
         ],
         "textinfo": "label+text+value+percent root",
         "type": "treemap",
         "values": [
          185366,
          10889,
          96021,
          246137,
          73305,
          29798,
          113,
          2152
         ]
        }
       ],
       "layout": {
        "height": 400,
        "legend": {
         "tracegroupgap": 0
        },
        "margin": {
         "b": 25,
         "l": 25,
         "r": 25,
         "t": 50
        },
        "template": {
         "data": {
          "bar": [
           {
            "error_x": {
             "color": "#2a3f5f"
            },
            "error_y": {
             "color": "#2a3f5f"
            },
            "marker": {
             "line": {
              "color": "#E5ECF6",
              "width": 0.5
             },
             "pattern": {
              "fillmode": "overlay",
              "size": 10,
              "solidity": 0.2
             }
            },
            "type": "bar"
           }
          ],
          "barpolar": [
           {
            "marker": {
             "line": {
              "color": "#E5ECF6",
              "width": 0.5
             },
             "pattern": {
              "fillmode": "overlay",
              "size": 10,
              "solidity": 0.2
             }
            },
            "type": "barpolar"
           }
          ],
          "carpet": [
           {
            "aaxis": {
             "endlinecolor": "#2a3f5f",
             "gridcolor": "white",
             "linecolor": "white",
             "minorgridcolor": "white",
             "startlinecolor": "#2a3f5f"
            },
            "baxis": {
             "endlinecolor": "#2a3f5f",
             "gridcolor": "white",
             "linecolor": "white",
             "minorgridcolor": "white",
             "startlinecolor": "#2a3f5f"
            },
            "type": "carpet"
           }
          ],
          "choropleth": [
           {
            "colorbar": {
             "outlinewidth": 0,
             "ticks": ""
            },
            "type": "choropleth"
           }
          ],
          "contour": [
           {
            "colorbar": {
             "outlinewidth": 0,
             "ticks": ""
            },
            "colorscale": [
             [
              0,
              "#0d0887"
             ],
             [
              0.1111111111111111,
              "#46039f"
             ],
             [
              0.2222222222222222,
              "#7201a8"
             ],
             [
              0.3333333333333333,
              "#9c179e"
             ],
             [
              0.4444444444444444,
              "#bd3786"
             ],
             [
              0.5555555555555556,
              "#d8576b"
             ],
             [
              0.6666666666666666,
              "#ed7953"
             ],
             [
              0.7777777777777778,
              "#fb9f3a"
             ],
             [
              0.8888888888888888,
              "#fdca26"
             ],
             [
              1,
              "#f0f921"
             ]
            ],
            "type": "contour"
           }
          ],
          "contourcarpet": [
           {
            "colorbar": {
             "outlinewidth": 0,
             "ticks": ""
            },
            "type": "contourcarpet"
           }
          ],
          "heatmap": [
           {
            "colorbar": {
             "outlinewidth": 0,
             "ticks": ""
            },
            "colorscale": [
             [
              0,
              "#0d0887"
             ],
             [
              0.1111111111111111,
              "#46039f"
             ],
             [
              0.2222222222222222,
              "#7201a8"
             ],
             [
              0.3333333333333333,
              "#9c179e"
             ],
             [
              0.4444444444444444,
              "#bd3786"
             ],
             [
              0.5555555555555556,
              "#d8576b"
             ],
             [
              0.6666666666666666,
              "#ed7953"
             ],
             [
              0.7777777777777778,
              "#fb9f3a"
             ],
             [
              0.8888888888888888,
              "#fdca26"
             ],
             [
              1,
              "#f0f921"
             ]
            ],
            "type": "heatmap"
           }
          ],
          "heatmapgl": [
           {
            "colorbar": {
             "outlinewidth": 0,
             "ticks": ""
            },
            "colorscale": [
             [
              0,
              "#0d0887"
             ],
             [
              0.1111111111111111,
              "#46039f"
             ],
             [
              0.2222222222222222,
              "#7201a8"
             ],
             [
              0.3333333333333333,
              "#9c179e"
             ],
             [
              0.4444444444444444,
              "#bd3786"
             ],
             [
              0.5555555555555556,
              "#d8576b"
             ],
             [
              0.6666666666666666,
              "#ed7953"
             ],
             [
              0.7777777777777778,
              "#fb9f3a"
             ],
             [
              0.8888888888888888,
              "#fdca26"
             ],
             [
              1,
              "#f0f921"
             ]
            ],
            "type": "heatmapgl"
           }
          ],
          "histogram": [
           {
            "marker": {
             "pattern": {
              "fillmode": "overlay",
              "size": 10,
              "solidity": 0.2
             }
            },
            "type": "histogram"
           }
          ],
          "histogram2d": [
           {
            "colorbar": {
             "outlinewidth": 0,
             "ticks": ""
            },
            "colorscale": [
             [
              0,
              "#0d0887"
             ],
             [
              0.1111111111111111,
              "#46039f"
             ],
             [
              0.2222222222222222,
              "#7201a8"
             ],
             [
              0.3333333333333333,
              "#9c179e"
             ],
             [
              0.4444444444444444,
              "#bd3786"
             ],
             [
              0.5555555555555556,
              "#d8576b"
             ],
             [
              0.6666666666666666,
              "#ed7953"
             ],
             [
              0.7777777777777778,
              "#fb9f3a"
             ],
             [
              0.8888888888888888,
              "#fdca26"
             ],
             [
              1,
              "#f0f921"
             ]
            ],
            "type": "histogram2d"
           }
          ],
          "histogram2dcontour": [
           {
            "colorbar": {
             "outlinewidth": 0,
             "ticks": ""
            },
            "colorscale": [
             [
              0,
              "#0d0887"
             ],
             [
              0.1111111111111111,
              "#46039f"
             ],
             [
              0.2222222222222222,
              "#7201a8"
             ],
             [
              0.3333333333333333,
              "#9c179e"
             ],
             [
              0.4444444444444444,
              "#bd3786"
             ],
             [
              0.5555555555555556,
              "#d8576b"
             ],
             [
              0.6666666666666666,
              "#ed7953"
             ],
             [
              0.7777777777777778,
              "#fb9f3a"
             ],
             [
              0.8888888888888888,
              "#fdca26"
             ],
             [
              1,
              "#f0f921"
             ]
            ],
            "type": "histogram2dcontour"
           }
          ],
          "mesh3d": [
           {
            "colorbar": {
             "outlinewidth": 0,
             "ticks": ""
            },
            "type": "mesh3d"
           }
          ],
          "parcoords": [
           {
            "line": {
             "colorbar": {
              "outlinewidth": 0,
              "ticks": ""
             }
            },
            "type": "parcoords"
           }
          ],
          "pie": [
           {
            "automargin": true,
            "type": "pie"
           }
          ],
          "scatter": [
           {
            "fillpattern": {
             "fillmode": "overlay",
             "size": 10,
             "solidity": 0.2
            },
            "type": "scatter"
           }
          ],
          "scatter3d": [
           {
            "line": {
             "colorbar": {
              "outlinewidth": 0,
              "ticks": ""
             }
            },
            "marker": {
             "colorbar": {
              "outlinewidth": 0,
              "ticks": ""
             }
            },
            "type": "scatter3d"
           }
          ],
          "scattercarpet": [
           {
            "marker": {
             "colorbar": {
              "outlinewidth": 0,
              "ticks": ""
             }
            },
            "type": "scattercarpet"
           }
          ],
          "scattergeo": [
           {
            "marker": {
             "colorbar": {
              "outlinewidth": 0,
              "ticks": ""
             }
            },
            "type": "scattergeo"
           }
          ],
          "scattergl": [
           {
            "marker": {
             "colorbar": {
              "outlinewidth": 0,
              "ticks": ""
             }
            },
            "type": "scattergl"
           }
          ],
          "scattermapbox": [
           {
            "marker": {
             "colorbar": {
              "outlinewidth": 0,
              "ticks": ""
             }
            },
            "type": "scattermapbox"
           }
          ],
          "scatterpolar": [
           {
            "marker": {
             "colorbar": {
              "outlinewidth": 0,
              "ticks": ""
             }
            },
            "type": "scatterpolar"
           }
          ],
          "scatterpolargl": [
           {
            "marker": {
             "colorbar": {
              "outlinewidth": 0,
              "ticks": ""
             }
            },
            "type": "scatterpolargl"
           }
          ],
          "scatterternary": [
           {
            "marker": {
             "colorbar": {
              "outlinewidth": 0,
              "ticks": ""
             }
            },
            "type": "scatterternary"
           }
          ],
          "surface": [
           {
            "colorbar": {
             "outlinewidth": 0,
             "ticks": ""
            },
            "colorscale": [
             [
              0,
              "#0d0887"
             ],
             [
              0.1111111111111111,
              "#46039f"
             ],
             [
              0.2222222222222222,
              "#7201a8"
             ],
             [
              0.3333333333333333,
              "#9c179e"
             ],
             [
              0.4444444444444444,
              "#bd3786"
             ],
             [
              0.5555555555555556,
              "#d8576b"
             ],
             [
              0.6666666666666666,
              "#ed7953"
             ],
             [
              0.7777777777777778,
              "#fb9f3a"
             ],
             [
              0.8888888888888888,
              "#fdca26"
             ],
             [
              1,
              "#f0f921"
             ]
            ],
            "type": "surface"
           }
          ],
          "table": [
           {
            "cells": {
             "fill": {
              "color": "#EBF0F8"
             },
             "line": {
              "color": "white"
             }
            },
            "header": {
             "fill": {
              "color": "#C8D4E3"
             },
             "line": {
              "color": "white"
             }
            },
            "type": "table"
           }
          ]
         },
         "layout": {
          "annotationdefaults": {
           "arrowcolor": "#2a3f5f",
           "arrowhead": 0,
           "arrowwidth": 1
          },
          "autotypenumbers": "strict",
          "coloraxis": {
           "colorbar": {
            "outlinewidth": 0,
            "ticks": ""
           }
          },
          "colorscale": {
           "diverging": [
            [
             0,
             "#8e0152"
            ],
            [
             0.1,
             "#c51b7d"
            ],
            [
             0.2,
             "#de77ae"
            ],
            [
             0.3,
             "#f1b6da"
            ],
            [
             0.4,
             "#fde0ef"
            ],
            [
             0.5,
             "#f7f7f7"
            ],
            [
             0.6,
             "#e6f5d0"
            ],
            [
             0.7,
             "#b8e186"
            ],
            [
             0.8,
             "#7fbc41"
            ],
            [
             0.9,
             "#4d9221"
            ],
            [
             1,
             "#276419"
            ]
           ],
           "sequential": [
            [
             0,
             "#0d0887"
            ],
            [
             0.1111111111111111,
             "#46039f"
            ],
            [
             0.2222222222222222,
             "#7201a8"
            ],
            [
             0.3333333333333333,
             "#9c179e"
            ],
            [
             0.4444444444444444,
             "#bd3786"
            ],
            [
             0.5555555555555556,
             "#d8576b"
            ],
            [
             0.6666666666666666,
             "#ed7953"
            ],
            [
             0.7777777777777778,
             "#fb9f3a"
            ],
            [
             0.8888888888888888,
             "#fdca26"
            ],
            [
             1,
             "#f0f921"
            ]
           ],
           "sequentialminus": [
            [
             0,
             "#0d0887"
            ],
            [
             0.1111111111111111,
             "#46039f"
            ],
            [
             0.2222222222222222,
             "#7201a8"
            ],
            [
             0.3333333333333333,
             "#9c179e"
            ],
            [
             0.4444444444444444,
             "#bd3786"
            ],
            [
             0.5555555555555556,
             "#d8576b"
            ],
            [
             0.6666666666666666,
             "#ed7953"
            ],
            [
             0.7777777777777778,
             "#fb9f3a"
            ],
            [
             0.8888888888888888,
             "#fdca26"
            ],
            [
             1,
             "#f0f921"
            ]
           ]
          },
          "colorway": [
           "#636efa",
           "#EF553B",
           "#00cc96",
           "#ab63fa",
           "#FFA15A",
           "#19d3f3",
           "#FF6692",
           "#B6E880",
           "#FF97FF",
           "#FECB52"
          ],
          "font": {
           "color": "#2a3f5f"
          },
          "geo": {
           "bgcolor": "white",
           "lakecolor": "white",
           "landcolor": "#E5ECF6",
           "showlakes": true,
           "showland": true,
           "subunitcolor": "white"
          },
          "hoverlabel": {
           "align": "left"
          },
          "hovermode": "closest",
          "mapbox": {
           "style": "light"
          },
          "paper_bgcolor": "white",
          "plot_bgcolor": "#E5ECF6",
          "polar": {
           "angularaxis": {
            "gridcolor": "white",
            "linecolor": "white",
            "ticks": ""
           },
           "bgcolor": "#E5ECF6",
           "radialaxis": {
            "gridcolor": "white",
            "linecolor": "white",
            "ticks": ""
           }
          },
          "scene": {
           "xaxis": {
            "backgroundcolor": "#E5ECF6",
            "gridcolor": "white",
            "gridwidth": 2,
            "linecolor": "white",
            "showbackground": true,
            "ticks": "",
            "zerolinecolor": "white"
           },
           "yaxis": {
            "backgroundcolor": "#E5ECF6",
            "gridcolor": "white",
            "gridwidth": 2,
            "linecolor": "white",
            "showbackground": true,
            "ticks": "",
            "zerolinecolor": "white"
           },
           "zaxis": {
            "backgroundcolor": "#E5ECF6",
            "gridcolor": "white",
            "gridwidth": 2,
            "linecolor": "white",
            "showbackground": true,
            "ticks": "",
            "zerolinecolor": "white"
           }
          },
          "shapedefaults": {
           "line": {
            "color": "#2a3f5f"
           }
          },
          "ternary": {
           "aaxis": {
            "gridcolor": "white",
            "linecolor": "white",
            "ticks": ""
           },
           "baxis": {
            "gridcolor": "white",
            "linecolor": "white",
            "ticks": ""
           },
           "bgcolor": "#E5ECF6",
           "caxis": {
            "gridcolor": "white",
            "linecolor": "white",
            "ticks": ""
           }
          },
          "title": {
           "x": 0.05
          },
          "xaxis": {
           "automargin": true,
           "gridcolor": "white",
           "linecolor": "white",
           "ticks": "",
           "title": {
            "standoff": 15
           },
           "zerolinecolor": "white",
           "zerolinewidth": 2
          },
          "yaxis": {
           "automargin": true,
           "gridcolor": "white",
           "linecolor": "white",
           "ticks": "",
           "title": {
            "standoff": 15
           },
           "zerolinecolor": "white",
           "zerolinewidth": 2
          }
         }
        },
        "title": {
         "text": "RFM Segments"
        },
        "treemapcolorway": [
         "#83af70",
         "#9fbf8f",
         "#bad0af",
         "#d5e0cf",
         "#f1f1f1",
         "#f1d4d4",
         "#f0b8b8",
         "#ec9c9d"
        ],
        "width": 800
       }
      }
     },
     "metadata": {},
     "output_type": "display_data"
    }
   ],
   "source": [
    "colors=['#83af70','#9fbf8f','#bad0af','#d5e0cf','#f1f1f1','#f1d4d4','#f0b8b8','#ec9c9d'] #color palette\n",
    "import plotly.express as px\n",
    "\n",
    "fig = px.treemap(fig3, path=['Segment'],values='Count'\n",
    "                 , width=800, height=400\n",
    "                 ,title=\"RFM Segments\")\n",
    "\n",
    "fig.update_layout(\n",
    "    treemapcolorway = colors, #defines the colors in the treemap\n",
    "    margin = dict(t=50, l=25, r=25, b=25))\n",
    "\n",
    "fig.data[0].textinfo = 'label+text+value+percent root'\n",
    "fig.show()"
   ]
  },
  {
   "cell_type": "code",
   "execution_count": 130,
   "id": "87022c90-d709-4da9-a161-c2efbfa21cbc",
   "metadata": {},
   "outputs": [
    {
     "data": {
      "text/html": [
       "<div>\n",
       "<style scoped>\n",
       "    .dataframe tbody tr th:only-of-type {\n",
       "        vertical-align: middle;\n",
       "    }\n",
       "\n",
       "    .dataframe tbody tr th {\n",
       "        vertical-align: top;\n",
       "    }\n",
       "\n",
       "    .dataframe thead th {\n",
       "        text-align: right;\n",
       "    }\n",
       "</style>\n",
       "<table border=\"1\" class=\"dataframe\">\n",
       "  <thead>\n",
       "    <tr style=\"text-align: right;\">\n",
       "      <th></th>\n",
       "      <th>Score</th>\n",
       "      <th>Count</th>\n",
       "      <th>percent</th>\n",
       "    </tr>\n",
       "  </thead>\n",
       "  <tbody>\n",
       "    <tr>\n",
       "      <th>0</th>\n",
       "      <td>Bronze</td>\n",
       "      <td>360502</td>\n",
       "      <td>56.0</td>\n",
       "    </tr>\n",
       "    <tr>\n",
       "      <th>1</th>\n",
       "      <td>Gold</td>\n",
       "      <td>66091</td>\n",
       "      <td>10.3</td>\n",
       "    </tr>\n",
       "    <tr>\n",
       "      <th>2</th>\n",
       "      <td>Green</td>\n",
       "      <td>33066</td>\n",
       "      <td>5.1</td>\n",
       "    </tr>\n",
       "    <tr>\n",
       "      <th>3</th>\n",
       "      <td>Platinum</td>\n",
       "      <td>34562</td>\n",
       "      <td>5.4</td>\n",
       "    </tr>\n",
       "    <tr>\n",
       "      <th>4</th>\n",
       "      <td>Silver</td>\n",
       "      <td>149560</td>\n",
       "      <td>23.2</td>\n",
       "    </tr>\n",
       "  </tbody>\n",
       "</table>\n",
       "</div>"
      ],
      "text/plain": [
       "      Score   Count  percent\n",
       "0    Bronze  360502     56.0\n",
       "1      Gold   66091     10.3\n",
       "2     Green   33066      5.1\n",
       "3  Platinum   34562      5.4\n",
       "4    Silver  149560     23.2"
      ]
     },
     "execution_count": 130,
     "metadata": {},
     "output_type": "execute_result"
    }
   ],
   "source": [
    "# Aggregate data by each customer\n",
    "fig4 = rfm.groupby('Score').agg({'user_id': lambda x: len(x)}).reset_index()\n",
    "\n",
    "\n",
    "# Rename columns\n",
    "fig4.rename(columns={'user_id': 'Count'}, inplace=True)\n",
    "fig4['percent'] = (fig4['Count'] / fig4['Count'].sum()) * 100\n",
    "fig4['percent'] = fig4['percent'].round(1)\n",
    "\n",
    "fig4.head()"
   ]
  },
  {
   "cell_type": "code",
   "execution_count": 131,
   "id": "64d1d553-354c-491a-a6d5-0dc47d66d649",
   "metadata": {},
   "outputs": [
    {
     "data": {
      "application/vnd.plotly.v1+json": {
       "config": {
        "plotlyServerURL": "https://plot.ly"
       },
       "data": [
        {
         "branchvalues": "total",
         "domain": {
          "x": [
           0,
           1
          ],
          "y": [
           0,
           1
          ]
         },
         "hovertemplate": "labels=%{label}<br>Count=%{value}<br>parent=%{parent}<br>id=%{id}<extra></extra>",
         "ids": [
          "Bronze",
          "Gold",
          "Green",
          "Platinum",
          "Silver"
         ],
         "labels": [
          "Bronze",
          "Gold",
          "Green",
          "Platinum",
          "Silver"
         ],
         "name": "",
         "parents": [
          "",
          "",
          "",
          "",
          ""
         ],
         "textinfo": "label+text+value+percent root",
         "type": "treemap",
         "values": [
          360502,
          66091,
          33066,
          34562,
          149560
         ]
        }
       ],
       "layout": {
        "height": 400,
        "legend": {
         "tracegroupgap": 0
        },
        "margin": {
         "b": 25,
         "l": 25,
         "r": 25,
         "t": 50
        },
        "template": {
         "data": {
          "bar": [
           {
            "error_x": {
             "color": "#2a3f5f"
            },
            "error_y": {
             "color": "#2a3f5f"
            },
            "marker": {
             "line": {
              "color": "#E5ECF6",
              "width": 0.5
             },
             "pattern": {
              "fillmode": "overlay",
              "size": 10,
              "solidity": 0.2
             }
            },
            "type": "bar"
           }
          ],
          "barpolar": [
           {
            "marker": {
             "line": {
              "color": "#E5ECF6",
              "width": 0.5
             },
             "pattern": {
              "fillmode": "overlay",
              "size": 10,
              "solidity": 0.2
             }
            },
            "type": "barpolar"
           }
          ],
          "carpet": [
           {
            "aaxis": {
             "endlinecolor": "#2a3f5f",
             "gridcolor": "white",
             "linecolor": "white",
             "minorgridcolor": "white",
             "startlinecolor": "#2a3f5f"
            },
            "baxis": {
             "endlinecolor": "#2a3f5f",
             "gridcolor": "white",
             "linecolor": "white",
             "minorgridcolor": "white",
             "startlinecolor": "#2a3f5f"
            },
            "type": "carpet"
           }
          ],
          "choropleth": [
           {
            "colorbar": {
             "outlinewidth": 0,
             "ticks": ""
            },
            "type": "choropleth"
           }
          ],
          "contour": [
           {
            "colorbar": {
             "outlinewidth": 0,
             "ticks": ""
            },
            "colorscale": [
             [
              0,
              "#0d0887"
             ],
             [
              0.1111111111111111,
              "#46039f"
             ],
             [
              0.2222222222222222,
              "#7201a8"
             ],
             [
              0.3333333333333333,
              "#9c179e"
             ],
             [
              0.4444444444444444,
              "#bd3786"
             ],
             [
              0.5555555555555556,
              "#d8576b"
             ],
             [
              0.6666666666666666,
              "#ed7953"
             ],
             [
              0.7777777777777778,
              "#fb9f3a"
             ],
             [
              0.8888888888888888,
              "#fdca26"
             ],
             [
              1,
              "#f0f921"
             ]
            ],
            "type": "contour"
           }
          ],
          "contourcarpet": [
           {
            "colorbar": {
             "outlinewidth": 0,
             "ticks": ""
            },
            "type": "contourcarpet"
           }
          ],
          "heatmap": [
           {
            "colorbar": {
             "outlinewidth": 0,
             "ticks": ""
            },
            "colorscale": [
             [
              0,
              "#0d0887"
             ],
             [
              0.1111111111111111,
              "#46039f"
             ],
             [
              0.2222222222222222,
              "#7201a8"
             ],
             [
              0.3333333333333333,
              "#9c179e"
             ],
             [
              0.4444444444444444,
              "#bd3786"
             ],
             [
              0.5555555555555556,
              "#d8576b"
             ],
             [
              0.6666666666666666,
              "#ed7953"
             ],
             [
              0.7777777777777778,
              "#fb9f3a"
             ],
             [
              0.8888888888888888,
              "#fdca26"
             ],
             [
              1,
              "#f0f921"
             ]
            ],
            "type": "heatmap"
           }
          ],
          "heatmapgl": [
           {
            "colorbar": {
             "outlinewidth": 0,
             "ticks": ""
            },
            "colorscale": [
             [
              0,
              "#0d0887"
             ],
             [
              0.1111111111111111,
              "#46039f"
             ],
             [
              0.2222222222222222,
              "#7201a8"
             ],
             [
              0.3333333333333333,
              "#9c179e"
             ],
             [
              0.4444444444444444,
              "#bd3786"
             ],
             [
              0.5555555555555556,
              "#d8576b"
             ],
             [
              0.6666666666666666,
              "#ed7953"
             ],
             [
              0.7777777777777778,
              "#fb9f3a"
             ],
             [
              0.8888888888888888,
              "#fdca26"
             ],
             [
              1,
              "#f0f921"
             ]
            ],
            "type": "heatmapgl"
           }
          ],
          "histogram": [
           {
            "marker": {
             "pattern": {
              "fillmode": "overlay",
              "size": 10,
              "solidity": 0.2
             }
            },
            "type": "histogram"
           }
          ],
          "histogram2d": [
           {
            "colorbar": {
             "outlinewidth": 0,
             "ticks": ""
            },
            "colorscale": [
             [
              0,
              "#0d0887"
             ],
             [
              0.1111111111111111,
              "#46039f"
             ],
             [
              0.2222222222222222,
              "#7201a8"
             ],
             [
              0.3333333333333333,
              "#9c179e"
             ],
             [
              0.4444444444444444,
              "#bd3786"
             ],
             [
              0.5555555555555556,
              "#d8576b"
             ],
             [
              0.6666666666666666,
              "#ed7953"
             ],
             [
              0.7777777777777778,
              "#fb9f3a"
             ],
             [
              0.8888888888888888,
              "#fdca26"
             ],
             [
              1,
              "#f0f921"
             ]
            ],
            "type": "histogram2d"
           }
          ],
          "histogram2dcontour": [
           {
            "colorbar": {
             "outlinewidth": 0,
             "ticks": ""
            },
            "colorscale": [
             [
              0,
              "#0d0887"
             ],
             [
              0.1111111111111111,
              "#46039f"
             ],
             [
              0.2222222222222222,
              "#7201a8"
             ],
             [
              0.3333333333333333,
              "#9c179e"
             ],
             [
              0.4444444444444444,
              "#bd3786"
             ],
             [
              0.5555555555555556,
              "#d8576b"
             ],
             [
              0.6666666666666666,
              "#ed7953"
             ],
             [
              0.7777777777777778,
              "#fb9f3a"
             ],
             [
              0.8888888888888888,
              "#fdca26"
             ],
             [
              1,
              "#f0f921"
             ]
            ],
            "type": "histogram2dcontour"
           }
          ],
          "mesh3d": [
           {
            "colorbar": {
             "outlinewidth": 0,
             "ticks": ""
            },
            "type": "mesh3d"
           }
          ],
          "parcoords": [
           {
            "line": {
             "colorbar": {
              "outlinewidth": 0,
              "ticks": ""
             }
            },
            "type": "parcoords"
           }
          ],
          "pie": [
           {
            "automargin": true,
            "type": "pie"
           }
          ],
          "scatter": [
           {
            "fillpattern": {
             "fillmode": "overlay",
             "size": 10,
             "solidity": 0.2
            },
            "type": "scatter"
           }
          ],
          "scatter3d": [
           {
            "line": {
             "colorbar": {
              "outlinewidth": 0,
              "ticks": ""
             }
            },
            "marker": {
             "colorbar": {
              "outlinewidth": 0,
              "ticks": ""
             }
            },
            "type": "scatter3d"
           }
          ],
          "scattercarpet": [
           {
            "marker": {
             "colorbar": {
              "outlinewidth": 0,
              "ticks": ""
             }
            },
            "type": "scattercarpet"
           }
          ],
          "scattergeo": [
           {
            "marker": {
             "colorbar": {
              "outlinewidth": 0,
              "ticks": ""
             }
            },
            "type": "scattergeo"
           }
          ],
          "scattergl": [
           {
            "marker": {
             "colorbar": {
              "outlinewidth": 0,
              "ticks": ""
             }
            },
            "type": "scattergl"
           }
          ],
          "scattermapbox": [
           {
            "marker": {
             "colorbar": {
              "outlinewidth": 0,
              "ticks": ""
             }
            },
            "type": "scattermapbox"
           }
          ],
          "scatterpolar": [
           {
            "marker": {
             "colorbar": {
              "outlinewidth": 0,
              "ticks": ""
             }
            },
            "type": "scatterpolar"
           }
          ],
          "scatterpolargl": [
           {
            "marker": {
             "colorbar": {
              "outlinewidth": 0,
              "ticks": ""
             }
            },
            "type": "scatterpolargl"
           }
          ],
          "scatterternary": [
           {
            "marker": {
             "colorbar": {
              "outlinewidth": 0,
              "ticks": ""
             }
            },
            "type": "scatterternary"
           }
          ],
          "surface": [
           {
            "colorbar": {
             "outlinewidth": 0,
             "ticks": ""
            },
            "colorscale": [
             [
              0,
              "#0d0887"
             ],
             [
              0.1111111111111111,
              "#46039f"
             ],
             [
              0.2222222222222222,
              "#7201a8"
             ],
             [
              0.3333333333333333,
              "#9c179e"
             ],
             [
              0.4444444444444444,
              "#bd3786"
             ],
             [
              0.5555555555555556,
              "#d8576b"
             ],
             [
              0.6666666666666666,
              "#ed7953"
             ],
             [
              0.7777777777777778,
              "#fb9f3a"
             ],
             [
              0.8888888888888888,
              "#fdca26"
             ],
             [
              1,
              "#f0f921"
             ]
            ],
            "type": "surface"
           }
          ],
          "table": [
           {
            "cells": {
             "fill": {
              "color": "#EBF0F8"
             },
             "line": {
              "color": "white"
             }
            },
            "header": {
             "fill": {
              "color": "#C8D4E3"
             },
             "line": {
              "color": "white"
             }
            },
            "type": "table"
           }
          ]
         },
         "layout": {
          "annotationdefaults": {
           "arrowcolor": "#2a3f5f",
           "arrowhead": 0,
           "arrowwidth": 1
          },
          "autotypenumbers": "strict",
          "coloraxis": {
           "colorbar": {
            "outlinewidth": 0,
            "ticks": ""
           }
          },
          "colorscale": {
           "diverging": [
            [
             0,
             "#8e0152"
            ],
            [
             0.1,
             "#c51b7d"
            ],
            [
             0.2,
             "#de77ae"
            ],
            [
             0.3,
             "#f1b6da"
            ],
            [
             0.4,
             "#fde0ef"
            ],
            [
             0.5,
             "#f7f7f7"
            ],
            [
             0.6,
             "#e6f5d0"
            ],
            [
             0.7,
             "#b8e186"
            ],
            [
             0.8,
             "#7fbc41"
            ],
            [
             0.9,
             "#4d9221"
            ],
            [
             1,
             "#276419"
            ]
           ],
           "sequential": [
            [
             0,
             "#0d0887"
            ],
            [
             0.1111111111111111,
             "#46039f"
            ],
            [
             0.2222222222222222,
             "#7201a8"
            ],
            [
             0.3333333333333333,
             "#9c179e"
            ],
            [
             0.4444444444444444,
             "#bd3786"
            ],
            [
             0.5555555555555556,
             "#d8576b"
            ],
            [
             0.6666666666666666,
             "#ed7953"
            ],
            [
             0.7777777777777778,
             "#fb9f3a"
            ],
            [
             0.8888888888888888,
             "#fdca26"
            ],
            [
             1,
             "#f0f921"
            ]
           ],
           "sequentialminus": [
            [
             0,
             "#0d0887"
            ],
            [
             0.1111111111111111,
             "#46039f"
            ],
            [
             0.2222222222222222,
             "#7201a8"
            ],
            [
             0.3333333333333333,
             "#9c179e"
            ],
            [
             0.4444444444444444,
             "#bd3786"
            ],
            [
             0.5555555555555556,
             "#d8576b"
            ],
            [
             0.6666666666666666,
             "#ed7953"
            ],
            [
             0.7777777777777778,
             "#fb9f3a"
            ],
            [
             0.8888888888888888,
             "#fdca26"
            ],
            [
             1,
             "#f0f921"
            ]
           ]
          },
          "colorway": [
           "#636efa",
           "#EF553B",
           "#00cc96",
           "#ab63fa",
           "#FFA15A",
           "#19d3f3",
           "#FF6692",
           "#B6E880",
           "#FF97FF",
           "#FECB52"
          ],
          "font": {
           "color": "#2a3f5f"
          },
          "geo": {
           "bgcolor": "white",
           "lakecolor": "white",
           "landcolor": "#E5ECF6",
           "showlakes": true,
           "showland": true,
           "subunitcolor": "white"
          },
          "hoverlabel": {
           "align": "left"
          },
          "hovermode": "closest",
          "mapbox": {
           "style": "light"
          },
          "paper_bgcolor": "white",
          "plot_bgcolor": "#E5ECF6",
          "polar": {
           "angularaxis": {
            "gridcolor": "white",
            "linecolor": "white",
            "ticks": ""
           },
           "bgcolor": "#E5ECF6",
           "radialaxis": {
            "gridcolor": "white",
            "linecolor": "white",
            "ticks": ""
           }
          },
          "scene": {
           "xaxis": {
            "backgroundcolor": "#E5ECF6",
            "gridcolor": "white",
            "gridwidth": 2,
            "linecolor": "white",
            "showbackground": true,
            "ticks": "",
            "zerolinecolor": "white"
           },
           "yaxis": {
            "backgroundcolor": "#E5ECF6",
            "gridcolor": "white",
            "gridwidth": 2,
            "linecolor": "white",
            "showbackground": true,
            "ticks": "",
            "zerolinecolor": "white"
           },
           "zaxis": {
            "backgroundcolor": "#E5ECF6",
            "gridcolor": "white",
            "gridwidth": 2,
            "linecolor": "white",
            "showbackground": true,
            "ticks": "",
            "zerolinecolor": "white"
           }
          },
          "shapedefaults": {
           "line": {
            "color": "#2a3f5f"
           }
          },
          "ternary": {
           "aaxis": {
            "gridcolor": "white",
            "linecolor": "white",
            "ticks": ""
           },
           "baxis": {
            "gridcolor": "white",
            "linecolor": "white",
            "ticks": ""
           },
           "bgcolor": "#E5ECF6",
           "caxis": {
            "gridcolor": "white",
            "linecolor": "white",
            "ticks": ""
           }
          },
          "title": {
           "x": 0.05
          },
          "xaxis": {
           "automargin": true,
           "gridcolor": "white",
           "linecolor": "white",
           "ticks": "",
           "title": {
            "standoff": 15
           },
           "zerolinecolor": "white",
           "zerolinewidth": 2
          },
          "yaxis": {
           "automargin": true,
           "gridcolor": "white",
           "linecolor": "white",
           "ticks": "",
           "title": {
            "standoff": 15
           },
           "zerolinecolor": "white",
           "zerolinewidth": 2
          }
         }
        },
        "title": {
         "text": "Treemap of RFM Score"
        },
        "treemapcolorway": [
         "#bad0af",
         "#d5e0cf",
         "#f1f1f1",
         "#f1d4d4"
        ],
        "width": 800
       }
      }
     },
     "metadata": {},
     "output_type": "display_data"
    }
   ],
   "source": [
    "colors=['#bad0af','#d5e0cf','#f1f1f1','#f1d4d4'] #color palette\n",
    "import plotly.express as px\n",
    "\n",
    "fig = px.treemap(fig4, path=['Score'],values='Count'\n",
    "                 , width=800, height=400\n",
    "                 ,title=\"Treemap of RFM Score\")\n",
    "\n",
    "fig.update_layout(\n",
    "    treemapcolorway = colors, #defines the colors in the treemap\n",
    "    margin = dict(t=50, l=25, r=25, b=25))\n",
    "\n",
    "fig.data[0].textinfo = 'label+text+value+percent root'\n",
    "fig.show()"
   ]
  },
  {
   "cell_type": "code",
   "execution_count": 132,
   "id": "d1e39df8-5ca4-4adb-be07-cdb1f731e565",
   "metadata": {},
   "outputs": [
    {
     "data": {
      "application/vnd.plotly.v1+json": {
       "config": {
        "plotlyServerURL": "https://plot.ly"
       },
       "data": [
        {
         "branchvalues": "total",
         "domain": {
          "x": [
           0,
           1
          ],
          "y": [
           0,
           1
          ]
         },
         "hovertemplate": "labels=%{label}<br>Count=%{value}<br>parent=%{parent}<br>id=%{id}<extra></extra>",
         "ids": [
          "Customer/0/At risk/Bronze",
          "Customer/1/At risk/Bronze",
          "Customer/3/At risk/Bronze",
          "Customer/0/Can't lose them/Bronze",
          "Customer/1/Can't lose them/Bronze",
          "Customer/2/Can't lose them/Bronze",
          "Customer/3/Can't lose them/Bronze",
          "Customer/0/Hibernating/Bronze",
          "Customer/1/Hibernating/Bronze",
          "Customer/0/Potential loyalists/Bronze",
          "Customer/1/Potential loyalists/Bronze",
          "Customer/3/Potential loyalists/Bronze",
          "Customer/0/Price Sensitive/Bronze",
          "Customer/1/Price Sensitive/Bronze",
          "Customer/3/Price Sensitive/Bronze",
          "Customer/0/Promising/Bronze",
          "Customer/1/Promising/Bronze",
          "Customer/3/Promising/Bronze",
          "Customer/0/Champions/Gold",
          "Customer/2/Champions/Gold",
          "Customer/3/Champions/Gold",
          "Customer/0/Loyal customers/Gold",
          "Customer/2/Loyal customers/Gold",
          "Customer/3/Loyal customers/Gold",
          "Customer/0/Potential loyalists/Gold",
          "Customer/3/Potential loyalists/Gold",
          "Customer/0/Hibernating/Green",
          "Customer/1/Hibernating/Green",
          "Customer/0/Champions/Platinum",
          "Customer/2/Champions/Platinum",
          "Customer/3/Champions/Platinum",
          "Customer/0/At risk/Silver",
          "Customer/1/At risk/Silver",
          "Customer/2/At risk/Silver",
          "Customer/3/At risk/Silver",
          "Customer/0/Can't lose them/Silver",
          "Customer/1/Can't lose them/Silver",
          "Customer/2/Can't lose them/Silver",
          "Customer/3/Can't lose them/Silver",
          "Customer/0/Champions/Silver",
          "Customer/2/Champions/Silver",
          "Customer/3/Champions/Silver",
          "Customer/0/Loyal customers/Silver",
          "Customer/1/Loyal customers/Silver",
          "Customer/2/Loyal customers/Silver",
          "Customer/3/Loyal customers/Silver",
          "Customer/0/Potential loyalists/Silver",
          "Customer/1/Potential loyalists/Silver",
          "Customer/2/Potential loyalists/Silver",
          "Customer/3/Potential loyalists/Silver",
          "Customer/0/Price Sensitive/Silver",
          "Customer/3/Price Sensitive/Silver",
          "Customer/0/Promising/Silver",
          "Customer/1/Promising/Silver",
          "Customer/3/Promising/Silver",
          "Customer/0/At risk",
          "Customer/1/At risk",
          "Customer/2/At risk",
          "Customer/3/At risk",
          "Customer/0/Can't lose them",
          "Customer/1/Can't lose them",
          "Customer/2/Can't lose them",
          "Customer/3/Can't lose them",
          "Customer/0/Champions",
          "Customer/2/Champions",
          "Customer/3/Champions",
          "Customer/0/Hibernating",
          "Customer/1/Hibernating",
          "Customer/0/Loyal customers",
          "Customer/1/Loyal customers",
          "Customer/2/Loyal customers",
          "Customer/3/Loyal customers",
          "Customer/0/Potential loyalists",
          "Customer/1/Potential loyalists",
          "Customer/2/Potential loyalists",
          "Customer/3/Potential loyalists",
          "Customer/0/Price Sensitive",
          "Customer/1/Price Sensitive",
          "Customer/3/Price Sensitive",
          "Customer/0/Promising",
          "Customer/1/Promising",
          "Customer/3/Promising",
          "Customer/0",
          "Customer/1",
          "Customer/2",
          "Customer/3",
          "Customer"
         ],
         "labels": [
          "Bronze",
          "Bronze",
          "Bronze",
          "Bronze",
          "Bronze",
          "Bronze",
          "Bronze",
          "Bronze",
          "Bronze",
          "Bronze",
          "Bronze",
          "Bronze",
          "Bronze",
          "Bronze",
          "Bronze",
          "Bronze",
          "Bronze",
          "Bronze",
          "Gold",
          "Gold",
          "Gold",
          "Gold",
          "Gold",
          "Gold",
          "Gold",
          "Gold",
          "Green",
          "Green",
          "Platinum",
          "Platinum",
          "Platinum",
          "Silver",
          "Silver",
          "Silver",
          "Silver",
          "Silver",
          "Silver",
          "Silver",
          "Silver",
          "Silver",
          "Silver",
          "Silver",
          "Silver",
          "Silver",
          "Silver",
          "Silver",
          "Silver",
          "Silver",
          "Silver",
          "Silver",
          "Silver",
          "Silver",
          "Silver",
          "Silver",
          "Silver",
          "At risk",
          "At risk",
          "At risk",
          "At risk",
          "Can't lose them",
          "Can't lose them",
          "Can't lose them",
          "Can't lose them",
          "Champions",
          "Champions",
          "Champions",
          "Hibernating",
          "Hibernating",
          "Loyal customers",
          "Loyal customers",
          "Loyal customers",
          "Loyal customers",
          "Potential loyalists",
          "Potential loyalists",
          "Potential loyalists",
          "Potential loyalists",
          "Price Sensitive",
          "Price Sensitive",
          "Price Sensitive",
          "Promising",
          "Promising",
          "Promising",
          "0",
          "1",
          "2",
          "3",
          "Customer"
         ],
         "name": "",
         "parents": [
          "Customer/0/At risk",
          "Customer/1/At risk",
          "Customer/3/At risk",
          "Customer/0/Can't lose them",
          "Customer/1/Can't lose them",
          "Customer/2/Can't lose them",
          "Customer/3/Can't lose them",
          "Customer/0/Hibernating",
          "Customer/1/Hibernating",
          "Customer/0/Potential loyalists",
          "Customer/1/Potential loyalists",
          "Customer/3/Potential loyalists",
          "Customer/0/Price Sensitive",
          "Customer/1/Price Sensitive",
          "Customer/3/Price Sensitive",
          "Customer/0/Promising",
          "Customer/1/Promising",
          "Customer/3/Promising",
          "Customer/0/Champions",
          "Customer/2/Champions",
          "Customer/3/Champions",
          "Customer/0/Loyal customers",
          "Customer/2/Loyal customers",
          "Customer/3/Loyal customers",
          "Customer/0/Potential loyalists",
          "Customer/3/Potential loyalists",
          "Customer/0/Hibernating",
          "Customer/1/Hibernating",
          "Customer/0/Champions",
          "Customer/2/Champions",
          "Customer/3/Champions",
          "Customer/0/At risk",
          "Customer/1/At risk",
          "Customer/2/At risk",
          "Customer/3/At risk",
          "Customer/0/Can't lose them",
          "Customer/1/Can't lose them",
          "Customer/2/Can't lose them",
          "Customer/3/Can't lose them",
          "Customer/0/Champions",
          "Customer/2/Champions",
          "Customer/3/Champions",
          "Customer/0/Loyal customers",
          "Customer/1/Loyal customers",
          "Customer/2/Loyal customers",
          "Customer/3/Loyal customers",
          "Customer/0/Potential loyalists",
          "Customer/1/Potential loyalists",
          "Customer/2/Potential loyalists",
          "Customer/3/Potential loyalists",
          "Customer/0/Price Sensitive",
          "Customer/3/Price Sensitive",
          "Customer/0/Promising",
          "Customer/1/Promising",
          "Customer/3/Promising",
          "Customer/0",
          "Customer/1",
          "Customer/2",
          "Customer/3",
          "Customer/0",
          "Customer/1",
          "Customer/2",
          "Customer/3",
          "Customer/0",
          "Customer/2",
          "Customer/3",
          "Customer/0",
          "Customer/1",
          "Customer/0",
          "Customer/1",
          "Customer/2",
          "Customer/3",
          "Customer/0",
          "Customer/1",
          "Customer/2",
          "Customer/3",
          "Customer/0",
          "Customer/1",
          "Customer/3",
          "Customer/0",
          "Customer/1",
          "Customer/3",
          "Customer",
          "Customer",
          "Customer",
          "Customer",
          ""
         ],
         "root": {
          "color": "lightgrey"
         },
         "textinfo": "label+text+value+percent root",
         "type": "treemap",
         "values": [
          1333,
          135634,
          3,
          29,
          3412,
          6,
          112,
          952,
          212119,
          359,
          1915,
          3188,
          4,
          1,
          16,
          124,
          1191,
          104,
          12594,
          6394,
          22027,
          3231,
          172,
          21045,
          243,
          385,
          7,
          33059,
          8095,
          12032,
          14435,
          853,
          47486,
          4,
          53,
          45,
          5173,
          31,
          2081,
          4928,
          1143,
          14373,
          5928,
          16,
          62,
          42851,
          3897,
          1800,
          3,
          18008,
          24,
          68,
          84,
          440,
          209,
          2186,
          183120,
          4,
          56,
          74,
          8585,
          37,
          2193,
          25617,
          19569,
          50835,
          959,
          245178,
          9159,
          16,
          234,
          63896,
          4499,
          3715,
          3,
          21581,
          28,
          1,
          84,
          208,
          1631,
          313,
          42730,
          442246,
          19847,
          138958,
          643781
         ]
        }
       ],
       "layout": {
        "legend": {
         "tracegroupgap": 0
        },
        "margin": {
         "b": 25,
         "l": 25,
         "r": 25,
         "t": 50
        },
        "template": {
         "data": {
          "bar": [
           {
            "error_x": {
             "color": "#2a3f5f"
            },
            "error_y": {
             "color": "#2a3f5f"
            },
            "marker": {
             "line": {
              "color": "#E5ECF6",
              "width": 0.5
             },
             "pattern": {
              "fillmode": "overlay",
              "size": 10,
              "solidity": 0.2
             }
            },
            "type": "bar"
           }
          ],
          "barpolar": [
           {
            "marker": {
             "line": {
              "color": "#E5ECF6",
              "width": 0.5
             },
             "pattern": {
              "fillmode": "overlay",
              "size": 10,
              "solidity": 0.2
             }
            },
            "type": "barpolar"
           }
          ],
          "carpet": [
           {
            "aaxis": {
             "endlinecolor": "#2a3f5f",
             "gridcolor": "white",
             "linecolor": "white",
             "minorgridcolor": "white",
             "startlinecolor": "#2a3f5f"
            },
            "baxis": {
             "endlinecolor": "#2a3f5f",
             "gridcolor": "white",
             "linecolor": "white",
             "minorgridcolor": "white",
             "startlinecolor": "#2a3f5f"
            },
            "type": "carpet"
           }
          ],
          "choropleth": [
           {
            "colorbar": {
             "outlinewidth": 0,
             "ticks": ""
            },
            "type": "choropleth"
           }
          ],
          "contour": [
           {
            "colorbar": {
             "outlinewidth": 0,
             "ticks": ""
            },
            "colorscale": [
             [
              0,
              "#0d0887"
             ],
             [
              0.1111111111111111,
              "#46039f"
             ],
             [
              0.2222222222222222,
              "#7201a8"
             ],
             [
              0.3333333333333333,
              "#9c179e"
             ],
             [
              0.4444444444444444,
              "#bd3786"
             ],
             [
              0.5555555555555556,
              "#d8576b"
             ],
             [
              0.6666666666666666,
              "#ed7953"
             ],
             [
              0.7777777777777778,
              "#fb9f3a"
             ],
             [
              0.8888888888888888,
              "#fdca26"
             ],
             [
              1,
              "#f0f921"
             ]
            ],
            "type": "contour"
           }
          ],
          "contourcarpet": [
           {
            "colorbar": {
             "outlinewidth": 0,
             "ticks": ""
            },
            "type": "contourcarpet"
           }
          ],
          "heatmap": [
           {
            "colorbar": {
             "outlinewidth": 0,
             "ticks": ""
            },
            "colorscale": [
             [
              0,
              "#0d0887"
             ],
             [
              0.1111111111111111,
              "#46039f"
             ],
             [
              0.2222222222222222,
              "#7201a8"
             ],
             [
              0.3333333333333333,
              "#9c179e"
             ],
             [
              0.4444444444444444,
              "#bd3786"
             ],
             [
              0.5555555555555556,
              "#d8576b"
             ],
             [
              0.6666666666666666,
              "#ed7953"
             ],
             [
              0.7777777777777778,
              "#fb9f3a"
             ],
             [
              0.8888888888888888,
              "#fdca26"
             ],
             [
              1,
              "#f0f921"
             ]
            ],
            "type": "heatmap"
           }
          ],
          "heatmapgl": [
           {
            "colorbar": {
             "outlinewidth": 0,
             "ticks": ""
            },
            "colorscale": [
             [
              0,
              "#0d0887"
             ],
             [
              0.1111111111111111,
              "#46039f"
             ],
             [
              0.2222222222222222,
              "#7201a8"
             ],
             [
              0.3333333333333333,
              "#9c179e"
             ],
             [
              0.4444444444444444,
              "#bd3786"
             ],
             [
              0.5555555555555556,
              "#d8576b"
             ],
             [
              0.6666666666666666,
              "#ed7953"
             ],
             [
              0.7777777777777778,
              "#fb9f3a"
             ],
             [
              0.8888888888888888,
              "#fdca26"
             ],
             [
              1,
              "#f0f921"
             ]
            ],
            "type": "heatmapgl"
           }
          ],
          "histogram": [
           {
            "marker": {
             "pattern": {
              "fillmode": "overlay",
              "size": 10,
              "solidity": 0.2
             }
            },
            "type": "histogram"
           }
          ],
          "histogram2d": [
           {
            "colorbar": {
             "outlinewidth": 0,
             "ticks": ""
            },
            "colorscale": [
             [
              0,
              "#0d0887"
             ],
             [
              0.1111111111111111,
              "#46039f"
             ],
             [
              0.2222222222222222,
              "#7201a8"
             ],
             [
              0.3333333333333333,
              "#9c179e"
             ],
             [
              0.4444444444444444,
              "#bd3786"
             ],
             [
              0.5555555555555556,
              "#d8576b"
             ],
             [
              0.6666666666666666,
              "#ed7953"
             ],
             [
              0.7777777777777778,
              "#fb9f3a"
             ],
             [
              0.8888888888888888,
              "#fdca26"
             ],
             [
              1,
              "#f0f921"
             ]
            ],
            "type": "histogram2d"
           }
          ],
          "histogram2dcontour": [
           {
            "colorbar": {
             "outlinewidth": 0,
             "ticks": ""
            },
            "colorscale": [
             [
              0,
              "#0d0887"
             ],
             [
              0.1111111111111111,
              "#46039f"
             ],
             [
              0.2222222222222222,
              "#7201a8"
             ],
             [
              0.3333333333333333,
              "#9c179e"
             ],
             [
              0.4444444444444444,
              "#bd3786"
             ],
             [
              0.5555555555555556,
              "#d8576b"
             ],
             [
              0.6666666666666666,
              "#ed7953"
             ],
             [
              0.7777777777777778,
              "#fb9f3a"
             ],
             [
              0.8888888888888888,
              "#fdca26"
             ],
             [
              1,
              "#f0f921"
             ]
            ],
            "type": "histogram2dcontour"
           }
          ],
          "mesh3d": [
           {
            "colorbar": {
             "outlinewidth": 0,
             "ticks": ""
            },
            "type": "mesh3d"
           }
          ],
          "parcoords": [
           {
            "line": {
             "colorbar": {
              "outlinewidth": 0,
              "ticks": ""
             }
            },
            "type": "parcoords"
           }
          ],
          "pie": [
           {
            "automargin": true,
            "type": "pie"
           }
          ],
          "scatter": [
           {
            "fillpattern": {
             "fillmode": "overlay",
             "size": 10,
             "solidity": 0.2
            },
            "type": "scatter"
           }
          ],
          "scatter3d": [
           {
            "line": {
             "colorbar": {
              "outlinewidth": 0,
              "ticks": ""
             }
            },
            "marker": {
             "colorbar": {
              "outlinewidth": 0,
              "ticks": ""
             }
            },
            "type": "scatter3d"
           }
          ],
          "scattercarpet": [
           {
            "marker": {
             "colorbar": {
              "outlinewidth": 0,
              "ticks": ""
             }
            },
            "type": "scattercarpet"
           }
          ],
          "scattergeo": [
           {
            "marker": {
             "colorbar": {
              "outlinewidth": 0,
              "ticks": ""
             }
            },
            "type": "scattergeo"
           }
          ],
          "scattergl": [
           {
            "marker": {
             "colorbar": {
              "outlinewidth": 0,
              "ticks": ""
             }
            },
            "type": "scattergl"
           }
          ],
          "scattermapbox": [
           {
            "marker": {
             "colorbar": {
              "outlinewidth": 0,
              "ticks": ""
             }
            },
            "type": "scattermapbox"
           }
          ],
          "scatterpolar": [
           {
            "marker": {
             "colorbar": {
              "outlinewidth": 0,
              "ticks": ""
             }
            },
            "type": "scatterpolar"
           }
          ],
          "scatterpolargl": [
           {
            "marker": {
             "colorbar": {
              "outlinewidth": 0,
              "ticks": ""
             }
            },
            "type": "scatterpolargl"
           }
          ],
          "scatterternary": [
           {
            "marker": {
             "colorbar": {
              "outlinewidth": 0,
              "ticks": ""
             }
            },
            "type": "scatterternary"
           }
          ],
          "surface": [
           {
            "colorbar": {
             "outlinewidth": 0,
             "ticks": ""
            },
            "colorscale": [
             [
              0,
              "#0d0887"
             ],
             [
              0.1111111111111111,
              "#46039f"
             ],
             [
              0.2222222222222222,
              "#7201a8"
             ],
             [
              0.3333333333333333,
              "#9c179e"
             ],
             [
              0.4444444444444444,
              "#bd3786"
             ],
             [
              0.5555555555555556,
              "#d8576b"
             ],
             [
              0.6666666666666666,
              "#ed7953"
             ],
             [
              0.7777777777777778,
              "#fb9f3a"
             ],
             [
              0.8888888888888888,
              "#fdca26"
             ],
             [
              1,
              "#f0f921"
             ]
            ],
            "type": "surface"
           }
          ],
          "table": [
           {
            "cells": {
             "fill": {
              "color": "#EBF0F8"
             },
             "line": {
              "color": "white"
             }
            },
            "header": {
             "fill": {
              "color": "#C8D4E3"
             },
             "line": {
              "color": "white"
             }
            },
            "type": "table"
           }
          ]
         },
         "layout": {
          "annotationdefaults": {
           "arrowcolor": "#2a3f5f",
           "arrowhead": 0,
           "arrowwidth": 1
          },
          "autotypenumbers": "strict",
          "coloraxis": {
           "colorbar": {
            "outlinewidth": 0,
            "ticks": ""
           }
          },
          "colorscale": {
           "diverging": [
            [
             0,
             "#8e0152"
            ],
            [
             0.1,
             "#c51b7d"
            ],
            [
             0.2,
             "#de77ae"
            ],
            [
             0.3,
             "#f1b6da"
            ],
            [
             0.4,
             "#fde0ef"
            ],
            [
             0.5,
             "#f7f7f7"
            ],
            [
             0.6,
             "#e6f5d0"
            ],
            [
             0.7,
             "#b8e186"
            ],
            [
             0.8,
             "#7fbc41"
            ],
            [
             0.9,
             "#4d9221"
            ],
            [
             1,
             "#276419"
            ]
           ],
           "sequential": [
            [
             0,
             "#0d0887"
            ],
            [
             0.1111111111111111,
             "#46039f"
            ],
            [
             0.2222222222222222,
             "#7201a8"
            ],
            [
             0.3333333333333333,
             "#9c179e"
            ],
            [
             0.4444444444444444,
             "#bd3786"
            ],
            [
             0.5555555555555556,
             "#d8576b"
            ],
            [
             0.6666666666666666,
             "#ed7953"
            ],
            [
             0.7777777777777778,
             "#fb9f3a"
            ],
            [
             0.8888888888888888,
             "#fdca26"
            ],
            [
             1,
             "#f0f921"
            ]
           ],
           "sequentialminus": [
            [
             0,
             "#0d0887"
            ],
            [
             0.1111111111111111,
             "#46039f"
            ],
            [
             0.2222222222222222,
             "#7201a8"
            ],
            [
             0.3333333333333333,
             "#9c179e"
            ],
            [
             0.4444444444444444,
             "#bd3786"
            ],
            [
             0.5555555555555556,
             "#d8576b"
            ],
            [
             0.6666666666666666,
             "#ed7953"
            ],
            [
             0.7777777777777778,
             "#fb9f3a"
            ],
            [
             0.8888888888888888,
             "#fdca26"
            ],
            [
             1,
             "#f0f921"
            ]
           ]
          },
          "colorway": [
           "#636efa",
           "#EF553B",
           "#00cc96",
           "#ab63fa",
           "#FFA15A",
           "#19d3f3",
           "#FF6692",
           "#B6E880",
           "#FF97FF",
           "#FECB52"
          ],
          "font": {
           "color": "#2a3f5f"
          },
          "geo": {
           "bgcolor": "white",
           "lakecolor": "white",
           "landcolor": "#E5ECF6",
           "showlakes": true,
           "showland": true,
           "subunitcolor": "white"
          },
          "hoverlabel": {
           "align": "left"
          },
          "hovermode": "closest",
          "mapbox": {
           "style": "light"
          },
          "paper_bgcolor": "white",
          "plot_bgcolor": "#E5ECF6",
          "polar": {
           "angularaxis": {
            "gridcolor": "white",
            "linecolor": "white",
            "ticks": ""
           },
           "bgcolor": "#E5ECF6",
           "radialaxis": {
            "gridcolor": "white",
            "linecolor": "white",
            "ticks": ""
           }
          },
          "scene": {
           "xaxis": {
            "backgroundcolor": "#E5ECF6",
            "gridcolor": "white",
            "gridwidth": 2,
            "linecolor": "white",
            "showbackground": true,
            "ticks": "",
            "zerolinecolor": "white"
           },
           "yaxis": {
            "backgroundcolor": "#E5ECF6",
            "gridcolor": "white",
            "gridwidth": 2,
            "linecolor": "white",
            "showbackground": true,
            "ticks": "",
            "zerolinecolor": "white"
           },
           "zaxis": {
            "backgroundcolor": "#E5ECF6",
            "gridcolor": "white",
            "gridwidth": 2,
            "linecolor": "white",
            "showbackground": true,
            "ticks": "",
            "zerolinecolor": "white"
           }
          },
          "shapedefaults": {
           "line": {
            "color": "#2a3f5f"
           }
          },
          "ternary": {
           "aaxis": {
            "gridcolor": "white",
            "linecolor": "white",
            "ticks": ""
           },
           "baxis": {
            "gridcolor": "white",
            "linecolor": "white",
            "ticks": ""
           },
           "bgcolor": "#E5ECF6",
           "caxis": {
            "gridcolor": "white",
            "linecolor": "white",
            "ticks": ""
           }
          },
          "title": {
           "x": 0.05
          },
          "xaxis": {
           "automargin": true,
           "gridcolor": "white",
           "linecolor": "white",
           "ticks": "",
           "title": {
            "standoff": 15
           },
           "zerolinecolor": "white",
           "zerolinewidth": 2
          },
          "yaxis": {
           "automargin": true,
           "gridcolor": "white",
           "linecolor": "white",
           "ticks": "",
           "title": {
            "standoff": 15
           },
           "zerolinecolor": "white",
           "zerolinewidth": 2
          }
         }
        },
        "title": {
         "text": "Treemap of Customer Segment"
        },
        "treemapcolorway": [
         "#bad0af",
         "#d5e0cf",
         "#f1f1f1",
         "#f1d4d4"
        ]
       }
      }
     },
     "metadata": {},
     "output_type": "display_data"
    }
   ],
   "source": [
    "# Aggregate data by each customer\n",
    "fig5 = rfm.groupby(['Cluster', 'Segment', 'Score']).agg({'user_id': lambda x: len(x)}).reset_index()\n",
    "\n",
    "# Rename columns\n",
    "fig5.rename(columns={'user_id': 'Count'}, inplace=True)\n",
    "fig5['percent'] = (fig5['Count'] / fig5['Count'].sum()) * 100\n",
    "fig5['percent'] = fig5['percent'].round(1)\n",
    "\n",
    "fig5.head()\n",
    "colors=['#bad0af','#d5e0cf','#f1f1f1','#f1d4d4'] #color palette\n",
    "import plotly.express as px\n",
    "fig = px.treemap(fig5, path=[px.Constant(\"Customer\"), 'Cluster', 'Segment', 'Score'], values='Count'\n",
    "                ,title=\"Treemap of Customer Segment\")\n",
    "fig.update_traces(root_color=\"lightgrey\")\n",
    "fig.update_layout(margin = dict(t=50, l=25, r=25, b=25))\n",
    "\n",
    "fig.update_layout(\n",
    "    treemapcolorway = colors, #defines the colors in the treemap\n",
    "    margin = dict(t=50, l=25, r=25, b=25))\n",
    "\n",
    "fig.data[0].textinfo = 'label+text+value+percent root'\n",
    "fig.show()"
   ]
  },
  {
   "cell_type": "code",
   "execution_count": 133,
   "id": "014710be-f9b3-4176-8797-b65c0e1a13b5",
   "metadata": {
    "scrolled": true
   },
   "outputs": [
    {
     "data": {
      "text/html": [
       "<div>\n",
       "<style scoped>\n",
       "    .dataframe tbody tr th:only-of-type {\n",
       "        vertical-align: middle;\n",
       "    }\n",
       "\n",
       "    .dataframe tbody tr th {\n",
       "        vertical-align: top;\n",
       "    }\n",
       "\n",
       "    .dataframe thead th {\n",
       "        text-align: right;\n",
       "    }\n",
       "</style>\n",
       "<table border=\"1\" class=\"dataframe\">\n",
       "  <thead>\n",
       "    <tr style=\"text-align: right;\">\n",
       "      <th></th>\n",
       "      <th>Cluster</th>\n",
       "      <th>Segment</th>\n",
       "      <th>Count</th>\n",
       "      <th>percent</th>\n",
       "    </tr>\n",
       "  </thead>\n",
       "  <tbody>\n",
       "    <tr>\n",
       "      <th>0</th>\n",
       "      <td>0</td>\n",
       "      <td>At risk</td>\n",
       "      <td>2186</td>\n",
       "      <td>5.1</td>\n",
       "    </tr>\n",
       "    <tr>\n",
       "      <th>1</th>\n",
       "      <td>0</td>\n",
       "      <td>Can't lose them</td>\n",
       "      <td>74</td>\n",
       "      <td>0.2</td>\n",
       "    </tr>\n",
       "    <tr>\n",
       "      <th>2</th>\n",
       "      <td>0</td>\n",
       "      <td>Champions</td>\n",
       "      <td>25617</td>\n",
       "      <td>60.0</td>\n",
       "    </tr>\n",
       "    <tr>\n",
       "      <th>3</th>\n",
       "      <td>0</td>\n",
       "      <td>Hibernating</td>\n",
       "      <td>959</td>\n",
       "      <td>2.2</td>\n",
       "    </tr>\n",
       "    <tr>\n",
       "      <th>4</th>\n",
       "      <td>0</td>\n",
       "      <td>Loyal customers</td>\n",
       "      <td>9159</td>\n",
       "      <td>21.4</td>\n",
       "    </tr>\n",
       "    <tr>\n",
       "      <th>5</th>\n",
       "      <td>0</td>\n",
       "      <td>Potential loyalists</td>\n",
       "      <td>4499</td>\n",
       "      <td>10.5</td>\n",
       "    </tr>\n",
       "    <tr>\n",
       "      <th>6</th>\n",
       "      <td>0</td>\n",
       "      <td>Price Sensitive</td>\n",
       "      <td>28</td>\n",
       "      <td>0.1</td>\n",
       "    </tr>\n",
       "    <tr>\n",
       "      <th>7</th>\n",
       "      <td>0</td>\n",
       "      <td>Promising</td>\n",
       "      <td>208</td>\n",
       "      <td>0.5</td>\n",
       "    </tr>\n",
       "    <tr>\n",
       "      <th>8</th>\n",
       "      <td>1</td>\n",
       "      <td>At risk</td>\n",
       "      <td>183120</td>\n",
       "      <td>41.4</td>\n",
       "    </tr>\n",
       "    <tr>\n",
       "      <th>9</th>\n",
       "      <td>1</td>\n",
       "      <td>Can't lose them</td>\n",
       "      <td>8585</td>\n",
       "      <td>1.9</td>\n",
       "    </tr>\n",
       "    <tr>\n",
       "      <th>10</th>\n",
       "      <td>1</td>\n",
       "      <td>Hibernating</td>\n",
       "      <td>245178</td>\n",
       "      <td>55.4</td>\n",
       "    </tr>\n",
       "    <tr>\n",
       "      <th>11</th>\n",
       "      <td>1</td>\n",
       "      <td>Loyal customers</td>\n",
       "      <td>16</td>\n",
       "      <td>0.0</td>\n",
       "    </tr>\n",
       "    <tr>\n",
       "      <th>12</th>\n",
       "      <td>1</td>\n",
       "      <td>Potential loyalists</td>\n",
       "      <td>3715</td>\n",
       "      <td>0.8</td>\n",
       "    </tr>\n",
       "    <tr>\n",
       "      <th>13</th>\n",
       "      <td>1</td>\n",
       "      <td>Price Sensitive</td>\n",
       "      <td>1</td>\n",
       "      <td>0.0</td>\n",
       "    </tr>\n",
       "    <tr>\n",
       "      <th>14</th>\n",
       "      <td>1</td>\n",
       "      <td>Promising</td>\n",
       "      <td>1631</td>\n",
       "      <td>0.4</td>\n",
       "    </tr>\n",
       "    <tr>\n",
       "      <th>15</th>\n",
       "      <td>2</td>\n",
       "      <td>At risk</td>\n",
       "      <td>4</td>\n",
       "      <td>0.0</td>\n",
       "    </tr>\n",
       "    <tr>\n",
       "      <th>16</th>\n",
       "      <td>2</td>\n",
       "      <td>Can't lose them</td>\n",
       "      <td>37</td>\n",
       "      <td>0.2</td>\n",
       "    </tr>\n",
       "    <tr>\n",
       "      <th>17</th>\n",
       "      <td>2</td>\n",
       "      <td>Champions</td>\n",
       "      <td>19569</td>\n",
       "      <td>98.6</td>\n",
       "    </tr>\n",
       "    <tr>\n",
       "      <th>18</th>\n",
       "      <td>2</td>\n",
       "      <td>Loyal customers</td>\n",
       "      <td>234</td>\n",
       "      <td>1.2</td>\n",
       "    </tr>\n",
       "    <tr>\n",
       "      <th>19</th>\n",
       "      <td>2</td>\n",
       "      <td>Potential loyalists</td>\n",
       "      <td>3</td>\n",
       "      <td>0.0</td>\n",
       "    </tr>\n",
       "    <tr>\n",
       "      <th>20</th>\n",
       "      <td>3</td>\n",
       "      <td>At risk</td>\n",
       "      <td>56</td>\n",
       "      <td>0.0</td>\n",
       "    </tr>\n",
       "    <tr>\n",
       "      <th>21</th>\n",
       "      <td>3</td>\n",
       "      <td>Can't lose them</td>\n",
       "      <td>2193</td>\n",
       "      <td>1.6</td>\n",
       "    </tr>\n",
       "    <tr>\n",
       "      <th>22</th>\n",
       "      <td>3</td>\n",
       "      <td>Champions</td>\n",
       "      <td>50835</td>\n",
       "      <td>36.6</td>\n",
       "    </tr>\n",
       "    <tr>\n",
       "      <th>23</th>\n",
       "      <td>3</td>\n",
       "      <td>Loyal customers</td>\n",
       "      <td>63896</td>\n",
       "      <td>46.0</td>\n",
       "    </tr>\n",
       "    <tr>\n",
       "      <th>24</th>\n",
       "      <td>3</td>\n",
       "      <td>Potential loyalists</td>\n",
       "      <td>21581</td>\n",
       "      <td>15.5</td>\n",
       "    </tr>\n",
       "    <tr>\n",
       "      <th>25</th>\n",
       "      <td>3</td>\n",
       "      <td>Price Sensitive</td>\n",
       "      <td>84</td>\n",
       "      <td>0.1</td>\n",
       "    </tr>\n",
       "    <tr>\n",
       "      <th>26</th>\n",
       "      <td>3</td>\n",
       "      <td>Promising</td>\n",
       "      <td>313</td>\n",
       "      <td>0.2</td>\n",
       "    </tr>\n",
       "  </tbody>\n",
       "</table>\n",
       "</div>"
      ],
      "text/plain": [
       "    Cluster              Segment   Count  percent\n",
       "0         0              At risk    2186      5.1\n",
       "1         0      Can't lose them      74      0.2\n",
       "2         0            Champions   25617     60.0\n",
       "3         0          Hibernating     959      2.2\n",
       "4         0      Loyal customers    9159     21.4\n",
       "5         0  Potential loyalists    4499     10.5\n",
       "6         0      Price Sensitive      28      0.1\n",
       "7         0            Promising     208      0.5\n",
       "8         1              At risk  183120     41.4\n",
       "9         1      Can't lose them    8585      1.9\n",
       "10        1          Hibernating  245178     55.4\n",
       "11        1      Loyal customers      16      0.0\n",
       "12        1  Potential loyalists    3715      0.8\n",
       "13        1      Price Sensitive       1      0.0\n",
       "14        1            Promising    1631      0.4\n",
       "15        2              At risk       4      0.0\n",
       "16        2      Can't lose them      37      0.2\n",
       "17        2            Champions   19569     98.6\n",
       "18        2      Loyal customers     234      1.2\n",
       "19        2  Potential loyalists       3      0.0\n",
       "20        3              At risk      56      0.0\n",
       "21        3      Can't lose them    2193      1.6\n",
       "22        3            Champions   50835     36.6\n",
       "23        3      Loyal customers   63896     46.0\n",
       "24        3  Potential loyalists   21581     15.5\n",
       "25        3      Price Sensitive      84      0.1\n",
       "26        3            Promising     313      0.2"
      ]
     },
     "execution_count": 133,
     "metadata": {},
     "output_type": "execute_result"
    }
   ],
   "source": [
    "# Aggregate data by each customer\n",
    "rfm1 = rfm.groupby(['Cluster','Segment'],).agg({'user_id': lambda x: len(x)}).reset_index()\n",
    "\n",
    "# Rename columns\n",
    "rfm1.rename(columns={'user_id': 'Count'}, inplace=True)\n",
    "rfm1['percent'] = (rfm1['Count'] / rfm1.groupby('Cluster')['Count'].transform('sum')) * 100\n",
    "rfm1['percent'] = rfm1['percent'].round(1)\n",
    "\n",
    "rfm1"
   ]
  },
  {
   "cell_type": "markdown",
   "id": "537d0845-2510-4dff-923e-3c7d4d609cb1",
   "metadata": {},
   "source": [
    "Perform Anomaly Detection using Deep Learning Auto Encoder Estimator"
   ]
  },
  {
   "cell_type": "code",
   "execution_count": 134,
   "id": "97368bcf-0e7c-4960-86ab-e1d7ebd2fedb",
   "metadata": {},
   "outputs": [],
   "source": [
    "dfm2 = df.reset_index()\n",
    "#dfm2.set_index(\"transaction_date\", inplace=True)\n",
    "#dfm2.index = pd.to_datetime(dfm2.index)\n",
    "list_str_obj_cols = dfm2.columns[dfm2.dtypes == \"object\"].tolist()\n",
    "for str_obj_col in list_str_obj_cols:\n",
    "    dfm2[str_obj_col] = dfm2[str_obj_col].astype(\"category\").cat.codes"
   ]
  },
  {
   "cell_type": "code",
   "execution_count": 135,
   "id": "7b20b273-679f-4020-a0aa-a70d665cba8d",
   "metadata": {},
   "outputs": [
    {
     "name": "stdout",
     "output_type": "stream",
     "text": [
      "Checking whether there is an H2O instance running at http://localhost:54321..... not found.\n",
      "Attempting to start a local H2O server...\n",
      "; OpenJDK 64-Bit Server VM (Zulu 8.78.0.19-CA-win64) (build 25.412-b08, mixed mode)\n",
      "  Starting server from D:\\vscode_projects\\projects\\DashBoard\\dashboardenv\\Lib\\site-packages\\h2o\\backend\\bin\\h2o.jar\n",
      "  Ice root: C:\\Users\\RUPESH~1.SIN\\AppData\\Local\\Temp\\tmpie82qvx1\n",
      "  JVM stdout: C:\\Users\\RUPESH~1.SIN\\AppData\\Local\\Temp\\tmpie82qvx1\\h2o_rupesh_singh_started_from_python.out\n",
      "  JVM stderr: C:\\Users\\RUPESH~1.SIN\\AppData\\Local\\Temp\\tmpie82qvx1\\h2o_rupesh_singh_started_from_python.err\n",
      "  Server is running at http://127.0.0.1:54321\n",
      "Connecting to H2O server at http://127.0.0.1:54321 ... successful.\n"
     ]
    },
    {
     "data": {
      "text/html": [
       "\n",
       "<style>\n",
       "\n",
       "#h2o-table-2.h2o-container {\n",
       "  overflow-x: auto;\n",
       "}\n",
       "#h2o-table-2 .h2o-table {\n",
       "  /* width: 100%; */\n",
       "  margin-top: 1em;\n",
       "  margin-bottom: 1em;\n",
       "}\n",
       "#h2o-table-2 .h2o-table caption {\n",
       "  white-space: nowrap;\n",
       "  caption-side: top;\n",
       "  text-align: left;\n",
       "  /* margin-left: 1em; */\n",
       "  margin: 0;\n",
       "  font-size: larger;\n",
       "}\n",
       "#h2o-table-2 .h2o-table thead {\n",
       "  white-space: nowrap; \n",
       "  position: sticky;\n",
       "  top: 0;\n",
       "  box-shadow: 0 -1px inset;\n",
       "}\n",
       "#h2o-table-2 .h2o-table tbody {\n",
       "  overflow: auto;\n",
       "}\n",
       "#h2o-table-2 .h2o-table th,\n",
       "#h2o-table-2 .h2o-table td {\n",
       "  text-align: right;\n",
       "  /* border: 1px solid; */\n",
       "}\n",
       "#h2o-table-2 .h2o-table tr:nth-child(even) {\n",
       "  /* background: #F5F5F5 */\n",
       "}\n",
       "\n",
       "</style>      \n",
       "<div id=\"h2o-table-2\" class=\"h2o-container\">\n",
       "  <table class=\"h2o-table\">\n",
       "    <caption></caption>\n",
       "    <thead></thead>\n",
       "    <tbody><tr><td>H2O_cluster_uptime:</td>\n",
       "<td>05 secs</td></tr>\n",
       "<tr><td>H2O_cluster_timezone:</td>\n",
       "<td>Asia/Kolkata</td></tr>\n",
       "<tr><td>H2O_data_parsing_timezone:</td>\n",
       "<td>UTC</td></tr>\n",
       "<tr><td>H2O_cluster_version:</td>\n",
       "<td>3.46.0.2</td></tr>\n",
       "<tr><td>H2O_cluster_version_age:</td>\n",
       "<td>16 days</td></tr>\n",
       "<tr><td>H2O_cluster_name:</td>\n",
       "<td>H2O_from_python_rupesh_singh_7atbnq</td></tr>\n",
       "<tr><td>H2O_cluster_total_nodes:</td>\n",
       "<td>1</td></tr>\n",
       "<tr><td>H2O_cluster_free_memory:</td>\n",
       "<td>3.485 Gb</td></tr>\n",
       "<tr><td>H2O_cluster_total_cores:</td>\n",
       "<td>0</td></tr>\n",
       "<tr><td>H2O_cluster_allowed_cores:</td>\n",
       "<td>0</td></tr>\n",
       "<tr><td>H2O_cluster_status:</td>\n",
       "<td>locked, healthy</td></tr>\n",
       "<tr><td>H2O_connection_url:</td>\n",
       "<td>http://127.0.0.1:54321</td></tr>\n",
       "<tr><td>H2O_connection_proxy:</td>\n",
       "<td>{\"http\": null, \"https\": null}</td></tr>\n",
       "<tr><td>H2O_internal_security:</td>\n",
       "<td>False</td></tr>\n",
       "<tr><td>Python_version:</td>\n",
       "<td>3.10.14 final</td></tr></tbody>\n",
       "  </table>\n",
       "</div>\n"
      ],
      "text/plain": [
       "--------------------------  -----------------------------------\n",
       "H2O_cluster_uptime:         05 secs\n",
       "H2O_cluster_timezone:       Asia/Kolkata\n",
       "H2O_data_parsing_timezone:  UTC\n",
       "H2O_cluster_version:        3.46.0.2\n",
       "H2O_cluster_version_age:    16 days\n",
       "H2O_cluster_name:           H2O_from_python_rupesh_singh_7atbnq\n",
       "H2O_cluster_total_nodes:    1\n",
       "H2O_cluster_free_memory:    3.485 Gb\n",
       "H2O_cluster_total_cores:    0\n",
       "H2O_cluster_allowed_cores:  0\n",
       "H2O_cluster_status:         locked, healthy\n",
       "H2O_connection_url:         http://127.0.0.1:54321\n",
       "H2O_connection_proxy:       {\"http\": null, \"https\": null}\n",
       "H2O_internal_security:      False\n",
       "Python_version:             3.10.14 final\n",
       "--------------------------  -----------------------------------"
      ]
     },
     "metadata": {},
     "output_type": "display_data"
    },
    {
     "name": "stdout",
     "output_type": "stream",
     "text": [
      "Parse progress: |████████████████████████████████████████████████████████████████| (done) 100%\n",
      "deeplearning Grid Build progress: |██████████████████████████████████████████████| (done) 100%\n",
      "deeplearning Grid Build progress: |██████████████████████████████████████████████| (done) 100%\n",
      "Number of Anomalies: 27920\n"
     ]
    }
   ],
   "source": [
    "import h2o\n",
    "from h2o.estimators.deeplearning import H2OAutoEncoderEstimator\n",
    "h2o.init()\n",
    "#dfm2 = dfm2.reset_index()\n",
    "dfm2 = dfm2[['user_id', 'bill_id', 'line_item_amount', 'bill_discount','product', 'colour','size','zone_name','transaction_date']]\n",
    "data_from_df = h2o.H2OFrame(dfm2)\n",
    "data_from_df_split = data_from_df.split_frame(ratios = [0.75], seed = 1234)\n",
    "data_from_df_train = data_from_df_split[0] # using 75% for training\n",
    "data_from_df_test = data_from_df_split[1]  # using the rest 20% for out-of-bag evaluation\n",
    "\n",
    "## Set DeepLearning Grid Search Parameters\n",
    "from h2o.estimators import H2ODeepLearningEstimator\n",
    "from h2o.grid.grid_search import H2OGridSearch\n",
    "\n",
    "# create hyperameter and search criteria lists (ranges are inclusive..exclusive))\n",
    "dl_hyper_params_tune = {\n",
    "    'activation' : [\"Tanh\",\"RectifierWithDropout\",\"TanhWithDropout\"],\n",
    "    'hidden': [[2], [5], [10], [2, 2]],\n",
    "    'input_dropout_ratio' : [0,0.05],\n",
    "    'l1': [0, 1e-05, 2e-05, 3e-05, 4e-05, 5e-05, 6e-05, 7e-05, 8e-05, 9e-05, 1e-04],\n",
    "    'l2': [0, 1e-05, 2e-05, 3e-05, 4e-05, 5e-05, 6e-05, 7e-05, 8e-05, 9e-05, 1e-04]}\n",
    "\n",
    "\n",
    "random_search_criteria_tune = {'strategy': \"RandomDiscrete\",\n",
    "                               'max_runtime_secs': 60, \n",
    "                               'seed' : 1234, # make it reproducible\n",
    "                               'stopping_rounds' : 5, # stop grid search once the best models have similar AUC\n",
    "                               'stopping_metric' : \"MSE\",\n",
    "                               'stopping_tolerance': 1e-3\n",
    "                              }\n",
    "\n",
    "stopping_metric = \"MSE\"\n",
    "stopping_tolerance = 1e-3\n",
    "stopping_rounds = 10\n",
    "\n",
    "## Deep Learning Model\n",
    "\n",
    "dl_model = H2ODeepLearningEstimator(\n",
    "    seed = 1234,\n",
    "    ## here, use \"more than enough\" epochs - we have early stopping\n",
    "    epochs=10000, \n",
    "    ## early stopping\n",
    "    stopping_rounds = stopping_rounds,\n",
    "    stopping_metric = stopping_metric,\n",
    "    stopping_tolerance = stopping_tolerance,\n",
    "    autoencoder = True,\n",
    "    reproducible = True\n",
    ")\n",
    "\n",
    "## Run Deep Learning Grid Search\n",
    "dl_grid = H2OGridSearch(dl_model, hyper_params = dl_hyper_params_tune,\n",
    "                        grid_id = 'ae_grid',\n",
    "                        search_criteria = random_search_criteria_tune)\n",
    "\n",
    "dl_grid.train(x=dfm2, \n",
    "              ## early stopping based on timeout (no model should take more than 1 hour - modify as needed)\n",
    "              max_runtime_secs = 3600, \n",
    "              training_frame = data_from_df_train,\n",
    "              validation_frame = data_from_df_test\n",
    "             )\n",
    "\n",
    "## Run Deep Learning Grid Search\n",
    "dl_grid = H2OGridSearch(dl_model, hyper_params = dl_hyper_params_tune,\n",
    "                        grid_id = 'ae_grid',\n",
    "                        search_criteria = random_search_criteria_tune)\n",
    "\n",
    "dl_grid.train(x=dfm2, \n",
    "              ## early stopping based on timeout (no model should take more than 1 hour - modify as needed)\n",
    "              max_runtime_secs = 3600, \n",
    "              training_frame = data_from_df_train,\n",
    "              validation_frame = data_from_df_test\n",
    "             )\n",
    "\n",
    "dl_grid.get_grid(\"mse\")\n",
    "ae_model = h2o.get_model(\"ae_grid_model_3\")\n",
    "reconstruction_error = ae_model.anomaly(data_from_df)\n",
    "anomalies_ae = data_from_df[reconstruction_error[\"Reconstruction.MSE\"] > 0.03]\n",
    "print(\"Number of Anomalies: \" + str(anomalies_ae.nrow))\n",
    "data_from_df[\"anomaly_ae\"] = (reconstruction_error[\"Reconstruction.MSE\"] > 0.03).ifelse(\"Yes\", \"No\")\n",
    "df_anm = data_from_df.as_data_frame()\n",
    "#h2o.cluster().shutdown()"
   ]
  },
  {
   "cell_type": "code",
   "execution_count": 136,
   "id": "af1beea6-ecbc-4af2-ba11-b6719334101f",
   "metadata": {},
   "outputs": [],
   "source": [
    "df_anm.transaction_date = df.reset_index().transaction_date"
   ]
  },
  {
   "cell_type": "code",
   "execution_count": 137,
   "id": "03f961ca-9c38-49fb-b8a6-a76c27151e95",
   "metadata": {},
   "outputs": [],
   "source": [
    "df_anm.transaction_date = df_anm.transaction_date.replace(np.nan,'2022-12-31')"
   ]
  },
  {
   "cell_type": "code",
   "execution_count": 138,
   "id": "ceed0c13-fd00-4d4f-8779-fb477ed837fd",
   "metadata": {},
   "outputs": [],
   "source": [
    "rfm_a = df_anm.groupby(['product', 'zone_name']).agg({'anomaly_ae': lambda x: x.count() if (x=='Yes').all() else 0 }).reset_index()\n",
    "# Rename columns\n",
    "rfm_a.rename(columns={'anomaly_ae': 'nFraudItems'}, inplace=True)"
   ]
  },
  {
   "cell_type": "markdown",
   "id": "0b47ef85-d1e1-44b7-9271-f9e3559e49f3",
   "metadata": {},
   "source": [
    "Fraud Detection using Classification Model"
   ]
  },
  {
   "cell_type": "code",
   "execution_count": 139,
   "id": "25964d59-4a6e-46ab-a3bb-2948c6374566",
   "metadata": {},
   "outputs": [
    {
     "name": "stdout",
     "output_type": "stream",
     "text": [
      "Best set of hyperparameters:  {'learning_rate': 0.01, 'max_depth': 7, 'subsample': 0.7}\n",
      "Best score:  0.9996878481611404\n"
     ]
    }
   ],
   "source": [
    "from sklearn.model_selection import train_test_split\n",
    "df_anm = df_anm.replace({'anomaly_ae': {'Yes': 1,  \n",
    "                                'No': 0}}) \n",
    "df_anm.anomaly_ae = df_anm.anomaly_ae.astype(int)\n",
    "\n",
    "df_anm['transaction_date'] =  pd.to_datetime(df_anm['transaction_date']).astype('int64')\n",
    "X=df_anm.iloc[:,:-1] #selection feature set\n",
    "Y=df_anm.iloc[:,-1:]\n",
    "\n",
    "x_train,x_test,y_train,y_test=train_test_split(X,Y,test_size=0.3,random_state=1234) \n",
    "\n",
    "import xgboost as xgb\n",
    "from sklearn.model_selection import GridSearchCV\n",
    "\n",
    "# Define the hyperparameter grid\n",
    "param_grid = {\n",
    "    'max_depth': [7],\n",
    "    'learning_rate': [0.01],\n",
    "    'subsample': [0.7]\n",
    "}\n",
    "\n",
    "# Create the XGBoost model object\n",
    "xgb_model = xgb.XGBClassifier()\n",
    "\n",
    "# Create the GridSearchCV object\n",
    "grid_search = GridSearchCV(xgb_model, param_grid, cv=5, scoring='accuracy')\n",
    "\n",
    "# Fit the GridSearchCV object to the training data\n",
    "grid_search.fit(x_train, y_train)\n",
    "\n",
    "# Print the best set of hyperparameters and the corresponding score\n",
    "print(\"Best set of hyperparameters: \", grid_search.best_params_)\n",
    "print(\"Best score: \", grid_search.best_score_)"
   ]
  },
  {
   "cell_type": "code",
   "execution_count": 140,
   "id": "1daf0cd4-72cc-47d3-ba45-36bd91ba0f3d",
   "metadata": {},
   "outputs": [
    {
     "data": {
      "image/png": "[encoded data removed]",
      "text/plain": [
       "<Figure size 640x480 with 2 Axes>"
      ]
     },
     "metadata": {},
     "output_type": "display_data"
    },
    {
     "data": {
      "image/png": "[encoded data removed]",
      "text/plain": [
       "<Figure size 640x480 with 2 Axes>"
      ]
     },
     "metadata": {},
     "output_type": "display_data"
    },
    {
     "data": {
      "image/png": "[encoded data removed]",
      "text/plain": [
       "<Figure size 640x480 with 1 Axes>"
      ]
     },
     "metadata": {},
     "output_type": "display_data"
    }
   ],
   "source": [
    "from sklearn.metrics import accuracy_score,f1_score,roc_auc_score,confusion_matrix,roc_curve, ConfusionMatrixDisplay,RocCurveDisplay,auc\n",
    "#predictions - inputs to confusion matrix\n",
    "train_predictions = grid_search.predict(x_train)\n",
    "test_predictions = grid_search.predict(x_test)\n",
    "\n",
    "#confusion matrices\n",
    "cfm_train = confusion_matrix(y_train, train_predictions)\n",
    "cfm_test = confusion_matrix(y_test, test_predictions)\n",
    "\n",
    "disp = ConfusionMatrixDisplay(confusion_matrix=cfm_train\n",
    "                             )\n",
    "disp.plot()\n",
    "plt.show()\n",
    "\n",
    "\n",
    "disp = ConfusionMatrixDisplay(confusion_matrix=cfm_test)\n",
    "disp.plot()\n",
    "plt.show()\n",
    "\n",
    "#accuracy scores\n",
    "accs_train = accuracy_score(y_train, train_predictions)\n",
    "accs_test = accuracy_score(y_test, test_predictions)\n",
    "\n",
    "\n",
    "#F1 scores for each train/test label\n",
    "f1s_train_p1 = f1_score(y_train, train_predictions, pos_label=1)\n",
    "f1s_train_p0 = f1_score(y_train, train_predictions, pos_label=0)\n",
    "f1s_test_p1 = f1_score(y_test, test_predictions, pos_label=1)\n",
    "f1s_test_p0 = f1_score(y_test, test_predictions, pos_label=0)\n",
    "\n",
    "\n",
    "#Area Under the Receiver Operating Characteristic Curve\n",
    "test_ras = roc_auc_score(y_test, grid_search.predict_proba(x_test)[:,1])\n",
    "fpr, tpr, thresholds = roc_curve(y_test, grid_search.predict_proba(x_test)[:,1])\n",
    "roc_auc = auc(fpr, tpr)\n",
    "display = RocCurveDisplay(fpr=fpr, tpr=tpr, roc_auc=roc_auc,\n",
    "                                  estimator_name='example estimator')\n",
    "display.plot()\n",
    "plt.show()"
   ]
  },
  {
   "cell_type": "code",
   "execution_count": 141,
   "id": "7eedd403-e0da-47a3-8cac-8dda8e1ab9f3",
   "metadata": {},
   "outputs": [],
   "source": [
    "df_anm['Fraud'] = grid_search.predict(df_anm[['user_id', 'bill_id', 'line_item_amount', 'bill_discount', 'product', 'colour', 'size', 'zone_name', 'transaction_date']])"
   ]
  },
  {
   "cell_type": "code",
   "execution_count": 142,
   "id": "fc1552c8-2d51-4414-89dd-f2d2e5fd181d",
   "metadata": {},
   "outputs": [],
   "source": [
    "rfm_an = df_anm.groupby('user_id').agg({'Fraud': lambda x: x.count() if(x==1).all() else 0}).reset_index()\n",
    "# Rename columns\n",
    "rfm_an.rename(columns={'Fraud': 'n'}, inplace=True)"
   ]
  },
  {
   "cell_type": "code",
   "execution_count": 143,
   "id": "dffda783-29c0-4322-9a28-f2f9b0b848ea",
   "metadata": {},
   "outputs": [],
   "source": [
    "#rfm['n'] = rfm_an['Fraud']\n",
    "rfm['n'] = rfm_an['n']"
   ]
  },
  {
   "cell_type": "code",
   "execution_count": 144,
   "id": "d7cb29b4-383c-4afc-b40b-8cbf205b2c11",
   "metadata": {
    "scrolled": true
   },
   "outputs": [
    {
     "data": {
      "image/png": "[encoded data removed]",
      "text/plain": [
       "<Figure size 2000x400 with 2 Axes>"
      ]
     },
     "metadata": {},
     "output_type": "display_data"
    }
   ],
   "source": [
    "fig, axs = plt.subplots(figsize=(20, 4))\n",
    "ax2 = axs.twinx()  \n",
    "df_anm['transaction_date'] = pd.to_datetime(df_anm['transaction_date'])\n",
    "df_anm.groupby([df_anm[\"transaction_date\"].dt.year,df_anm[\"transaction_date\"].dt.month])[\"product\"].count().plot(\n",
    "    kind='line', rot=0, ax=axs,  label = \"line 1\"\n",
    ")\n",
    "df_anm.groupby([df_anm[\"transaction_date\"].dt.year,df_anm[\"transaction_date\"].dt.month])[\"Fraud\"].sum().plot(\n",
    "    kind='line', rot=0, ax=ax2,  label = \"line 2\", color ='k'\n",
    ")\n",
    "plt.xlabel(\"Month\")\n",
    "plt.ylabel(\"Possible Fraud Events\")\n",
    "\n",
    "plt.show()"
   ]
  },
  {
   "cell_type": "code",
   "execution_count": 145,
   "id": "a671c2d5-cf7f-4850-96f5-8082b6bc45e5",
   "metadata": {},
   "outputs": [],
   "source": [
    "df_timeseries = df_anm.groupby(['product', 'transaction_date']).agg({'Fraud': lambda x: x.sum()}).reset_index()"
   ]
  },
  {
   "cell_type": "code",
   "execution_count": 146,
   "id": "32b64e7b-900c-4db8-aefc-f551a1a35502",
   "metadata": {},
   "outputs": [],
   "source": [
    "from statsforecast import StatsForecast\n",
    "from statsforecast.models import AutoARIMA\n",
    "sf = StatsForecast(\n",
    "    models = [AutoARIMA(season_length = 12)],\n",
    "    freq = 'D'\n",
    ")\n",
    "df_timeseries.rename(columns={'product': 'unique_id','transaction_date': 'ds', 'Fraud':'y'}, inplace=True)\n",
    "sf.fit(df_timeseries)\n",
    "df_forecast = sf.predict(h=100, level=[90])\n",
    "df_forecast = df_forecast.round()"
   ]
  },
  {
   "cell_type": "code",
   "execution_count": 147,
   "id": "33cb07b7-4ea8-4064-aa5a-cd58d9e58e31",
   "metadata": {},
   "outputs": [],
   "source": [
    "#df_forecast[df_forecast.AutoARIMA >1].reset_index().unique_id.unique()"
   ]
  },
  {
   "cell_type": "code",
   "execution_count": 148,
   "id": "c1d95878-a67c-44b6-8342-f5f159784f73",
   "metadata": {},
   "outputs": [],
   "source": [
    "dfz_timeseries = df_anm.groupby(['zone_name', 'transaction_date']).agg({'Fraud': lambda x: x.sum()}).reset_index()\n",
    "dfz_timeseries.rename(columns={'zone_name': 'unique_id','transaction_date': 'ds', 'Fraud':'y'}, inplace=True)"
   ]
  },
  {
   "cell_type": "code",
   "execution_count": 151,
   "id": "986b1206-2412-43aa-8385-dafe695a9ecc",
   "metadata": {},
   "outputs": [],
   "source": [
    "sf1 = StatsForecast(\n",
    "    models = [AutoARIMA(season_length = 52)],\n",
    "    freq = 'W'\n",
    ")\n",
    "sf1.fit(dfz_timeseries)\n",
    "dfz_forecast = sf1.predict(h=4, level=[90])\n",
    "dfz_forecast = dfz_forecast.round()"
   ]
  },
  {
   "cell_type": "code",
   "execution_count": 152,
   "id": "73747dea-d1d2-4de4-9238-9d3bb1004312",
   "metadata": {},
   "outputs": [
    {
     "data": {
      "application/vnd.plotly.v1+json": {
       "config": {
        "plotlyServerURL": "https://plot.ly"
       },
       "data": [
        {
         "branchvalues": "total",
         "domain": {
          "x": [
           0,
           1
          ],
          "y": [
           0,
           1
          ]
         },
         "hovertemplate": "labels=%{label}<br>percent=%{value}<br>parent=%{parent}<br>id=%{id}<extra></extra>",
         "ids": [
          "Fraud/1/Price Sensitive/4/0",
          "Fraud/1/Loyal customers/32/0",
          "Fraud/2/At risk/56/0",
          "Fraud/2/Potential loyalists/78/0",
          "Fraud/0/Price Sensitive/150/0",
          "Fraud/3/Price Sensitive/308/0",
          "Fraud/0/Can't lose them/786/0",
          "Fraud/3/Promising/1227/0",
          "Fraud/1/Promising/3478/2",
          "Fraud/1/Potential loyalists/7775/4",
          "Fraud/3/At risk/674/11",
          "Fraud/0/Promising/758/11",
          "Fraud/2/Can't lose them/480/15",
          "Fraud/0/Hibernating/3415/24",
          "Fraud/0/At risk/11334/29",
          "Fraud/0/Potential loyalists/20529/32",
          "Fraud/2/Loyal customers/4820/36",
          "Fraud/3/Can't lose them/26696/207",
          "Fraud/3/Potential loyalists/94590/261",
          "Fraud/1/Can't lose them/73459/534",
          "Fraud/0/Loyal customers/88502/537",
          "Fraud/3/Champions/1165197/842",
          "Fraud/0/Champions/445674/1039",
          "Fraud/3/Loyal customers/686198/1945",
          "Fraud/2/Champions/1448462/2239",
          "Fraud/1/Hibernating/468514/2527",
          "Fraud/1/At risk/842528/3844",
          "Fraud/1/Price Sensitive/4",
          "Fraud/1/Loyal customers/32",
          "Fraud/2/At risk/56",
          "Fraud/2/Potential loyalists/78",
          "Fraud/0/Price Sensitive/150",
          "Fraud/3/Price Sensitive/308",
          "Fraud/2/Can't lose them/480",
          "Fraud/3/At risk/674",
          "Fraud/0/Promising/758",
          "Fraud/0/Can't lose them/786",
          "Fraud/3/Promising/1227",
          "Fraud/0/Hibernating/3415",
          "Fraud/1/Promising/3478",
          "Fraud/2/Loyal customers/4820",
          "Fraud/1/Potential loyalists/7775",
          "Fraud/0/At risk/11334",
          "Fraud/0/Potential loyalists/20529",
          "Fraud/3/Can't lose them/26696",
          "Fraud/1/Can't lose them/73459",
          "Fraud/0/Loyal customers/88502",
          "Fraud/3/Potential loyalists/94590",
          "Fraud/0/Champions/445674",
          "Fraud/1/Hibernating/468514",
          "Fraud/3/Loyal customers/686198",
          "Fraud/1/At risk/842528",
          "Fraud/3/Champions/1165197",
          "Fraud/2/Champions/1448462",
          "Fraud/0/At risk",
          "Fraud/1/At risk",
          "Fraud/2/At risk",
          "Fraud/3/At risk",
          "Fraud/0/Can't lose them",
          "Fraud/1/Can't lose them",
          "Fraud/2/Can't lose them",
          "Fraud/3/Can't lose them",
          "Fraud/0/Champions",
          "Fraud/2/Champions",
          "Fraud/3/Champions",
          "Fraud/0/Hibernating",
          "Fraud/1/Hibernating",
          "Fraud/0/Loyal customers",
          "Fraud/1/Loyal customers",
          "Fraud/2/Loyal customers",
          "Fraud/3/Loyal customers",
          "Fraud/0/Potential loyalists",
          "Fraud/1/Potential loyalists",
          "Fraud/2/Potential loyalists",
          "Fraud/3/Potential loyalists",
          "Fraud/0/Price Sensitive",
          "Fraud/1/Price Sensitive",
          "Fraud/3/Price Sensitive",
          "Fraud/0/Promising",
          "Fraud/1/Promising",
          "Fraud/3/Promising",
          "Fraud/0",
          "Fraud/1",
          "Fraud/2",
          "Fraud/3",
          "Fraud"
         ],
         "labels": [
          "0",
          "0",
          "0",
          "0",
          "0",
          "0",
          "0",
          "0",
          "2",
          "4",
          "11",
          "11",
          "15",
          "24",
          "29",
          "32",
          "36",
          "207",
          "261",
          "534",
          "537",
          "842",
          "1039",
          "1945",
          "2239",
          "2527",
          "3844",
          "4",
          "32",
          "56",
          "78",
          "150",
          "308",
          "480",
          "674",
          "758",
          "786",
          "1227",
          "3415",
          "3478",
          "4820",
          "7775",
          "11334",
          "20529",
          "26696",
          "73459",
          "88502",
          "94590",
          "445674",
          "468514",
          "686198",
          "842528",
          "1165197",
          "1448462",
          "At risk",
          "At risk",
          "At risk",
          "At risk",
          "Can't lose them",
          "Can't lose them",
          "Can't lose them",
          "Can't lose them",
          "Champions",
          "Champions",
          "Champions",
          "Hibernating",
          "Hibernating",
          "Loyal customers",
          "Loyal customers",
          "Loyal customers",
          "Loyal customers",
          "Potential loyalists",
          "Potential loyalists",
          "Potential loyalists",
          "Potential loyalists",
          "Price Sensitive",
          "Price Sensitive",
          "Price Sensitive",
          "Promising",
          "Promising",
          "Promising",
          "0",
          "1",
          "2",
          "3",
          "Fraud"
         ],
         "name": "",
         "parents": [
          "Fraud/1/Price Sensitive/4",
          "Fraud/1/Loyal customers/32",
          "Fraud/2/At risk/56",
          "Fraud/2/Potential loyalists/78",
          "Fraud/0/Price Sensitive/150",
          "Fraud/3/Price Sensitive/308",
          "Fraud/0/Can't lose them/786",
          "Fraud/3/Promising/1227",
          "Fraud/1/Promising/3478",
          "Fraud/1/Potential loyalists/7775",
          "Fraud/3/At risk/674",
          "Fraud/0/Promising/758",
          "Fraud/2/Can't lose them/480",
          "Fraud/0/Hibernating/3415",
          "Fraud/0/At risk/11334",
          "Fraud/0/Potential loyalists/20529",
          "Fraud/2/Loyal customers/4820",
          "Fraud/3/Can't lose them/26696",
          "Fraud/3/Potential loyalists/94590",
          "Fraud/1/Can't lose them/73459",
          "Fraud/0/Loyal customers/88502",
          "Fraud/3/Champions/1165197",
          "Fraud/0/Champions/445674",
          "Fraud/3/Loyal customers/686198",
          "Fraud/2/Champions/1448462",
          "Fraud/1/Hibernating/468514",
          "Fraud/1/At risk/842528",
          "Fraud/1/Price Sensitive",
          "Fraud/1/Loyal customers",
          "Fraud/2/At risk",
          "Fraud/2/Potential loyalists",
          "Fraud/0/Price Sensitive",
          "Fraud/3/Price Sensitive",
          "Fraud/2/Can't lose them",
          "Fraud/3/At risk",
          "Fraud/0/Promising",
          "Fraud/0/Can't lose them",
          "Fraud/3/Promising",
          "Fraud/0/Hibernating",
          "Fraud/1/Promising",
          "Fraud/2/Loyal customers",
          "Fraud/1/Potential loyalists",
          "Fraud/0/At risk",
          "Fraud/0/Potential loyalists",
          "Fraud/3/Can't lose them",
          "Fraud/1/Can't lose them",
          "Fraud/0/Loyal customers",
          "Fraud/3/Potential loyalists",
          "Fraud/0/Champions",
          "Fraud/1/Hibernating",
          "Fraud/3/Loyal customers",
          "Fraud/1/At risk",
          "Fraud/3/Champions",
          "Fraud/2/Champions",
          "Fraud/0",
          "Fraud/1",
          "Fraud/2",
          "Fraud/3",
          "Fraud/0",
          "Fraud/1",
          "Fraud/2",
          "Fraud/3",
          "Fraud/0",
          "Fraud/2",
          "Fraud/3",
          "Fraud/0",
          "Fraud/1",
          "Fraud/0",
          "Fraud/1",
          "Fraud/2",
          "Fraud/3",
          "Fraud/0",
          "Fraud/1",
          "Fraud/2",
          "Fraud/3",
          "Fraud/0",
          "Fraud/1",
          "Fraud/3",
          "Fraud/0",
          "Fraud/1",
          "Fraud/3",
          "Fraud",
          "Fraud",
          "Fraud",
          "Fraud",
          ""
         ],
         "root": {
          "color": "lightgrey"
         },
         "textinfo": "label+text+value",
         "type": "treemap",
         "values": [
          0,
          0,
          0,
          0,
          0,
          0,
          0,
          0,
          0.1,
          0.1,
          1.6,
          1.5,
          3.1,
          0.7,
          0.3,
          0.2,
          0.7,
          0.8,
          0.3,
          0.7,
          0.6,
          0.1,
          0.2,
          0.3,
          0.2,
          0.5,
          0.5,
          0,
          0,
          0,
          0,
          0,
          0,
          3.1,
          1.6,
          1.5,
          0,
          0,
          0.7,
          0.1,
          0.7,
          0.1,
          0.3,
          0.2,
          0.8,
          0.7,
          0.6,
          0.3,
          0.2,
          0.5,
          0.3,
          0.5,
          0.1,
          0.2,
          0.3,
          0.5,
          0,
          1.6,
          0,
          0.7,
          3.1,
          0.8,
          0.2,
          0.2,
          0.1,
          0.7,
          0.5,
          0.6,
          0,
          0.7,
          0.3,
          0.2,
          0.1,
          0,
          0.3,
          0,
          0,
          0,
          1.5,
          0.1,
          0,
          3.5,
          1.9,
          4,
          3.1,
          12.5
         ]
        }
       ],
       "layout": {
        "legend": {
         "tracegroupgap": 0
        },
        "margin": {
         "b": 25,
         "l": 25,
         "r": 25,
         "t": 50
        },
        "template": {
         "data": {
          "bar": [
           {
            "error_x": {
             "color": "#2a3f5f"
            },
            "error_y": {
             "color": "#2a3f5f"
            },
            "marker": {
             "line": {
              "color": "#E5ECF6",
              "width": 0.5
             },
             "pattern": {
              "fillmode": "overlay",
              "size": 10,
              "solidity": 0.2
             }
            },
            "type": "bar"
           }
          ],
          "barpolar": [
           {
            "marker": {
             "line": {
              "color": "#E5ECF6",
              "width": 0.5
             },
             "pattern": {
              "fillmode": "overlay",
              "size": 10,
              "solidity": 0.2
             }
            },
            "type": "barpolar"
           }
          ],
          "carpet": [
           {
            "aaxis": {
             "endlinecolor": "#2a3f5f",
             "gridcolor": "white",
             "linecolor": "white",
             "minorgridcolor": "white",
             "startlinecolor": "#2a3f5f"
            },
            "baxis": {
             "endlinecolor": "#2a3f5f",
             "gridcolor": "white",
             "linecolor": "white",
             "minorgridcolor": "white",
             "startlinecolor": "#2a3f5f"
            },
            "type": "carpet"
           }
          ],
          "choropleth": [
           {
            "colorbar": {
             "outlinewidth": 0,
             "ticks": ""
            },
            "type": "choropleth"
           }
          ],
          "contour": [
           {
            "colorbar": {
             "outlinewidth": 0,
             "ticks": ""
            },
            "colorscale": [
             [
              0,
              "#0d0887"
             ],
             [
              0.1111111111111111,
              "#46039f"
             ],
             [
              0.2222222222222222,
              "#7201a8"
             ],
             [
              0.3333333333333333,
              "#9c179e"
             ],
             [
              0.4444444444444444,
              "#bd3786"
             ],
             [
              0.5555555555555556,
              "#d8576b"
             ],
             [
              0.6666666666666666,
              "#ed7953"
             ],
             [
              0.7777777777777778,
              "#fb9f3a"
             ],
             [
              0.8888888888888888,
              "#fdca26"
             ],
             [
              1,
              "#f0f921"
             ]
            ],
            "type": "contour"
           }
          ],
          "contourcarpet": [
           {
            "colorbar": {
             "outlinewidth": 0,
             "ticks": ""
            },
            "type": "contourcarpet"
           }
          ],
          "heatmap": [
           {
            "colorbar": {
             "outlinewidth": 0,
             "ticks": ""
            },
            "colorscale": [
             [
              0,
              "#0d0887"
             ],
             [
              0.1111111111111111,
              "#46039f"
             ],
             [
              0.2222222222222222,
              "#7201a8"
             ],
             [
              0.3333333333333333,
              "#9c179e"
             ],
             [
              0.4444444444444444,
              "#bd3786"
             ],
             [
              0.5555555555555556,
              "#d8576b"
             ],
             [
              0.6666666666666666,
              "#ed7953"
             ],
             [
              0.7777777777777778,
              "#fb9f3a"
             ],
             [
              0.8888888888888888,
              "#fdca26"
             ],
             [
              1,
              "#f0f921"
             ]
            ],
            "type": "heatmap"
           }
          ],
          "heatmapgl": [
           {
            "colorbar": {
             "outlinewidth": 0,
             "ticks": ""
            },
            "colorscale": [
             [
              0,
              "#0d0887"
             ],
             [
              0.1111111111111111,
              "#46039f"
             ],
             [
              0.2222222222222222,
              "#7201a8"
             ],
             [
              0.3333333333333333,
              "#9c179e"
             ],
             [
              0.4444444444444444,
              "#bd3786"
             ],
             [
              0.5555555555555556,
              "#d8576b"
             ],
             [
              0.6666666666666666,
              "#ed7953"
             ],
             [
              0.7777777777777778,
              "#fb9f3a"
             ],
             [
              0.8888888888888888,
              "#fdca26"
             ],
             [
              1,
              "#f0f921"
             ]
            ],
            "type": "heatmapgl"
           }
          ],
          "histogram": [
           {
            "marker": {
             "pattern": {
              "fillmode": "overlay",
              "size": 10,
              "solidity": 0.2
             }
            },
            "type": "histogram"
           }
          ],
          "histogram2d": [
           {
            "colorbar": {
             "outlinewidth": 0,
             "ticks": ""
            },
            "colorscale": [
             [
              0,
              "#0d0887"
             ],
             [
              0.1111111111111111,
              "#46039f"
             ],
             [
              0.2222222222222222,
              "#7201a8"
             ],
             [
              0.3333333333333333,
              "#9c179e"
             ],
             [
              0.4444444444444444,
              "#bd3786"
             ],
             [
              0.5555555555555556,
              "#d8576b"
             ],
             [
              0.6666666666666666,
              "#ed7953"
             ],
             [
              0.7777777777777778,
              "#fb9f3a"
             ],
             [
              0.8888888888888888,
              "#fdca26"
             ],
             [
              1,
              "#f0f921"
             ]
            ],
            "type": "histogram2d"
           }
          ],
          "histogram2dcontour": [
           {
            "colorbar": {
             "outlinewidth": 0,
             "ticks": ""
            },
            "colorscale": [
             [
              0,
              "#0d0887"
             ],
             [
              0.1111111111111111,
              "#46039f"
             ],
             [
              0.2222222222222222,
              "#7201a8"
             ],
             [
              0.3333333333333333,
              "#9c179e"
             ],
             [
              0.4444444444444444,
              "#bd3786"
             ],
             [
              0.5555555555555556,
              "#d8576b"
             ],
             [
              0.6666666666666666,
              "#ed7953"
             ],
             [
              0.7777777777777778,
              "#fb9f3a"
             ],
             [
              0.8888888888888888,
              "#fdca26"
             ],
             [
              1,
              "#f0f921"
             ]
            ],
            "type": "histogram2dcontour"
           }
          ],
          "mesh3d": [
           {
            "colorbar": {
             "outlinewidth": 0,
             "ticks": ""
            },
            "type": "mesh3d"
           }
          ],
          "parcoords": [
           {
            "line": {
             "colorbar": {
              "outlinewidth": 0,
              "ticks": ""
             }
            },
            "type": "parcoords"
           }
          ],
          "pie": [
           {
            "automargin": true,
            "type": "pie"
           }
          ],
          "scatter": [
           {
            "fillpattern": {
             "fillmode": "overlay",
             "size": 10,
             "solidity": 0.2
            },
            "type": "scatter"
           }
          ],
          "scatter3d": [
           {
            "line": {
             "colorbar": {
              "outlinewidth": 0,
              "ticks": ""
             }
            },
            "marker": {
             "colorbar": {
              "outlinewidth": 0,
              "ticks": ""
             }
            },
            "type": "scatter3d"
           }
          ],
          "scattercarpet": [
           {
            "marker": {
             "colorbar": {
              "outlinewidth": 0,
              "ticks": ""
             }
            },
            "type": "scattercarpet"
           }
          ],
          "scattergeo": [
           {
            "marker": {
             "colorbar": {
              "outlinewidth": 0,
              "ticks": ""
             }
            },
            "type": "scattergeo"
           }
          ],
          "scattergl": [
           {
            "marker": {
             "colorbar": {
              "outlinewidth": 0,
              "ticks": ""
             }
            },
            "type": "scattergl"
           }
          ],
          "scattermapbox": [
           {
            "marker": {
             "colorbar": {
              "outlinewidth": 0,
              "ticks": ""
             }
            },
            "type": "scattermapbox"
           }
          ],
          "scatterpolar": [
           {
            "marker": {
             "colorbar": {
              "outlinewidth": 0,
              "ticks": ""
             }
            },
            "type": "scatterpolar"
           }
          ],
          "scatterpolargl": [
           {
            "marker": {
             "colorbar": {
              "outlinewidth": 0,
              "ticks": ""
             }
            },
            "type": "scatterpolargl"
           }
          ],
          "scatterternary": [
           {
            "marker": {
             "colorbar": {
              "outlinewidth": 0,
              "ticks": ""
             }
            },
            "type": "scatterternary"
           }
          ],
          "surface": [
           {
            "colorbar": {
             "outlinewidth": 0,
             "ticks": ""
            },
            "colorscale": [
             [
              0,
              "#0d0887"
             ],
             [
              0.1111111111111111,
              "#46039f"
             ],
             [
              0.2222222222222222,
              "#7201a8"
             ],
             [
              0.3333333333333333,
              "#9c179e"
             ],
             [
              0.4444444444444444,
              "#bd3786"
             ],
             [
              0.5555555555555556,
              "#d8576b"
             ],
             [
              0.6666666666666666,
              "#ed7953"
             ],
             [
              0.7777777777777778,
              "#fb9f3a"
             ],
             [
              0.8888888888888888,
              "#fdca26"
             ],
             [
              1,
              "#f0f921"
             ]
            ],
            "type": "surface"
           }
          ],
          "table": [
           {
            "cells": {
             "fill": {
              "color": "#EBF0F8"
             },
             "line": {
              "color": "white"
             }
            },
            "header": {
             "fill": {
              "color": "#C8D4E3"
             },
             "line": {
              "color": "white"
             }
            },
            "type": "table"
           }
          ]
         },
         "layout": {
          "annotationdefaults": {
           "arrowcolor": "#2a3f5f",
           "arrowhead": 0,
           "arrowwidth": 1
          },
          "autotypenumbers": "strict",
          "coloraxis": {
           "colorbar": {
            "outlinewidth": 0,
            "ticks": ""
           }
          },
          "colorscale": {
           "diverging": [
            [
             0,
             "#8e0152"
            ],
            [
             0.1,
             "#c51b7d"
            ],
            [
             0.2,
             "#de77ae"
            ],
            [
             0.3,
             "#f1b6da"
            ],
            [
             0.4,
             "#fde0ef"
            ],
            [
             0.5,
             "#f7f7f7"
            ],
            [
             0.6,
             "#e6f5d0"
            ],
            [
             0.7,
             "#b8e186"
            ],
            [
             0.8,
             "#7fbc41"
            ],
            [
             0.9,
             "#4d9221"
            ],
            [
             1,
             "#276419"
            ]
           ],
           "sequential": [
            [
             0,
             "#0d0887"
            ],
            [
             0.1111111111111111,
             "#46039f"
            ],
            [
             0.2222222222222222,
             "#7201a8"
            ],
            [
             0.3333333333333333,
             "#9c179e"
            ],
            [
             0.4444444444444444,
             "#bd3786"
            ],
            [
             0.5555555555555556,
             "#d8576b"
            ],
            [
             0.6666666666666666,
             "#ed7953"
            ],
            [
             0.7777777777777778,
             "#fb9f3a"
            ],
            [
             0.8888888888888888,
             "#fdca26"
            ],
            [
             1,
             "#f0f921"
            ]
           ],
           "sequentialminus": [
            [
             0,
             "#0d0887"
            ],
            [
             0.1111111111111111,
             "#46039f"
            ],
            [
             0.2222222222222222,
             "#7201a8"
            ],
            [
             0.3333333333333333,
             "#9c179e"
            ],
            [
             0.4444444444444444,
             "#bd3786"
            ],
            [
             0.5555555555555556,
             "#d8576b"
            ],
            [
             0.6666666666666666,
             "#ed7953"
            ],
            [
             0.7777777777777778,
             "#fb9f3a"
            ],
            [
             0.8888888888888888,
             "#fdca26"
            ],
            [
             1,
             "#f0f921"
            ]
           ]
          },
          "colorway": [
           "#636efa",
           "#EF553B",
           "#00cc96",
           "#ab63fa",
           "#FFA15A",
           "#19d3f3",
           "#FF6692",
           "#B6E880",
           "#FF97FF",
           "#FECB52"
          ],
          "font": {
           "color": "#2a3f5f"
          },
          "geo": {
           "bgcolor": "white",
           "lakecolor": "white",
           "landcolor": "#E5ECF6",
           "showlakes": true,
           "showland": true,
           "subunitcolor": "white"
          },
          "hoverlabel": {
           "align": "left"
          },
          "hovermode": "closest",
          "mapbox": {
           "style": "light"
          },
          "paper_bgcolor": "white",
          "plot_bgcolor": "#E5ECF6",
          "polar": {
           "angularaxis": {
            "gridcolor": "white",
            "linecolor": "white",
            "ticks": ""
           },
           "bgcolor": "#E5ECF6",
           "radialaxis": {
            "gridcolor": "white",
            "linecolor": "white",
            "ticks": ""
           }
          },
          "scene": {
           "xaxis": {
            "backgroundcolor": "#E5ECF6",
            "gridcolor": "white",
            "gridwidth": 2,
            "linecolor": "white",
            "showbackground": true,
            "ticks": "",
            "zerolinecolor": "white"
           },
           "yaxis": {
            "backgroundcolor": "#E5ECF6",
            "gridcolor": "white",
            "gridwidth": 2,
            "linecolor": "white",
            "showbackground": true,
            "ticks": "",
            "zerolinecolor": "white"
           },
           "zaxis": {
            "backgroundcolor": "#E5ECF6",
            "gridcolor": "white",
            "gridwidth": 2,
            "linecolor": "white",
            "showbackground": true,
            "ticks": "",
            "zerolinecolor": "white"
           }
          },
          "shapedefaults": {
           "line": {
            "color": "#2a3f5f"
           }
          },
          "ternary": {
           "aaxis": {
            "gridcolor": "white",
            "linecolor": "white",
            "ticks": ""
           },
           "baxis": {
            "gridcolor": "white",
            "linecolor": "white",
            "ticks": ""
           },
           "bgcolor": "#E5ECF6",
           "caxis": {
            "gridcolor": "white",
            "linecolor": "white",
            "ticks": ""
           }
          },
          "title": {
           "x": 0.05
          },
          "xaxis": {
           "automargin": true,
           "gridcolor": "white",
           "linecolor": "white",
           "ticks": "",
           "title": {
            "standoff": 15
           },
           "zerolinecolor": "white",
           "zerolinewidth": 2
          },
          "yaxis": {
           "automargin": true,
           "gridcolor": "white",
           "linecolor": "white",
           "ticks": "",
           "title": {
            "standoff": 15
           },
           "zerolinecolor": "white",
           "zerolinewidth": 2
          }
         }
        },
        "title": {
         "text": "Treemap of Customer Segment"
        },
        "treemapcolorway": [
         "#bad0af",
         "#d5e0cf",
         "#f1f1f1",
         "#f1d4d4"
        ]
       }
      }
     },
     "metadata": {},
     "output_type": "display_data"
    }
   ],
   "source": [
    "# Aggregate data by each customer\n",
    "fig6 = rfm.groupby(['Cluster', 'Segment']).agg({'user_id': lambda x: x.count(), 'Product': lambda x: x.sum(), 'n': lambda x: x.sum()}).reset_index()\n",
    "\n",
    "# Rename columns\n",
    "fig6.rename(columns={'user_id': 'Count','Product' : 'tprod','n' : 'nsum'}, inplace=True)\n",
    "fig6['percent'] = (fig6['nsum'] / fig6['tprod']) * 100\n",
    "fig6['percent'] = fig6['percent'].round(1)\n",
    "\n",
    "fig6.head()\n",
    "colors=['#bad0af','#d5e0cf','#f1f1f1','#f1d4d4'] #color palette\n",
    "import plotly.express as px\n",
    "fig = px.treemap(fig6, path=[px.Constant(\"Fraud\"), 'Cluster', 'Segment', 'tprod','nsum'], values='percent'\n",
    "                ,title=\"Treemap of Customer Segment\")\n",
    "fig.update_traces(root_color=\"lightgrey\")\n",
    "fig.update_layout(margin = dict(t=50, l=25, r=25, b=25))\n",
    "\n",
    "fig.update_layout(\n",
    "    treemapcolorway = colors, #defines the colors in the treemap\n",
    "    margin = dict(t=50, l=25, r=25, b=25))\n",
    "\n",
    "fig.data[0].textinfo = 'label+text+value'\n",
    "fig.show()"
   ]
  },
  {
   "cell_type": "code",
   "execution_count": 154,
   "id": "a7dcb169-9672-4379-becf-2a4cf124fb50",
   "metadata": {},
   "outputs": [
    {
     "data": {
      "text/html": [
       "\n",
       "        <iframe\n",
       "            width=\"100%\"\n",
       "            height=\"650\"\n",
       "            src=\"http://127.0.0.1:8050/\"\n",
       "            frameborder=\"0\"\n",
       "            allowfullscreen\n",
       "            \n",
       "        ></iframe>\n",
       "        "
      ],
      "text/plain": [
       "<IPython.lib.display.IFrame at 0x2930ee60c70>"
      ]
     },
     "metadata": {},
     "output_type": "display_data"
    }
   ],
   "source": [
    "import dash\n",
    "from dash.dependencies import Output\n",
    "from dash.dependencies import Input\n",
    "import plotly.express as px\n",
    "import dash_bootstrap_components as dbc\n",
    "import os\n",
    "import pandas as pd\n",
    "import random\n",
    "from dash import Dash, html, dash_table, dcc, callback, Output, Input\n",
    "import pandas as pd\n",
    "\n",
    "\n",
    "# Initialize the app - incorporate css\n",
    "external_stylesheets = ['https://codepen.io/chriddyp/pen/bWLwgP.css']\n",
    "app = Dash(external_stylesheets=external_stylesheets)\n",
    "\n",
    "# App layout\n",
    "app.layout = [\n",
    "    html.Div([\n",
    "        html.H1('Fraud Events - Dashboard'),\n",
    "        dcc.Tabs(id=\"tabs-example-graph\", value='tab-0-example-graph', children=[\n",
    "            dcc.Tab(label ='Segment', value = 'tab-0-example-graph'),\n",
    "            dcc.Tab(label='Zone Wise', value='tab-1-example-graph'),\n",
    "            dcc.Tab(label='Product Wise', value='tab-2-example-graph'),\n",
    "        ]),\n",
    "        html.Div(id='tabs-content-example-graph')\n",
    "    ])\n",
    "]\n",
    "@callback(Output('tabs-content-example-graph', 'children'),\n",
    "              Input('tabs-example-graph', 'value'))\n",
    "def render_content(tab):\n",
    "    if tab == 'tab-0-example-graph':\n",
    "          return html.Div([html.H3('Total Fraud Activities by Segments'),\n",
    "            \n",
    "            dcc.Graph(figure=fig, id='fraud-treechart-segment')])\n",
    "                           \n",
    "    elif tab == 'tab-1-example-graph':\n",
    "        return html.Div([html.H3('Fraud Activities Forecast by Zone'),\n",
    "\n",
    "           dcc.Dropdown( id = 'dropdown',\n",
    "                options = \n",
    "                    dfz_forecast.reset_index().unique_id.unique(),\n",
    "                    value = dfz_forecast.reset_index().unique_id.unique()[0]),\n",
    "            \n",
    "            dcc.Graph(figure={}, id='fraud-chart-hist'),\n",
    "            dcc.Graph(figure={}, id='fraud-chart-final')\n",
    "          \n",
    "    ])\n",
    "\n",
    "    elif tab == 'tab-2-example-graph':\n",
    "        return html.Div([html.H3('Fraud Activities Forecast by Products'),\n",
    "\n",
    "           dcc.Dropdown( id = 'dropdown',\n",
    "                options = \n",
    "                    df_forecast.reset_index().unique_id.unique(),\n",
    "                    value = df_forecast.reset_index().unique_id.unique()[0]),\n",
    "            \n",
    "            dcc.Graph(figure={}, id='fraud-chart-hist'),\n",
    "            dcc.Graph(figure={}, id='fraud-chart-final')\n",
    "          \n",
    "    ])\n",
    "\n",
    "# Add controls to build the interaction\n",
    "@callback(\n",
    "    Output(component_id='fraud-chart-final', component_property='figure'),\n",
    "    Input(component_id='dropdown', component_property='value')\n",
    ")\n",
    "\n",
    "def update_graph(dropdown_value):\n",
    "  \n",
    "    fig = px.line(df_forecast[df_forecast.index.isin([dropdown_value])], x='ds', y='AutoARIMA',labels={\n",
    "                     \"ds\": \"Timeline\",\n",
    "                     \"AutoARIMA\": \"Fraud Events\"}, title = \"Forecasted Fraud Events\")\n",
    "    return fig\n",
    "\n",
    "# Add controls to build the interaction\n",
    "@callback(\n",
    "    Output(component_id='fraud-chart-hist', component_property='figure'),\n",
    "    Input(component_id='dropdown', component_property='value')\n",
    ")\n",
    "\n",
    "def update_hist(dropdown_value):\n",
    "  \n",
    "    fig = px.line(df_timeseries[df_timeseries.unique_id.isin([dropdown_value])], x='ds', y='y',labels={\n",
    "                     \"ds\": \"Timeline\",\n",
    "                     \"y\": \"Fraud Events\"}, title = \"Historical Trends Fraud Events\")\n",
    "    return fig\n",
    "\n",
    "# Run the app\n",
    "if __name__ == '__main__':\n",
    "    app.run(debug=False)"
   ]
  },
  {
   "cell_type": "code",
   "execution_count": null,
   "id": "56fcf2b3-5218-4a89-9ce4-0de0e0943976",
   "metadata": {},
   "outputs": [],
   "source": []
  }
 ],
 "metadata": {
  "kernelspec": {
   "display_name": "Python 3 (ipykernel)",
   "language": "python",
   "name": "python3"
  },
  "language_info": {
   "codemirror_mode": {
    "name": "ipython",
    "version": 3
   },
   "file_extension": ".py",
   "mimetype": "text/x-python",
   "name": "python",
   "nbconvert_exporter": "python",
   "pygments_lexer": "ipython3",
   "version": "3.10.14"
  }
 },
 "nbformat": 4,
 "nbformat_minor": 5
}
